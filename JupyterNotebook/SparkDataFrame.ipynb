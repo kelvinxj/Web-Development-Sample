{
 "cells": [
  {
   "cell_type": "markdown",
   "metadata": {},
   "source": [
    "# Initialize"
   ]
  },
  {
   "cell_type": "code",
   "execution_count": 1,
   "metadata": {},
   "outputs": [
    {
     "name": "stdout",
     "output_type": "stream",
     "text": [
      "Loading spark-stubs\n",
      "Getting spark JARs\n",
      "Creating SparkSession\n"
     ]
    },
    {
     "name": "stderr",
     "output_type": "stream",
     "text": [
      "Using Spark's default log4j profile: org/apache/spark/log4j-defaults.properties\n"
     ]
    },
    {
     "data": {
      "text/html": [
       "<a target=\"_blank\" href=\"http://192.168.3.29:4040\">Spark UI</a>"
      ]
     },
     "metadata": {},
     "output_type": "display_data"
    },
    {
     "data": {
      "text/plain": [
       "\u001b[32mimport \u001b[39m\u001b[36m$ivy.$                                   // Or use any other 2.x version here\n",
       "\u001b[39m\n",
       "\u001b[32mimport \u001b[39m\u001b[36m$ivy.$                               // Not required since almond 0.7.0 (will be automatically added when importing spark)\n",
       "\n",
       "\u001b[39m\n",
       "\u001b[32mimport \u001b[39m\u001b[36morg.apache.log4j.{Level, Logger}\n",
       "\u001b[39m\n",
       "\u001b[32mimport \u001b[39m\u001b[36morg.apache.spark.sql._\n",
       "\n",
       "//jupyter notebook way to create spark session\n",
       "\u001b[39m\n",
       "\u001b[36mspark\u001b[39m: \u001b[32mSparkSession\u001b[39m = org.apache.spark.sql.SparkSession@10ece09"
      ]
     },
     "execution_count": 1,
     "metadata": {},
     "output_type": "execute_result"
    }
   ],
   "source": [
    "import $ivy.`org.apache.spark::spark-sql:2.4.5` // Or use any other 2.x version here\n",
    "import $ivy.`sh.almond::almond-spark:0.9.1` // Not required since almond 0.7.0 (will be automatically added when importing spark)\n",
    "\n",
    "import org.apache.log4j.{Level, Logger}\n",
    "Logger.getLogger(\"org\").setLevel(Level.OFF)\n",
    "\n",
    "import org.apache.spark.sql._\n",
    "\n",
    "//jupyter notebook way to create spark session\n",
    "val spark = {\n",
    "  NotebookSparkSession.builder()\n",
    "    .master(\"local[*]\")\n",
    "    .getOrCreate()\n",
    "}"
   ]
  },
  {
   "cell_type": "code",
   "execution_count": 2,
   "metadata": {},
   "outputs": [
    {
     "data": {
      "text/plain": [
       "\u001b[36msc\u001b[39m: \u001b[32morg\u001b[39m.\u001b[32mapache\u001b[39m.\u001b[32mspark\u001b[39m.\u001b[32mSparkContext\u001b[39m = org.apache.spark.SparkContext@c3555"
      ]
     },
     "execution_count": 2,
     "metadata": {},
     "output_type": "execute_result"
    }
   ],
   "source": [
    "val sc = spark.sparkContext"
   ]
  },
  {
   "cell_type": "code",
   "execution_count": 3,
   "metadata": {},
   "outputs": [
    {
     "data": {
      "text/plain": [
       "\u001b[36msqlContext\u001b[39m: \u001b[32mSQLContext\u001b[39m = org.apache.spark.sql.SQLContext@b58d0"
      ]
     },
     "execution_count": 3,
     "metadata": {},
     "output_type": "execute_result"
    }
   ],
   "source": [
    "val sqlContext = new SQLContext(sc)"
   ]
  },
  {
   "cell_type": "code",
   "execution_count": 4,
   "metadata": {},
   "outputs": [
    {
     "data": {
      "text/plain": [
       "\u001b[32mimport \u001b[39m\u001b[36msqlContext.implicits._\u001b[39m"
      ]
     },
     "execution_count": 4,
     "metadata": {},
     "output_type": "execute_result"
    }
   ],
   "source": [
    "import sqlContext.implicits._"
   ]
  },
  {
   "cell_type": "markdown",
   "metadata": {},
   "source": [
    "# Define case class Flight"
   ]
  },
  {
   "cell_type": "code",
   "execution_count": 5,
   "metadata": {},
   "outputs": [
    {
     "data": {
      "text/plain": [
       "defined \u001b[32mclass\u001b[39m \u001b[36mFlight\u001b[39m\n",
       "defined \u001b[32mobject\u001b[39m \u001b[36mFlight\u001b[39m"
      ]
     },
     "execution_count": 5,
     "metadata": {},
     "output_type": "execute_result"
    }
   ],
   "source": [
    "case class Flight(\n",
    "                 date: Flight.Date,  //fields 1-4.\n",
    "                 times: Flight.Times,//fields 5-8, 12-16, 20-21,\n",
    "                 uniqueCarrier: String, //9: unique carrier code\n",
    "                 flightNum: Int,        //10: flight number\n",
    "                 tailNum: String,       //11: plane tail number\n",
    "                 origin: String,        //17: origin IATA airport code\n",
    "                 dest: String,          //18: destination IATA airport code\n",
    "                 distance: Int,         //19: in miles\n",
    "                 cancelled: Int,        //22: was flight canceled?\n",
    "                 cancellationCode: String, //23: reason for cancellation(A=Carrier, B=weather, C=NAS)\n",
    "                 diverted: Int,         //24: 1=yes, 0=no\n",
    "                 carrierDelay: Int,     //25: in minutes\n",
    "                 weatherDelay: Int,     //26: in minutes\n",
    "                 nasDelay: Int,         //27: in minutes\n",
    "                 securitDelay: Int,     //28: in minutes\n",
    "                 lateAircraftDelay: Int //29: in minutes\n",
    ")\n",
    "\n",
    "object Flight{\n",
    "  def parse(str:String):Flight={\n",
    "    val fields = str.split(\",\")\n",
    "    val date: Flight.Date = Flight.Date(Integer.parseInt(fields(0)),Integer.parseInt(fields(1)),Integer.parseInt(fields(2)),Integer.parseInt(fields(3)))\n",
    "    /*\n",
    "     case class Times(\n",
    "                  depTime: Int,             //5: autal departure time(local,hhmm)\n",
    "                  crsDepTime: Int,          //6: scheduled departure time\n",
    "                  arrTime: Int,             //7: actual arrival time\n",
    "                  crsArrTime: Int,          //8: scheduled arrival time\n",
    "                  actualElapsedTime: Int,   //12: in minutes\n",
    "                  crsElapsedTime: Int,      //13: in minutes\n",
    "                  airTime: Int,             //14: in minutes\n",
    "                  arrDelay: Int,            //15: arrival delay, in minutes\n",
    "                  depDelay: Int,            //16: departure delay, in minutes\n",
    "                  taxiIn: Int,              //20: taxi in time, in minutes\n",
    "                  taxiOut: Int              //21: taxi out time, in minutes\n",
    "                  ) extends Ordered[Times] {\n",
    "     */\n",
    "    val times: Flight.Times = Flight.Times(Integer.parseInt(fields(4)),Integer.parseInt(fields(5))\n",
    "      ,Integer.parseInt(fields(6)),Integer.parseInt(fields(7)),Integer.parseInt(fields(11)),Integer.parseInt(fields(12))\n",
    "      ,Integer.parseInt(fields(13)),Integer.parseInt(fields(14)),Integer.parseInt(fields(15))\n",
    "      ,Integer.parseInt(fields(19)),Integer.parseInt(fields(20)))\n",
    "    /*\n",
    "    case class Flight(\n",
    "                 date: Flight.Date,  //fields 1-4.\n",
    "                 times: Flight.Times,//fields 5-8, 12-16, 20-21,\n",
    "                 uniqueCarrier: String, //9: unique carrier code\n",
    "                 flightNum: Int,        //10: flight number\n",
    "                 tailNum: String,       //11: plane tail number\n",
    "                 origin: String,        //17: origin IATA airport code\n",
    "                 dest: String,          //18: destination IATA airport code\n",
    "                 distance: Int,         //19: in miles\n",
    "                 cancelled: Int,        //22: was flight canceled?\n",
    "                 cancellationCode: Int, //23: reason for cancellation(A=Carrier, B=weather, C=NAS)\n",
    "                 diverted: Int,         //24: 1=yes, 0=no\n",
    "                 carrierDelay: Int,     //25: in minutes\n",
    "                 weatherDelay: Int,     //26: in minutes\n",
    "                 nasDelay: Int,         //27: in minutes\n",
    "                 securitDelay: Int,     //28: in minutes\n",
    "                 lateAircraftDelay: Int //29: in minutes\n",
    "                 )\n",
    "     */\n",
    "    val carrier = fields(8)\n",
    "    val flightNum = Integer.parseInt(fields(9))\n",
    "    val tailNum = fields(10)\n",
    "    val origin = fields(16)\n",
    "    val dest = fields(17)\n",
    "    val distance = Integer.parseInt(fields(18))\n",
    "\n",
    "    val cancelled = Integer.parseInt(fields(21))\n",
    "    //val cancellationCode = if(fields(22).trim.length != 0) Integer.parseInt(fields(22)) else 0\n",
    "    val cancellationCode = fields(22)\n",
    "\n",
    "    val diverted = Integer.parseInt(fields(23))\n",
    "\n",
    "    val carrierDelay = if(fields(24).trim != \"NA\") Integer.parseInt(fields(24)) else 0\n",
    "    val weatherDelay = if(fields(25).trim != \"NA\") Integer.parseInt(fields(25)) else 0\n",
    "    val nasDelay = if(fields(26).trim != \"NA\") Integer.parseInt(fields(26)) else 0\n",
    "    val securitDelay = if(fields(27).trim != \"NA\") Integer.parseInt(fields(27)) else 0\n",
    "    val lateAircraftDelay = if(fields(28).trim != \"NA\") Integer.parseInt(fields(28)) else 0\n",
    "\n",
    "    Flight(date,times,carrier,flightNum,tailNum,origin,dest,distance, cancelled,cancellationCode,diverted,carrierDelay,weatherDelay,nasDelay,securitDelay,lateAircraftDelay)\n",
    "  }\n",
    "  case class Date(\n",
    "                 year: Int,  //1: 1987-2008\n",
    "                 month: Int, //2: 1-12\n",
    "                 dayOfMonth: Int, //3: 1-31\n",
    "                 dayOfWeek: Int   //4: 1(Monday) - 7(Sunday)\n",
    "                 )extends Ordered[Date] {\n",
    "    override def compare(that: Date):Int={\n",
    "      val diffYear = this.year - that.year\n",
    "      if(diffYear != 0 )\n",
    "        diffYear\n",
    "      else{\n",
    "        val diffMonth = month - that.month\n",
    "        if(diffMonth != 0)\n",
    "          diffMonth\n",
    "        else\n",
    "          dayOfMonth - that.dayOfMonth\n",
    "      }\n",
    "    }\n",
    "\n",
    "    //counts from 1 and starts at Monday\n",
    "    private val dayOfWeekToString = Vector(\n",
    "      \"\",\"Monday\",\"Tuesday\",\"Wednesday\",\"Thursday\",\"Friday\",\"Saturday\",\"Sunday\"\n",
    "    )\n",
    "\n",
    "    override def toString: String = \"%4d-%02d-%02d(%s)\".format(year,month,dayOfMonth,dayOfWeekToString(dayOfWeek))\n",
    "  }\n",
    "\n",
    "  case class Times(\n",
    "                  depTime: Int,             //5: autal departure time(local,hhmm)\n",
    "                  crsDepTime: Int,          //6: scheduled departure time\n",
    "                  arrTime: Int,             //7: actual arrival time\n",
    "                  crsArrTime: Int,          //8: scheduled arrival time\n",
    "                  actualElapsedTime: Int,   //12: in minutes\n",
    "                  crsElapsedTime: Int,      //13: in minutes\n",
    "                  airTime: Int,             //14: in minutes\n",
    "                  arrDelay: Int,            //15: arrival delay, in minutes\n",
    "                  depDelay: Int,            //16: departure delay, in minutes\n",
    "                  taxiIn: Int,              //20: taxi in time, in minutes\n",
    "                  taxiOut: Int              //21: taxi out time, in minutes\n",
    "                  ) extends Ordered[Times] {\n",
    "    /** only compare the first four fields */\n",
    "    override def compare(that: Times): Int ={\n",
    "      val diffDepTime = depTime - that.depTime\n",
    "      if(diffDepTime != 0) diffDepTime\n",
    "      else{\n",
    "        val diffCrsDepTime = crsDepTime - that.crsDepTime\n",
    "        if(diffCrsDepTime != 0)\n",
    "          diffCrsDepTime\n",
    "        else{\n",
    "          val diffArrTime = arrTime - that.arrTime\n",
    "          if(diffArrTime != 0)\n",
    "            diffArrTime\n",
    "          else\n",
    "            crsArrTime - that.crsArrTime\n",
    "        }\n",
    "      }\n",
    "    }\n",
    "  }\n",
    "}"
   ]
  },
  {
   "cell_type": "markdown",
   "metadata": {},
   "source": [
    "# Test case class Flight"
   ]
  },
  {
   "cell_type": "code",
   "execution_count": 6,
   "metadata": {},
   "outputs": [
    {
     "name": "stdout",
     "output_type": "stream",
     "text": [
      "234;2008-01-01(Tuesday)\n"
     ]
    },
    {
     "data": {
      "text/plain": [
       "\u001b[36mflight\u001b[39m: \u001b[32mFlight\u001b[39m = \u001b[33mFlight\u001b[39m(\n",
       "  \u001b[33mDate\u001b[39m(\u001b[32m2008\u001b[39m, \u001b[32m1\u001b[39m, \u001b[32m1\u001b[39m, \u001b[32m2\u001b[39m),\n",
       "  \u001b[33mTimes\u001b[39m(\u001b[32m2057\u001b[39m, \u001b[32m2052\u001b[39m, \u001b[32m2312\u001b[39m, \u001b[32m2258\u001b[39m, \u001b[32m135\u001b[39m, \u001b[32m126\u001b[39m, \u001b[32m112\u001b[39m, \u001b[32m14\u001b[39m, \u001b[32m5\u001b[39m, \u001b[32m7\u001b[39m, \u001b[32m16\u001b[39m),\n",
       "  \u001b[32m\"AS\"\u001b[39m,\n",
       "  \u001b[32m234\u001b[39m,\n",
       "  \u001b[32m\"N306AS\"\u001b[39m,\n",
       "  \u001b[32m\"SEA\"\u001b[39m,\n",
       "  \u001b[32m\"SJC\"\u001b[39m,\n",
       "  \u001b[32m697\u001b[39m,\n",
       "  \u001b[32m0\u001b[39m,\n",
       "  \u001b[32m\"\"\u001b[39m,\n",
       "  \u001b[32m0\u001b[39m,\n",
       "  \u001b[32m0\u001b[39m,\n",
       "  \u001b[32m0\u001b[39m,\n",
       "  \u001b[32m0\u001b[39m,\n",
       "  \u001b[32m0\u001b[39m,\n",
       "  \u001b[32m0\u001b[39m\n",
       ")"
      ]
     },
     "execution_count": 6,
     "metadata": {},
     "output_type": "execute_result"
    }
   ],
   "source": [
    "val flight = Flight.parse(\"2008,1,1,2,2057,2052,2312,2258,AS,234,N306AS,135,126,112,14,5,SEA,SJC,697,7,16,0,,0,NA,NA,NA,NA,NA\")\n",
    "println(flight.flightNum + \";\" + flight.date)"
   ]
  },
  {
   "cell_type": "markdown",
   "metadata": {},
   "source": [
    "# Create Flight RDD"
   ]
  },
  {
   "cell_type": "code",
   "execution_count": 7,
   "metadata": {},
   "outputs": [
    {
     "data": {
      "text/html": [
       "<script>\n",
       "var comm = Jupyter.notebook.kernel.comm_manager.new_comm('cancel-stage-9d2afa6d-fc6c-435b-8daf-82902bbe41bf', {});\n",
       "\n",
       "function cancelStage(stageId) {\n",
       "  console.log('Cancelling stage ' + stageId);\n",
       "  comm.send({ 'stageId': stageId });\n",
       "}\n",
       "</script>\n",
       "          "
      ]
     },
     "metadata": {},
     "output_type": "display_data"
    },
    {
     "data": {
      "text/html": [
       "<div>\n",
       "  <span style=\"float: left;\">first at cmd6.sc:2</span>\n",
       "</div>\n"
      ]
     },
     "metadata": {},
     "output_type": "display_data"
    },
    {
     "data": {
      "text/html": [
       "<div class=\"progress\">\n",
       "  <div class=\"progress-bar\" role=\"progressbar\" style=\"background-color: blue; width: 100%; word-wrap: normal; white-space: nowrap; text-align: center; color: white\" aria-valuenow=\"100\" aria-valuemin=\"0\" aria-valuemax=\"100\">\n",
       "    1 / 1\n",
       "  </div>\n",
       "  <div class=\"progress-bar\" role=\"progressbar\" style=\"background-color: red; width: 0%\" aria-valuenow=\"0\" aria-valuemin=\"0\" aria-valuemax=\"100\"></div>\n",
       "</div>\n"
      ]
     },
     "metadata": {},
     "output_type": "display_data"
    },
    {
     "data": {
      "text/plain": [
       "\u001b[36mflightTextRDD\u001b[39m: \u001b[32morg\u001b[39m.\u001b[32mapache\u001b[39m.\u001b[32mspark\u001b[39m.\u001b[32mrdd\u001b[39m.\u001b[32mRDD\u001b[39m[\u001b[32mString\u001b[39m] = /home/pi/sparktest/data/sparkdataframe/flights.csv MapPartitionsRDD[1] at textFile at cmd6.sc:1\n",
       "\u001b[36mheader\u001b[39m: \u001b[32mString\u001b[39m = \u001b[32m\"1-year,2-month,3-dayOfMonth,4-dayOfWeek,5-ActualDepartureTime,6-ScheduleDepartureTime,7-actualArrivalTime,8-scheduleArrivalTime,9-CarrierCode,10-flightNum,11-planeTailNum,12-actualElapsedTime,13-crsElapsedTime,14-airTime,15-ArrivalDelay,16-DepartureDelay,17-OriginAirportCode,18-DestAirportCode,19-Miles,20-taxiInTime,21-TaxiOutTime,22-flightCanceled?,23-CacellationReason,24-diverted,25-CarrierDelay,26-weatherDelay,27-nasDelay,28-SecurityDelay,29-lateAircraftDelay\"\u001b[39m\n",
       "\u001b[36mflightRDD\u001b[39m: \u001b[32morg\u001b[39m.\u001b[32mapache\u001b[39m.\u001b[32mspark\u001b[39m.\u001b[32mrdd\u001b[39m.\u001b[32mRDD\u001b[39m[\u001b[32mString\u001b[39m] = MapPartitionsRDD[2] at filter at cmd6.sc:3"
      ]
     },
     "execution_count": 7,
     "metadata": {},
     "output_type": "execute_result"
    }
   ],
   "source": [
    "val flightTextRDD = sc.textFile(\"/home/pi/sparktest/data/sparkdataframe/flights.csv\")\n",
    "val header = flightTextRDD.first()\n",
    "val flightRDD = flightTextRDD.filter(_!=header)"
   ]
  },
  {
   "cell_type": "code",
   "execution_count": 8,
   "metadata": {},
   "outputs": [
    {
     "data": {
      "text/html": [
       "<div>\n",
       "  <span style=\"float: left;\">collect at cmd7.sc:1</span>\n",
       "</div>\n"
      ]
     },
     "metadata": {},
     "output_type": "display_data"
    },
    {
     "data": {
      "text/html": [
       "<div class=\"progress\">\n",
       "  <div class=\"progress-bar\" role=\"progressbar\" style=\"background-color: blue; width: 100%; word-wrap: normal; white-space: nowrap; text-align: center; color: white\" aria-valuenow=\"100\" aria-valuemin=\"0\" aria-valuemax=\"100\">\n",
       "    2 / 2\n",
       "  </div>\n",
       "  <div class=\"progress-bar\" role=\"progressbar\" style=\"background-color: red; width: 0%\" aria-valuenow=\"0\" aria-valuemin=\"0\" aria-valuemax=\"100\"></div>\n",
       "</div>\n"
      ]
     },
     "metadata": {},
     "output_type": "display_data"
    },
    {
     "data": {
      "text/plain": [
       "\u001b[36mres7\u001b[39m: \u001b[32mArray\u001b[39m[\u001b[32mString\u001b[39m] = \u001b[33mArray\u001b[39m(\n",
       "  \u001b[32m\"2008,1,1,2,2057,2052,2312,2258,AS,234,N306AS,135,126,112,14,5,SEA,SJC,697,7,16,1,A,0,NA,NA,NA,NA,NA\"\u001b[39m,\n",
       "  \u001b[32m\"2008,11,1,2,2057,2052,2312,2258,AS,234,N309AS,135,126,112,14,5,SEA,SJC,697,7,16,1,A,0,NA,NA,NA,NA,NA\"\u001b[39m,\n",
       "  \u001b[32m\"2008,1,1,2,703,715,958,951,AS,572,N302AS,175,156,144,7,-12,SEA,PSP,987,6,25,0,,0,NA,NA,NA,NA,NA\"\u001b[39m\n",
       ")"
      ]
     },
     "execution_count": 8,
     "metadata": {},
     "output_type": "execute_result"
    }
   ],
   "source": [
    "flightRDD.collect()"
   ]
  },
  {
   "cell_type": "code",
   "execution_count": 9,
   "metadata": {},
   "outputs": [
    {
     "data": {
      "text/plain": [
       "\u001b[36mflightObjRDD\u001b[39m: \u001b[32morg\u001b[39m.\u001b[32mapache\u001b[39m.\u001b[32mspark\u001b[39m.\u001b[32mrdd\u001b[39m.\u001b[32mRDD\u001b[39m[\u001b[32mFlight\u001b[39m] = MapPartitionsRDD[4] at map at cmd8.sc:2"
      ]
     },
     "execution_count": 9,
     "metadata": {},
     "output_type": "execute_result"
    }
   ],
   "source": [
    "val flightObjRDD = for{\n",
    "    line <- flightRDD\n",
    "    singleFlight = Flight.parse(line)\n",
    "}yield singleFlight"
   ]
  },
  {
   "cell_type": "code",
   "execution_count": 10,
   "metadata": {},
   "outputs": [
    {
     "data": {
      "text/html": [
       "<div>\n",
       "  <span style=\"float: left;\">foreach at cmd9.sc:1</span>\n",
       "</div>\n"
      ]
     },
     "metadata": {},
     "output_type": "display_data"
    },
    {
     "data": {
      "text/html": [
       "<div class=\"progress\">\n",
       "  <div class=\"progress-bar\" role=\"progressbar\" style=\"background-color: blue; width: 100%; word-wrap: normal; white-space: nowrap; text-align: center; color: white\" aria-valuenow=\"100\" aria-valuemin=\"0\" aria-valuemax=\"100\">\n",
       "    2 / 2\n",
       "  </div>\n",
       "  <div class=\"progress-bar\" role=\"progressbar\" style=\"background-color: red; width: 0%\" aria-valuenow=\"0\" aria-valuemin=\"0\" aria-valuemax=\"100\"></div>\n",
       "</div>\n"
      ]
     },
     "metadata": {},
     "output_type": "display_data"
    },
    {
     "name": "stdout",
     "output_type": "stream",
     "text": [
      "Flight(2008-01-01(Tuesday),Times(2057,2052,2312,2258,135,126,112,14,5,7,16),AS,234,N306AS,SEA,SJC,697,1,A,0,0,0,0,0,0)\n",
      "Flight(2008-11-01(Tuesday),Times(2057,2052,2312,2258,135,126,112,14,5,7,16),AS,234,N309AS,SEA,SJC,697,1,A,0,0,0,0,0,0)\n",
      "Flight(2008-01-01(Tuesday),Times(703,715,958,951,175,156,144,7,-12,6,25),AS,572,N302AS,SEA,PSP,987,0,,0,0,0,0,0,0)\n"
     ]
    }
   ],
   "source": [
    "flightObjRDD.foreach(println)"
   ]
  },
  {
   "cell_type": "markdown",
   "metadata": {},
   "source": [
    "# Define case class Airport"
   ]
  },
  {
   "cell_type": "code",
   "execution_count": 11,
   "metadata": {},
   "outputs": [
    {
     "name": "stdout",
     "output_type": "stream",
     "text": [
      "00M\n"
     ]
    },
    {
     "data": {
      "text/plain": [
       "defined \u001b[32mclass\u001b[39m \u001b[36mAirport\u001b[39m\n",
       "defined \u001b[32mobject\u001b[39m \u001b[36mAirport\u001b[39m\n",
       "\u001b[36ma\u001b[39m: \u001b[32mAirport\u001b[39m = \u001b[33mAirport\u001b[39m(\n",
       "  \u001b[32m\"00M\"\u001b[39m,\n",
       "  \u001b[32m\"Thigpen\"\u001b[39m,\n",
       "  \u001b[32m\"Bay Springs\"\u001b[39m,\n",
       "  \u001b[32m\"MS\"\u001b[39m,\n",
       "  \u001b[32m\"USA\"\u001b[39m,\n",
       "  \u001b[32m31.953764F\u001b[39m,\n",
       "  \u001b[32m-89.234505F\u001b[39m\n",
       ")"
      ]
     },
     "execution_count": 11,
     "metadata": {},
     "output_type": "execute_result"
    }
   ],
   "source": [
    "case class Airport(\n",
    "    iataCode: String,\n",
    "    airportName: String,\n",
    "    cityName: String,\n",
    "    stateName: String,\n",
    "    countryName: String,\n",
    "    latitude: Float,\n",
    "    longitude: Float\n",
    ")\n",
    "\n",
    "object Airport{\n",
    "    def parse(str:String):Airport={\n",
    "        val fields = str.split(\",\")\n",
    "        Airport(fields(0).replace(\"\\\"\",\"\")\n",
    "                ,fields(1).replace(\"\\\"\",\"\")\n",
    "                ,fields(2).replace(\"\\\"\",\"\")\n",
    "                ,fields(3).replace(\"\\\"\",\"\")\n",
    "                ,fields(4).replace(\"\\\"\",\"\")\n",
    "                ,java.lang.Float.parseFloat(fields(5))\n",
    "                ,java.lang.Float.parseFloat(fields(6))\n",
    "            )\n",
    "    }\n",
    "}\n",
    "\n",
    "val a = Airport.parse(\"\"\"\"00M\",\"Thigpen\",\"Bay Springs\",\"MS\",\"USA\",31.95376472,-89.23450472\"\"\")\n",
    "println(a.iataCode)"
   ]
  },
  {
   "cell_type": "markdown",
   "metadata": {},
   "source": [
    "# Create Airport RDD"
   ]
  },
  {
   "cell_type": "code",
   "execution_count": 12,
   "metadata": {},
   "outputs": [
    {
     "data": {
      "text/html": [
       "<div>\n",
       "  <span style=\"float: left;\">first at cmd11.sc:2</span>\n",
       "</div>\n"
      ]
     },
     "metadata": {},
     "output_type": "display_data"
    },
    {
     "data": {
      "text/html": [
       "<div class=\"progress\">\n",
       "  <div class=\"progress-bar\" role=\"progressbar\" style=\"background-color: blue; width: 100%; word-wrap: normal; white-space: nowrap; text-align: center; color: white\" aria-valuenow=\"100\" aria-valuemin=\"0\" aria-valuemax=\"100\">\n",
       "    1 / 1\n",
       "  </div>\n",
       "  <div class=\"progress-bar\" role=\"progressbar\" style=\"background-color: red; width: 0%\" aria-valuenow=\"0\" aria-valuemin=\"0\" aria-valuemax=\"100\"></div>\n",
       "</div>\n"
      ]
     },
     "metadata": {},
     "output_type": "display_data"
    },
    {
     "data": {
      "text/plain": [
       "\u001b[36mairportTextRdd\u001b[39m: \u001b[32morg\u001b[39m.\u001b[32mapache\u001b[39m.\u001b[32mspark\u001b[39m.\u001b[32mrdd\u001b[39m.\u001b[32mRDD\u001b[39m[\u001b[32mString\u001b[39m] = /home/pi/sparktest/data/sparkdataframe/airports.csv MapPartitionsRDD[6] at textFile at cmd11.sc:1\n",
       "\u001b[36mheader\u001b[39m: \u001b[32mString\u001b[39m = \u001b[32m\"1-\\\"iata\\\",2-\\\"airport\\\",3-\\\"city\\\",4-\\\"state\\\",5-\\\"country\\\",6-\\\"lat\\\",\\\"7-long\\\"\"\u001b[39m\n",
       "\u001b[36mairportRDD\u001b[39m: \u001b[32morg\u001b[39m.\u001b[32mapache\u001b[39m.\u001b[32mspark\u001b[39m.\u001b[32mrdd\u001b[39m.\u001b[32mRDD\u001b[39m[\u001b[32mString\u001b[39m] = MapPartitionsRDD[7] at filter at cmd11.sc:3"
      ]
     },
     "execution_count": 12,
     "metadata": {},
     "output_type": "execute_result"
    }
   ],
   "source": [
    "val airportTextRdd = sc.textFile(\"/home/pi/sparktest/data/sparkdataframe/airports.csv\")\n",
    "val header = airportTextRdd.first()\n",
    "val airportRDD = airportTextRdd.filter(_!=header)"
   ]
  },
  {
   "cell_type": "code",
   "execution_count": 13,
   "metadata": {},
   "outputs": [
    {
     "data": {
      "text/plain": [
       "\u001b[36mairportObjRDD\u001b[39m: \u001b[32morg\u001b[39m.\u001b[32mapache\u001b[39m.\u001b[32mspark\u001b[39m.\u001b[32mrdd\u001b[39m.\u001b[32mRDD\u001b[39m[\u001b[32mAirport\u001b[39m] = MapPartitionsRDD[9] at map at cmd12.sc:2"
      ]
     },
     "execution_count": 13,
     "metadata": {},
     "output_type": "execute_result"
    }
   ],
   "source": [
    "val airportObjRDD = for{\n",
    "    line <- airportRDD\n",
    "    singleAirport = Airport.parse(line)\n",
    "}yield singleAirport"
   ]
  },
  {
   "cell_type": "markdown",
   "metadata": {},
   "source": [
    "# Create DataFrame"
   ]
  },
  {
   "cell_type": "code",
   "execution_count": 14,
   "metadata": {},
   "outputs": [
    {
     "data": {
      "text/plain": [
       "\u001b[36mflights\u001b[39m: \u001b[32mDataFrame\u001b[39m = [date: struct<year: int, month: int ... 2 more fields>, times: struct<depTime: int, crsDepTime: int ... 9 more fields> ... 14 more fields]\n",
       "\u001b[36mairports\u001b[39m: \u001b[32mDataFrame\u001b[39m = [iataCode: string, airportName: string ... 5 more fields]\n",
       "\u001b[36mres13_2\u001b[39m: \u001b[32mDataFrame\u001b[39m = [date: struct<year: int, month: int ... 2 more fields>, times: struct<depTime: int, crsDepTime: int ... 9 more fields> ... 14 more fields]\n",
       "\u001b[36mres13_3\u001b[39m: \u001b[32mDataFrame\u001b[39m = [iataCode: string, airportName: string ... 5 more fields]"
      ]
     },
     "execution_count": 14,
     "metadata": {},
     "output_type": "execute_result"
    }
   ],
   "source": [
    "val flights = sqlContext.createDataFrame(flightObjRDD)\n",
    "val airports = sqlContext.createDataFrame(airportObjRDD)\n",
    "\n",
    "flights.cache\n",
    "airports.cache()"
   ]
  },
  {
   "cell_type": "markdown",
   "metadata": {},
   "source": [
    "# Using DataFrame API"
   ]
  },
  {
   "cell_type": "markdown",
   "metadata": {},
   "source": [
    "## API: filter"
   ]
  },
  {
   "cell_type": "code",
   "execution_count": 15,
   "metadata": {},
   "outputs": [
    {
     "data": {
      "text/html": [
       "<div>\n",
       "  <span style=\"float: left;\">show at cmd14.sc:5</span>\n",
       "</div>\n"
      ]
     },
     "metadata": {},
     "output_type": "display_data"
    },
    {
     "data": {
      "text/html": [
       "<div class=\"progress\">\n",
       "  <div class=\"progress-bar\" role=\"progressbar\" style=\"background-color: blue; width: 100%; word-wrap: normal; white-space: nowrap; text-align: center; color: white\" aria-valuenow=\"100\" aria-valuemin=\"0\" aria-valuemax=\"100\">\n",
       "    1 / 1\n",
       "  </div>\n",
       "  <div class=\"progress-bar\" role=\"progressbar\" style=\"background-color: red; width: 0%\" aria-valuenow=\"0\" aria-valuemin=\"0\" aria-valuemax=\"100\"></div>\n",
       "</div>\n"
      ]
     },
     "metadata": {},
     "output_type": "display_data"
    },
    {
     "data": {
      "text/html": [
       "<div>\n",
       "  <span style=\"float: left;\">show at cmd14.sc:5</span>\n",
       "</div>\n"
      ]
     },
     "metadata": {},
     "output_type": "display_data"
    },
    {
     "data": {
      "text/html": [
       "<div class=\"progress\">\n",
       "  <div class=\"progress-bar\" role=\"progressbar\" style=\"background-color: blue; width: 100%; word-wrap: normal; white-space: nowrap; text-align: center; color: white\" aria-valuenow=\"100\" aria-valuemin=\"0\" aria-valuemax=\"100\">\n",
       "    1 / 1\n",
       "  </div>\n",
       "  <div class=\"progress-bar\" role=\"progressbar\" style=\"background-color: red; width: 0%\" aria-valuenow=\"0\" aria-valuemin=\"0\" aria-valuemax=\"100\"></div>\n",
       "</div>\n"
      ]
     },
     "metadata": {},
     "output_type": "display_data"
    },
    {
     "name": "stdout",
     "output_type": "stream",
     "text": [
      "+----------------+--------------------+-------------+---------+-------+------+----+--------+---------+----------------+--------+------------+------------+--------+------------+-----------------+\n",
      "|            date|               times|uniqueCarrier|flightNum|tailNum|origin|dest|distance|cancelled|cancellationCode|diverted|carrierDelay|weatherDelay|nasDelay|securitDelay|lateAircraftDelay|\n",
      "+----------------+--------------------+-------------+---------+-------+------+----+--------+---------+----------------+--------+------------+------------+--------+------------+-----------------+\n",
      "| [2008, 1, 1, 2]|[2057, 2052, 2312...|           AS|      234| N306AS|   SEA| SJC|     697|        1|               A|       0|           0|           0|       0|           0|                0|\n",
      "|[2008, 11, 1, 2]|[2057, 2052, 2312...|           AS|      234| N309AS|   SEA| SJC|     697|        1|               A|       0|           0|           0|       0|           0|                0|\n",
      "+----------------+--------------------+-------------+---------+-------+------+----+--------+---------+----------------+--------+------------+------------+--------+------------+-----------------+\n",
      "\n"
     ]
    },
    {
     "data": {
      "text/plain": [
       "\u001b[36mcanceledFlights\u001b[39m: \u001b[32mDataset\u001b[39m[\u001b[32mRow\u001b[39m] = [date: struct<year: int, month: int ... 2 more fields>, times: struct<depTime: int, crsDepTime: int ... 9 more fields> ... 14 more fields]\n",
       "\u001b[36mres14_1\u001b[39m: \u001b[32mDataset\u001b[39m[\u001b[32mRow\u001b[39m] = [date: struct<year: int, month: int ... 2 more fields>, times: struct<depTime: int, crsDepTime: int ... 9 more fields> ... 14 more fields]"
      ]
     },
     "execution_count": 15,
     "metadata": {},
     "output_type": "execute_result"
    }
   ],
   "source": [
    "val canceledFlights = flights.filter(flights(\"cancelled\") > 0)\n",
    "//explain the query\n",
    "//canceledFlights.explain(extended=false)\n",
    "canceledFlights.cache\n",
    "canceledFlights.show()"
   ]
  },
  {
   "cell_type": "markdown",
   "metadata": {},
   "source": [
    "## API: orderBy"
   ]
  },
  {
   "cell_type": "code",
   "execution_count": 16,
   "metadata": {},
   "outputs": [
    {
     "data": {
      "text/html": [
       "<div>\n",
       "  <span style=\"float: left;\">show at cmd15.sc:1</span>\n",
       "</div>\n"
      ]
     },
     "metadata": {},
     "output_type": "display_data"
    },
    {
     "data": {
      "text/html": [
       "<div class=\"progress\">\n",
       "  <div class=\"progress-bar\" role=\"progressbar\" style=\"background-color: blue; width: 100%; word-wrap: normal; white-space: nowrap; text-align: center; color: white\" aria-valuenow=\"100\" aria-valuemin=\"0\" aria-valuemax=\"100\">\n",
       "    2 / 2\n",
       "  </div>\n",
       "  <div class=\"progress-bar\" role=\"progressbar\" style=\"background-color: red; width: 0%\" aria-valuenow=\"0\" aria-valuemin=\"0\" aria-valuemax=\"100\"></div>\n",
       "</div>\n"
      ]
     },
     "metadata": {},
     "output_type": "display_data"
    },
    {
     "name": "stdout",
     "output_type": "stream",
     "text": [
      "+----------------+--------------------+-------------+---------+-------+------+----+--------+---------+----------------+--------+------------+------------+--------+------------+-----------------+\n",
      "|            date|               times|uniqueCarrier|flightNum|tailNum|origin|dest|distance|cancelled|cancellationCode|diverted|carrierDelay|weatherDelay|nasDelay|securitDelay|lateAircraftDelay|\n",
      "+----------------+--------------------+-------------+---------+-------+------+----+--------+---------+----------------+--------+------------+------------+--------+------------+-----------------+\n",
      "| [2008, 1, 1, 2]|[703, 715, 958, 9...|           AS|      572| N302AS|   SEA| PSP|     987|        0|                |       0|           0|           0|       0|           0|                0|\n",
      "| [2008, 1, 1, 2]|[2057, 2052, 2312...|           AS|      234| N306AS|   SEA| SJC|     697|        1|               A|       0|           0|           0|       0|           0|                0|\n",
      "|[2008, 11, 1, 2]|[2057, 2052, 2312...|           AS|      234| N309AS|   SEA| SJC|     697|        1|               A|       0|           0|           0|       0|           0|                0|\n",
      "+----------------+--------------------+-------------+---------+-------+------+----+--------+---------+----------------+--------+------------+------------+--------+------------+-----------------+\n",
      "\n"
     ]
    },
    {
     "data": {
      "text/html": [
       "<div>\n",
       "  <span style=\"float: left;\">show at cmd15.sc:3</span>\n",
       "</div>\n"
      ]
     },
     "metadata": {},
     "output_type": "display_data"
    },
    {
     "data": {
      "text/html": [
       "<div class=\"progress\">\n",
       "  <div class=\"progress-bar\" role=\"progressbar\" style=\"background-color: blue; width: 100%; word-wrap: normal; white-space: nowrap; text-align: center; color: white\" aria-valuenow=\"100\" aria-valuemin=\"0\" aria-valuemax=\"100\">\n",
       "    2 / 2\n",
       "  </div>\n",
       "  <div class=\"progress-bar\" role=\"progressbar\" style=\"background-color: red; width: 0%\" aria-valuenow=\"0\" aria-valuemin=\"0\" aria-valuemax=\"100\"></div>\n",
       "</div>\n"
      ]
     },
     "metadata": {},
     "output_type": "display_data"
    },
    {
     "name": "stdout",
     "output_type": "stream",
     "text": [
      "+----------------+--------------------+-------------+---------+-------+------+----+--------+---------+----------------+--------+------------+------------+--------+------------+-----------------+\n",
      "|            date|               times|uniqueCarrier|flightNum|tailNum|origin|dest|distance|cancelled|cancellationCode|diverted|carrierDelay|weatherDelay|nasDelay|securitDelay|lateAircraftDelay|\n",
      "+----------------+--------------------+-------------+---------+-------+------+----+--------+---------+----------------+--------+------------+------------+--------+------------+-----------------+\n",
      "|[2008, 11, 1, 2]|[2057, 2052, 2312...|           AS|      234| N309AS|   SEA| SJC|     697|        1|               A|       0|           0|           0|       0|           0|                0|\n",
      "| [2008, 1, 1, 2]|[2057, 2052, 2312...|           AS|      234| N306AS|   SEA| SJC|     697|        1|               A|       0|           0|           0|       0|           0|                0|\n",
      "| [2008, 1, 1, 2]|[703, 715, 958, 9...|           AS|      572| N302AS|   SEA| PSP|     987|        0|                |       0|           0|           0|       0|           0|                0|\n",
      "+----------------+--------------------+-------------+---------+-------+------+----+--------+---------+----------------+--------+------------+------------+--------+------------+-----------------+\n",
      "\n"
     ]
    }
   ],
   "source": [
    "//order by destination airport\n",
    "flights.orderBy(flights(\"dest\")).show()\n",
    "//order by desc\n",
    "flights.orderBy($\"dest\".desc).show()"
   ]
  },
  {
   "cell_type": "markdown",
   "metadata": {},
   "source": [
    "## API: groupBy and count"
   ]
  },
  {
   "cell_type": "code",
   "execution_count": 17,
   "metadata": {},
   "outputs": [
    {
     "data": {
      "text/html": [
       "<div>\n",
       "  <span style=\"float: left;\">show at cmd16.sc:2</span>\n",
       "</div>\n"
      ]
     },
     "metadata": {},
     "output_type": "display_data"
    },
    {
     "data": {
      "text/html": [
       "<div class=\"progress\">\n",
       "  <div class=\"progress-bar\" role=\"progressbar\" style=\"background-color: blue; width: 100%; word-wrap: normal; white-space: nowrap; text-align: center; color: white\" aria-valuenow=\"100\" aria-valuemin=\"0\" aria-valuemax=\"100\">\n",
       "    2 / 2\n",
       "  </div>\n",
       "  <div class=\"progress-bar\" role=\"progressbar\" style=\"background-color: red; width: 0%\" aria-valuenow=\"0\" aria-valuemin=\"0\" aria-valuemax=\"100\"></div>\n",
       "</div>\n"
      ]
     },
     "metadata": {},
     "output_type": "display_data"
    },
    {
     "data": {
      "text/html": [
       "<div>\n",
       "  <span style=\"float: left;\">show at cmd16.sc:2</span>\n",
       "</div>\n"
      ]
     },
     "metadata": {},
     "output_type": "display_data"
    },
    {
     "data": {
      "text/html": [
       "<div class=\"progress\">\n",
       "  <div class=\"progress-bar\" role=\"progressbar\" style=\"background-color: blue; width: 100%; word-wrap: normal; white-space: nowrap; text-align: center; color: white\" aria-valuenow=\"100\" aria-valuemin=\"0\" aria-valuemax=\"100\">\n",
       "    1 / 1\n",
       "  </div>\n",
       "  <div class=\"progress-bar\" role=\"progressbar\" style=\"background-color: red; width: 0%\" aria-valuenow=\"0\" aria-valuemin=\"0\" aria-valuemax=\"100\"></div>\n",
       "</div>\n"
      ]
     },
     "metadata": {},
     "output_type": "display_data"
    },
    {
     "data": {
      "text/html": [
       "<div>\n",
       "  <span style=\"float: left;\">show at cmd16.sc:2</span>\n",
       "</div>\n"
      ]
     },
     "metadata": {},
     "output_type": "display_data"
    },
    {
     "data": {
      "text/html": [
       "<div class=\"progress\">\n",
       "  <div class=\"progress-bar\" role=\"progressbar\" style=\"background-color: blue; width: 100%; word-wrap: normal; white-space: nowrap; text-align: center; color: white\" aria-valuenow=\"100\" aria-valuemin=\"0\" aria-valuemax=\"100\">\n",
       "    4 / 4\n",
       "  </div>\n",
       "  <div class=\"progress-bar\" role=\"progressbar\" style=\"background-color: red; width: 0%\" aria-valuenow=\"0\" aria-valuemin=\"0\" aria-valuemax=\"100\"></div>\n",
       "</div>\n"
      ]
     },
     "metadata": {},
     "output_type": "display_data"
    },
    {
     "data": {
      "text/html": [
       "<div>\n",
       "  <span style=\"float: left;\">show at cmd16.sc:2</span>\n",
       "</div>\n"
      ]
     },
     "metadata": {},
     "output_type": "display_data"
    },
    {
     "data": {
      "text/html": [
       "<div class=\"progress\">\n",
       "  <div class=\"progress-bar\" role=\"progressbar\" style=\"background-color: blue; width: 100%; word-wrap: normal; white-space: nowrap; text-align: center; color: white\" aria-valuenow=\"100\" aria-valuemin=\"0\" aria-valuemax=\"100\">\n",
       "    20 / 20\n",
       "  </div>\n",
       "  <div class=\"progress-bar\" role=\"progressbar\" style=\"background-color: red; width: 0%\" aria-valuenow=\"0\" aria-valuemin=\"0\" aria-valuemax=\"100\"></div>\n",
       "</div>\n"
      ]
     },
     "metadata": {},
     "output_type": "display_data"
    },
    {
     "data": {
      "text/html": [
       "<div>\n",
       "  <span style=\"float: left;\">show at cmd16.sc:2</span>\n",
       "</div>\n"
      ]
     },
     "metadata": {},
     "output_type": "display_data"
    },
    {
     "data": {
      "text/html": [
       "<div class=\"progress\">\n",
       "  <div class=\"progress-bar\" role=\"progressbar\" style=\"background-color: blue; width: 100%; word-wrap: normal; white-space: nowrap; text-align: center; color: white\" aria-valuenow=\"100\" aria-valuemin=\"0\" aria-valuemax=\"100\">\n",
       "    100 / 100\n",
       "  </div>\n",
       "  <div class=\"progress-bar\" role=\"progressbar\" style=\"background-color: red; width: 0%\" aria-valuenow=\"0\" aria-valuemin=\"0\" aria-valuemax=\"100\"></div>\n",
       "</div>\n"
      ]
     },
     "metadata": {},
     "output_type": "display_data"
    },
    {
     "data": {
      "text/html": [
       "<div>\n",
       "  <span style=\"float: left;\">show at cmd16.sc:2</span>\n",
       "</div>\n"
      ]
     },
     "metadata": {},
     "output_type": "display_data"
    },
    {
     "data": {
      "text/html": [
       "<div class=\"progress\">\n",
       "  <div class=\"progress-bar\" role=\"progressbar\" style=\"background-color: blue; width: 100%; word-wrap: normal; white-space: nowrap; text-align: center; color: white\" aria-valuenow=\"100\" aria-valuemin=\"0\" aria-valuemax=\"100\">\n",
       "    75 / 75\n",
       "  </div>\n",
       "  <div class=\"progress-bar\" role=\"progressbar\" style=\"background-color: red; width: 0%\" aria-valuenow=\"0\" aria-valuemin=\"0\" aria-valuemax=\"100\"></div>\n",
       "</div>\n"
      ]
     },
     "metadata": {},
     "output_type": "display_data"
    },
    {
     "name": "stdout",
     "output_type": "stream",
     "text": [
      "+-----+-----+\n",
      "|month|count|\n",
      "+-----+-----+\n",
      "|    1|    1|\n",
      "|   11|    1|\n",
      "+-----+-----+\n",
      "\n"
     ]
    },
    {
     "data": {
      "text/plain": [
       "\u001b[36mcanceledFlightsByMonth\u001b[39m: \u001b[32mDataFrame\u001b[39m = [month: int, count: bigint]"
      ]
     },
     "execution_count": 17,
     "metadata": {},
     "output_type": "execute_result"
    }
   ],
   "source": [
    "val canceledFlightsByMonth = canceledFlights.groupBy(\"date.month\").count()\n",
    "canceledFlightsByMonth.show"
   ]
  },
  {
   "cell_type": "markdown",
   "metadata": {},
   "source": [
    "## Access DataFrame"
   ]
  },
  {
   "cell_type": "code",
   "execution_count": 18,
   "metadata": {},
   "outputs": [
    {
     "data": {
      "text/html": [
       "<div>\n",
       "  <span style=\"float: left;\">collect at cmd17.sc:5</span>\n",
       "</div>\n"
      ]
     },
     "metadata": {},
     "output_type": "display_data"
    },
    {
     "data": {
      "text/html": [
       "<div class=\"progress\">\n",
       "  <div class=\"progress-bar\" role=\"progressbar\" style=\"background-color: blue; width: 100%; word-wrap: normal; white-space: nowrap; text-align: center; color: white\" aria-valuenow=\"100\" aria-valuemin=\"0\" aria-valuemax=\"100\">\n",
       "    2 / 2\n",
       "  </div>\n",
       "  <div class=\"progress-bar\" role=\"progressbar\" style=\"background-color: red; width: 0%\" aria-valuenow=\"0\" aria-valuemin=\"0\" aria-valuemax=\"100\"></div>\n",
       "</div>\n"
      ]
     },
     "metadata": {},
     "output_type": "display_data"
    },
    {
     "data": {
      "text/plain": [
       "\u001b[36mres17_0\u001b[39m: \u001b[32mClass\u001b[39m[\u001b[32mT\u001b[39m] = class org.apache.spark.sql.Dataset\n",
       "\u001b[36mres17_1\u001b[39m: \u001b[32mClass\u001b[39m[\u001b[32mT\u001b[39m] = class org.apache.spark.sql.Dataset\n",
       "\u001b[36mres17_2\u001b[39m: \u001b[32mClass\u001b[39m[\u001b[32mT\u001b[39m] = class org.apache.spark.sql.Dataset\n",
       "\u001b[36mflightsArr\u001b[39m: \u001b[32mArray\u001b[39m[\u001b[32mRow\u001b[39m] = \u001b[33mArray\u001b[39m(\n",
       "  [[2008,1,1,2],[2057,2052,2312,2258,135,126,112,14,5,7,16],AS,234,N306AS,SEA,SJC,697,1,A,0,0,0,0,0,0],\n",
       "  [[2008,11,1,2],[2057,2052,2312,2258,135,126,112,14,5,7,16],AS,234,N309AS,SEA,SJC,697,1,A,0,0,0,0,0,0],\n",
       "  [[2008,1,1,2],[703,715,958,951,175,156,144,7,-12,6,25],AS,572,N302AS,SEA,PSP,987,0,,0,0,0,0,0,0]\n",
       ")\n",
       "\u001b[36mfirstRow\u001b[39m: \u001b[32mRow\u001b[39m = [[2008,1,1,2],[2057,2052,2312,2258,135,126,112,14,5,7,16],AS,234,N306AS,SEA,SJC,697,1,A,0,0,0,0,0,0]\n",
       "\u001b[36mres17_5\u001b[39m: \u001b[32mClass\u001b[39m[\u001b[32mT\u001b[39m] = class org.apache.spark.sql.catalyst.expressions.GenericRowWithSchema\n",
       "\u001b[36mres17_6\u001b[39m: \u001b[32mString\u001b[39m = \u001b[32m\"AS\"\u001b[39m\n",
       "\u001b[36mres17_7\u001b[39m: \u001b[32mAny\u001b[39m = [2008,1,1,2]"
      ]
     },
     "execution_count": 18,
     "metadata": {},
     "output_type": "execute_result"
    }
   ],
   "source": [
    "flights.getClass\n",
    "canceledFlights.getClass\n",
    "canceledFlightsByMonth.getClass\n",
    "\n",
    "val flightsArr = flights.collect()\n",
    "val firstRow = flightsArr(0)\n",
    "firstRow.getClass\n",
    "firstRow.getString(2)\n",
    "firstRow(0) //the same as time1.get(0)"
   ]
  },
  {
   "cell_type": "markdown",
   "metadata": {},
   "source": [
    "# DataFrame join"
   ]
  },
  {
   "cell_type": "markdown",
   "metadata": {},
   "source": [
    "## Using DataFrame API: select"
   ]
  },
  {
   "cell_type": "code",
   "execution_count": 21,
   "metadata": {},
   "outputs": [
    {
     "name": "stdout",
     "output_type": "stream",
     "text": [
      "root\n",
      " |-- date: struct (nullable = true)\n",
      " |    |-- year: integer (nullable = false)\n",
      " |    |-- month: integer (nullable = false)\n",
      " |    |-- dayOfMonth: integer (nullable = false)\n",
      " |    |-- dayOfWeek: integer (nullable = false)\n",
      " |-- times: struct (nullable = true)\n",
      " |    |-- depTime: integer (nullable = false)\n",
      " |    |-- crsDepTime: integer (nullable = false)\n",
      " |    |-- arrTime: integer (nullable = false)\n",
      " |    |-- crsArrTime: integer (nullable = false)\n",
      " |    |-- actualElapsedTime: integer (nullable = false)\n",
      " |    |-- crsElapsedTime: integer (nullable = false)\n",
      " |    |-- airTime: integer (nullable = false)\n",
      " |    |-- arrDelay: integer (nullable = false)\n",
      " |    |-- depDelay: integer (nullable = false)\n",
      " |    |-- taxiIn: integer (nullable = false)\n",
      " |    |-- taxiOut: integer (nullable = false)\n",
      " |-- uniqueCarrier: string (nullable = true)\n",
      " |-- flightNum: integer (nullable = false)\n",
      " |-- tailNum: string (nullable = true)\n",
      " |-- origin: string (nullable = true)\n",
      " |-- dest: string (nullable = true)\n",
      " |-- distance: integer (nullable = false)\n",
      " |-- cancelled: integer (nullable = false)\n",
      " |-- cancellationCode: string (nullable = true)\n",
      " |-- diverted: integer (nullable = false)\n",
      " |-- carrierDelay: integer (nullable = false)\n",
      " |-- weatherDelay: integer (nullable = false)\n",
      " |-- nasDelay: integer (nullable = false)\n",
      " |-- securitDelay: integer (nullable = false)\n",
      " |-- lateAircraftDelay: integer (nullable = false)\n",
      "\n",
      "root\n",
      " |-- iataCode: string (nullable = true)\n",
      " |-- airportName: string (nullable = true)\n",
      " |-- cityName: string (nullable = true)\n",
      " |-- stateName: string (nullable = true)\n",
      " |-- countryName: string (nullable = true)\n",
      " |-- latitude: float (nullable = false)\n",
      " |-- longitude: float (nullable = false)\n",
      "\n"
     ]
    },
    {
     "data": {
      "text/html": [
       "<div>\n",
       "  <span style=\"float: left;\">show at cmd20.sc:3</span>\n",
       "</div>\n"
      ]
     },
     "metadata": {},
     "output_type": "display_data"
    },
    {
     "data": {
      "text/html": [
       "<div class=\"progress\">\n",
       "  <div class=\"progress-bar\" role=\"progressbar\" style=\"background-color: blue; width: 100%; word-wrap: normal; white-space: nowrap; text-align: center; color: white\" aria-valuenow=\"100\" aria-valuemin=\"0\" aria-valuemax=\"100\">\n",
       "    1 / 1\n",
       "  </div>\n",
       "  <div class=\"progress-bar\" role=\"progressbar\" style=\"background-color: red; width: 0%\" aria-valuenow=\"0\" aria-valuemin=\"0\" aria-valuemax=\"100\"></div>\n",
       "</div>\n"
      ]
     },
     "metadata": {},
     "output_type": "display_data"
    },
    {
     "data": {
      "text/html": [
       "<div>\n",
       "  <span style=\"float: left;\">show at cmd20.sc:3</span>\n",
       "</div>\n"
      ]
     },
     "metadata": {},
     "output_type": "display_data"
    },
    {
     "data": {
      "text/html": [
       "<div class=\"progress\">\n",
       "  <div class=\"progress-bar\" role=\"progressbar\" style=\"background-color: blue; width: 100%; word-wrap: normal; white-space: nowrap; text-align: center; color: white\" aria-valuenow=\"100\" aria-valuemin=\"0\" aria-valuemax=\"100\">\n",
       "    1 / 1\n",
       "  </div>\n",
       "  <div class=\"progress-bar\" role=\"progressbar\" style=\"background-color: red; width: 0%\" aria-valuenow=\"0\" aria-valuemin=\"0\" aria-valuemax=\"100\"></div>\n",
       "</div>\n"
      ]
     },
     "metadata": {},
     "output_type": "display_data"
    },
    {
     "name": "stdout",
     "output_type": "stream",
     "text": [
      "+----------------+--------------------+-------------+---------+-------+------+----+--------+---------+----------------+--------+------------+------------+--------+------------+-----------------+\n",
      "|            date|               times|uniqueCarrier|flightNum|tailNum|origin|dest|distance|cancelled|cancellationCode|diverted|carrierDelay|weatherDelay|nasDelay|securitDelay|lateAircraftDelay|\n",
      "+----------------+--------------------+-------------+---------+-------+------+----+--------+---------+----------------+--------+------------+------------+--------+------------+-----------------+\n",
      "| [2008, 1, 1, 2]|[2057, 2052, 2312...|           AS|      234| N306AS|   SEA| SJC|     697|        1|               A|       0|           0|           0|       0|           0|                0|\n",
      "|[2008, 11, 1, 2]|[2057, 2052, 2312...|           AS|      234| N309AS|   SEA| SJC|     697|        1|               A|       0|           0|           0|       0|           0|                0|\n",
      "| [2008, 1, 1, 2]|[703, 715, 958, 9...|           AS|      572| N302AS|   SEA| PSP|     987|        0|                |       0|           0|           0|       0|           0|                0|\n",
      "+----------------+--------------------+-------------+---------+-------+------+----+--------+---------+----------------+--------+------------+------------+--------+------------+-----------------+\n",
      "\n"
     ]
    },
    {
     "data": {
      "text/html": [
       "<div>\n",
       "  <span style=\"float: left;\">show at cmd20.sc:4</span>\n",
       "</div>\n"
      ]
     },
     "metadata": {},
     "output_type": "display_data"
    },
    {
     "data": {
      "text/html": [
       "<div class=\"progress\">\n",
       "  <div class=\"progress-bar\" role=\"progressbar\" style=\"background-color: blue; width: 100%; word-wrap: normal; white-space: nowrap; text-align: center; color: white\" aria-valuenow=\"100\" aria-valuemin=\"0\" aria-valuemax=\"100\">\n",
       "    1 / 1\n",
       "  </div>\n",
       "  <div class=\"progress-bar\" role=\"progressbar\" style=\"background-color: red; width: 0%\" aria-valuenow=\"0\" aria-valuemin=\"0\" aria-valuemax=\"100\"></div>\n",
       "</div>\n"
      ]
     },
     "metadata": {},
     "output_type": "display_data"
    },
    {
     "data": {
      "text/html": [
       "<div>\n",
       "  <span style=\"float: left;\">show at cmd20.sc:4</span>\n",
       "</div>\n"
      ]
     },
     "metadata": {},
     "output_type": "display_data"
    },
    {
     "data": {
      "text/html": [
       "<div class=\"progress\">\n",
       "  <div class=\"progress-bar\" role=\"progressbar\" style=\"background-color: blue; width: 100%; word-wrap: normal; white-space: nowrap; text-align: center; color: white\" aria-valuenow=\"100\" aria-valuemin=\"0\" aria-valuemax=\"100\">\n",
       "    1 / 1\n",
       "  </div>\n",
       "  <div class=\"progress-bar\" role=\"progressbar\" style=\"background-color: red; width: 0%\" aria-valuenow=\"0\" aria-valuemin=\"0\" aria-valuemax=\"100\"></div>\n",
       "</div>\n"
      ]
     },
     "metadata": {},
     "output_type": "display_data"
    },
    {
     "name": "stdout",
     "output_type": "stream",
     "text": [
      "+--------+-----------+-----------+---------+-----------+---------+----------+\n",
      "|iataCode|airportName|   cityName|stateName|countryName| latitude| longitude|\n",
      "+--------+-----------+-----------+---------+-----------+---------+----------+\n",
      "|     00M|    Thigpen|Bay Springs|       MS|        USA|31.953764|-89.234505|\n",
      "+--------+-----------+-----------+---------+-----------+---------+----------+\n",
      "\n"
     ]
    }
   ],
   "source": [
    "flights.printSchema()\n",
    "airports.printSchema()\n",
    "flights.show(10)\n",
    "airports.show(10)"
   ]
  },
  {
   "cell_type": "code",
   "execution_count": 23,
   "metadata": {},
   "outputs": [
    {
     "data": {
      "text/html": [
       "<div>\n",
       "  <span style=\"float: left;\">show at cmd22.sc:2</span>\n",
       "</div>\n"
      ]
     },
     "metadata": {},
     "output_type": "display_data"
    },
    {
     "data": {
      "text/html": [
       "<div class=\"progress\">\n",
       "  <div class=\"progress-bar\" role=\"progressbar\" style=\"background-color: blue; width: 100%; word-wrap: normal; white-space: nowrap; text-align: center; color: white\" aria-valuenow=\"100\" aria-valuemin=\"0\" aria-valuemax=\"100\">\n",
       "    2 / 2\n",
       "  </div>\n",
       "  <div class=\"progress-bar\" role=\"progressbar\" style=\"background-color: red; width: 0%\" aria-valuenow=\"0\" aria-valuemin=\"0\" aria-valuemax=\"100\"></div>\n",
       "</div>\n"
      ]
     },
     "metadata": {},
     "output_type": "display_data"
    },
    {
     "data": {
      "text/html": [
       "<div>\n",
       "  <span style=\"float: left;\">show at cmd22.sc:2</span>\n",
       "</div>\n"
      ]
     },
     "metadata": {},
     "output_type": "display_data"
    },
    {
     "data": {
      "text/html": [
       "<div class=\"progress\">\n",
       "  <div class=\"progress-bar\" role=\"progressbar\" style=\"background-color: blue; width: 100%; word-wrap: normal; white-space: nowrap; text-align: center; color: white\" aria-valuenow=\"100\" aria-valuemin=\"0\" aria-valuemax=\"100\">\n",
       "    200 / 200\n",
       "  </div>\n",
       "  <div class=\"progress-bar\" role=\"progressbar\" style=\"background-color: red; width: 0%\" aria-valuenow=\"0\" aria-valuemin=\"0\" aria-valuemax=\"100\"></div>\n",
       "</div>\n"
      ]
     },
     "metadata": {},
     "output_type": "display_data"
    },
    {
     "name": "stdout",
     "output_type": "stream",
     "text": [
      "+------+----+-----+\n",
      "|origin|dest|count|\n",
      "+------+----+-----+\n",
      "|   SEA| SJC|    2|\n",
      "|   SEA| PSP|    1|\n",
      "+------+----+-----+\n",
      "\n"
     ]
    }
   ],
   "source": [
    "val flights_between_airpots = flights.select(\"origin\",\"dest\").groupBy(\"origin\",\"dest\").count()\n",
    ".orderBy($\"count\".desc,$\"origin\",$\"dest\").show"
   ]
  },
  {
   "cell_type": "markdown",
   "metadata": {},
   "source": [
    "## Using DataFrame API: sql"
   ]
  },
  {
   "cell_type": "code",
   "execution_count": 27,
   "metadata": {},
   "outputs": [
    {
     "data": {
      "text/html": [
       "<div>\n",
       "  <span style=\"float: left;\">show at cmd26.sc:9</span>\n",
       "</div>\n"
      ]
     },
     "metadata": {},
     "output_type": "display_data"
    },
    {
     "data": {
      "text/html": [
       "<div class=\"progress\">\n",
       "  <div class=\"progress-bar\" role=\"progressbar\" style=\"background-color: blue; width: 100%; word-wrap: normal; white-space: nowrap; text-align: center; color: white\" aria-valuenow=\"100\" aria-valuemin=\"0\" aria-valuemax=\"100\">\n",
       "    2 / 2\n",
       "  </div>\n",
       "  <div class=\"progress-bar\" role=\"progressbar\" style=\"background-color: red; width: 0%\" aria-valuenow=\"0\" aria-valuemin=\"0\" aria-valuemax=\"100\"></div>\n",
       "</div>\n"
      ]
     },
     "metadata": {},
     "output_type": "display_data"
    },
    {
     "data": {
      "text/html": [
       "<div>\n",
       "  <span style=\"float: left;\">show at cmd26.sc:9</span>\n",
       "</div>\n"
      ]
     },
     "metadata": {},
     "output_type": "display_data"
    },
    {
     "data": {
      "text/html": [
       "<div class=\"progress\">\n",
       "  <div class=\"progress-bar\" role=\"progressbar\" style=\"background-color: blue; width: 100%; word-wrap: normal; white-space: nowrap; text-align: center; color: white\" aria-valuenow=\"100\" aria-valuemin=\"0\" aria-valuemax=\"100\">\n",
       "    200 / 200\n",
       "  </div>\n",
       "  <div class=\"progress-bar\" role=\"progressbar\" style=\"background-color: red; width: 0%\" aria-valuenow=\"0\" aria-valuemin=\"0\" aria-valuemax=\"100\"></div>\n",
       "</div>\n"
      ]
     },
     "metadata": {},
     "output_type": "display_data"
    },
    {
     "name": "stdout",
     "output_type": "stream",
     "text": [
      "+------+----+-----+\n",
      "|origin|dest|count|\n",
      "+------+----+-----+\n",
      "|   SEA| SJC|    2|\n",
      "|   SEA| PSP|    1|\n",
      "+------+----+-----+\n",
      "\n"
     ]
    },
    {
     "data": {
      "text/plain": [
       "\u001b[32mimport \u001b[39m\u001b[36msqlContext.sql\n",
       "\u001b[39m\n",
       "\u001b[36mflights_between_airpots_sql\u001b[39m: \u001b[32mDataFrame\u001b[39m = [origin: string, dest: string ... 1 more field]"
      ]
     },
     "execution_count": 27,
     "metadata": {},
     "output_type": "execute_result"
    }
   ],
   "source": [
    "import sqlContext.sql\n",
    "flights.registerTempTable(\"flights\")\n",
    "airports.registerTempTable(\"airports\")\n",
    "val flights_between_airpots_sql = sql(\"\"\"\n",
    "select origin,dest, count(*) as count from flights\n",
    "group by origin, dest\n",
    "order by count desc,origin\n",
    "\"\"\")\n",
    "flights_between_airpots_sql.show()"
   ]
  },
  {
   "cell_type": "code",
   "execution_count": 29,
   "metadata": {},
   "outputs": [
    {
     "data": {
      "text/plain": [
       "\u001b[36mres28_0\u001b[39m: \u001b[32mDataFrame\u001b[39m = [origin: string, dest: string ... 1 more field]\n",
       "\u001b[36mfba\u001b[39m: \u001b[32mDataFrame\u001b[39m = [origin: string, dest: string ... 1 more field]\n",
       "\u001b[36mair\u001b[39m: \u001b[32mDataFrame\u001b[39m = [iataCode: string, airportName: string ... 5 more fields]"
      ]
     },
     "execution_count": 29,
     "metadata": {},
     "output_type": "execute_result"
    }
   ],
   "source": [
    "flights_between_airpots_sql.cache\n",
    "flights_between_airpots_sql.registerTempTable(\"fbasql\")\n",
    "val fba = flights_between_airpots_sql\n",
    "val air = airports"
   ]
  }
 ],
 "metadata": {
  "kernelspec": {
   "display_name": "Scala",
   "language": "scala",
   "name": "scala"
  },
  "language_info": {
   "codemirror_mode": "text/x-scala",
   "file_extension": ".scala",
   "mimetype": "text/x-scala",
   "name": "scala",
   "nbconvert_exporter": "script",
   "version": "2.12.10"
  },
  "toc": {
   "base_numbering": 1,
   "nav_menu": {},
   "number_sections": true,
   "sideBar": true,
   "skip_h1_title": false,
   "title_cell": "Table of Contents",
   "title_sidebar": "Contents",
   "toc_cell": false,
   "toc_position": {
    "height": "calc(100% - 180px)",
    "left": "10px",
    "top": "150px",
    "width": "307.2px"
   },
   "toc_section_display": true,
   "toc_window_display": true
  }
 },
 "nbformat": 4,
 "nbformat_minor": 4
}
