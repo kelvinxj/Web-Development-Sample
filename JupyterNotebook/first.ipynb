{
 "cells": [
  {
   "cell_type": "markdown",
   "metadata": {},
   "source": [
    "# First line in python. you can also specify *encoding* like this:"
   ]
  },
  {
   "cell_type": "code",
   "execution_count": 12,
   "metadata": {},
   "outputs": [],
   "source": [
    "#!/usr/bin/env python\n",
    "# -*- coding: utf-8 -*-\n",
    "#the first line is used only in unix when you want to make python file executable\n",
    "#the second is used to declare a encoding other than utf-8. if no this line, the code file is treated as UTF-8\n",
    "import re"
   ]
  },
  {
   "cell_type": "markdown",
   "metadata": {},
   "source": [
    "# How to print string"
   ]
  },
  {
   "cell_type": "code",
   "execution_count": 2,
   "metadata": {
    "scrolled": true
   },
   "outputs": [
    {
     "name": "stdout",
     "output_type": "stream",
     "text": [
      "Hello, world\n"
     ]
    }
   ],
   "source": [
    "#Print \"hello, world\"\n",
    "print(\"Hello, world\")"
   ]
  },
  {
   "cell_type": "code",
   "execution_count": 2,
   "metadata": {},
   "outputs": [
    {
     "name": "stdout",
     "output_type": "stream",
     "text": [
      "It's a desk\n",
      "It\\'s a desk\n",
      "abc      , it's a long string\n",
      "this is line one,\n",
      "        this is line two.\n"
     ]
    }
   ],
   "source": [
    "#use \\ to escapse:\n",
    "print ('It\\'s a desk') #will print It's a desk\n",
    "\n",
    "#use raw string:\n",
    "print (r'It\\'s a desk') #will print It\\'s a desk\n",
    "\n",
    "#print string in multiple lines\n",
    "#if string end with \"\\\", new line will not be printed\n",
    "print (\"\"\"abc\\\n",
    "      , it\\'s a long string\"\"\")\n",
    "      \n",
    "#without \"\\\", new line will be printed\n",
    "print(\"\"\"this is line one,\n",
    "        this is line two.\"\"\")"
   ]
  },
  {
   "cell_type": "markdown",
   "metadata": {},
   "source": [
    "# Define variables and show their types"
   ]
  },
  {
   "cell_type": "code",
   "execution_count": 24,
   "metadata": {},
   "outputs": [
    {
     "name": "stdout",
     "output_type": "stream",
     "text": [
      "this is a string\n",
      "22\n",
      "<class 'str'>\n",
      "<class 'int'>\n",
      "<class 'list'>\n",
      "type of map object:\n",
      "<class 'dict'>\n",
      "<class 'dict_keys'>\n",
      "<class 'dict_values'>\n",
      "<class 'list'>\n",
      "<class 'tuple'>\n",
      "<class 'set'>\n"
     ]
    }
   ],
   "source": [
    "#Define variables: string, int, array,Array accessing\n",
    "myName=\"this is a string\"\n",
    "myAge=22\n",
    "print(myName)\n",
    "print(myAge)\n",
    "\n",
    "print(type(myName))\n",
    "print(type(myAge))\n",
    "\n",
    "#Array. python use list as array.\n",
    "myArr = []\n",
    "print(type(myArr))\n",
    "\n",
    "#Get type of object\n",
    "map={1:'map',2:'ChinaMap'}\n",
    "print(\"type of map object:\")\n",
    "print(type(map)) #<class 'dict'>\n",
    "print(type(map.keys())) #<class 'dict_keys'>\n",
    "print(type(map.values()))#<class 'dict_keys'>\n",
    "print(type([1,2,3]))#<class 'list'>\n",
    "print(type((1,2,3)))#<class 'tuple'>\n",
    "print(type({1,2,3}))#<class 'set'>  "
   ]
  },
  {
   "cell_type": "markdown",
   "metadata": {},
   "source": [
    "# Flow control"
   ]
  },
  {
   "cell_type": "code",
   "execution_count": 10,
   "metadata": {},
   "outputs": [
    {
     "name": "stdout",
     "output_type": "stream",
     "text": [
      "Your age is older than 20\n"
     ]
    }
   ],
   "source": [
    "#If…else if...else struct\n",
    "#in python, the condition can be with or without brackets\n",
    "if(myAge > 30):\n",
    "    print(\"Your age is older than 30\")\n",
    "elif myAge > 20:\n",
    "    print(\"Your age is older than 20\")\n",
    "else:\n",
    "    print(\"you are young\")"
   ]
  },
  {
   "cell_type": "markdown",
   "metadata": {},
   "source": [
    "# Looping\n",
    "## for"
   ]
  },
  {
   "cell_type": "code",
   "execution_count": 11,
   "metadata": {
    "collapsed": true
   },
   "outputs": [
    {
     "name": "stdout",
     "output_type": "stream",
     "text": [
      "cat 3\n",
      "window 6\n",
      "defenestrate 12\n",
      "Found an even number 2\n",
      "Found a number 3\n",
      "Found an even number 4\n",
      "Found a number 5\n",
      "Found an even number 6\n",
      "Found a number 7\n",
      "Found an even number 8\n",
      "Found a number 9\n"
     ]
    }
   ],
   "source": [
    "#For/looping/while/do while/foreach struct\n",
    "#for:\n",
    "words = ['cat','window','defenestrate']\n",
    "for w in words:\n",
    "    print (w,len(w))\n",
    "\n",
    "for num in range(2,10):\n",
    "    if num %2 == 0:\n",
    "        print ('Found an even number', num)\n",
    "    else:\n",
    "        print ('Found a number',num)\n",
    "\n",
    "#flow control in loop: break, continue\n",
    "for num in range(2,10):\n",
    "\tif num < 5:\n",
    "\t\tcontinue\n",
    "\telse:\n",
    "\t\tprint(\"Find 5 in range 2 to 10\")\n",
    "\t\tbreak"
   ]
  },
  {
   "cell_type": "markdown",
   "metadata": {},
   "source": [
    "## while"
   ]
  },
  {
   "cell_type": "code",
   "execution_count": 15,
   "metadata": {
    "collapsed": true
   },
   "outputs": [
    {
     "name": "stdout",
     "output_type": "stream",
     "text": [
      "a Fibonacci array\n",
      "1 ,\n",
      "1 ,\n",
      "2 ,\n",
      "3 ,\n",
      "5 ,\n",
      "8 ,\n"
     ]
    }
   ],
   "source": [
    "#print a Fibonacci array:\n",
    "print (\"a Fibonacci array\")\n",
    "a,b=0,1 #mutiple assignment\n",
    "while b<10:\n",
    "    print (b,\",\")\n",
    "    a,b=b,a+b"
   ]
  },
  {
   "cell_type": "markdown",
   "metadata": {},
   "source": [
    "# Logic operator"
   ]
  },
  {
   "cell_type": "code",
   "execution_count": 12,
   "metadata": {
    "collapsed": true
   },
   "outputs": [
    {
     "name": "stdout",
     "output_type": "stream",
     "text": [
      "False\n",
      "True\n",
      "True or False is: True\n",
      "True and False is: False\n",
      "True is False?False\n"
     ]
    }
   ],
   "source": [
    "#ogical operators(and, or, ==)\n",
    "print(True and False) #False\n",
    "print(True or False) #True\n",
    "print(\"True or False is: \" + str(True or False)) #print True\n",
    "print(\"True and False is: \" + str(True and False)) #print False\n",
    "print(\"True is False?\" + str(True == False))#print False"
   ]
  },
  {
   "cell_type": "markdown",
   "metadata": {},
   "source": [
    "# Function"
   ]
  },
  {
   "cell_type": "code",
   "execution_count": 16,
   "metadata": {},
   "outputs": [
    {
     "name": "stdout",
     "output_type": "stream",
     "text": [
      "display a fibonacci array:\n",
      "0 ,\n",
      "1 ,\n",
      "1 ,\n",
      "2 ,\n",
      "3 ,\n",
      "5 ,\n",
      "8 ,\n"
     ]
    }
   ],
   "source": [
    "#Define function/methods\n",
    "#Method without return value\n",
    "def fib(n):\n",
    "    a,b=0,1\n",
    "    print (\"display a fibonacci array:\")\n",
    "    while a<n:\n",
    "        print (a,\",\")\n",
    "        a,b=b,a+b\n",
    "\n",
    "#call a function\n",
    "fib(10)"
   ]
  },
  {
   "cell_type": "markdown",
   "metadata": {},
   "source": [
    "# Type converting"
   ]
  },
  {
   "cell_type": "markdown",
   "metadata": {},
   "source": [
    "## Int To string"
   ]
  },
  {
   "cell_type": "code",
   "execution_count": 19,
   "metadata": {},
   "outputs": [
    {
     "name": "stdout",
     "output_type": "stream",
     "text": [
      "This is a num:1\n"
     ]
    }
   ],
   "source": [
    "#Type convert:\n",
    "#Int to string\n",
    "print(\"This is a num:\" + str(1))"
   ]
  },
  {
   "cell_type": "markdown",
   "metadata": {},
   "source": [
    "## string to int"
   ]
  },
  {
   "cell_type": "code",
   "execution_count": 18,
   "metadata": {},
   "outputs": [
    {
     "name": "stdout",
     "output_type": "stream",
     "text": [
      "5\n",
      "10\n",
      "a\n"
     ]
    }
   ],
   "source": [
    "#String to int\n",
    "print(4+int(\"1\"))\n",
    "#Character to int\n",
    "print(ord('\\n')) #print 10\n",
    "#int to Character\n",
    "print(chr(97)) #print lower case 'a'"
   ]
  },
  {
   "cell_type": "markdown",
   "metadata": {},
   "source": [
    "# Basic type: String"
   ]
  },
  {
   "cell_type": "markdown",
   "metadata": {},
   "source": [
    "## define a string:"
   ]
  },
  {
   "cell_type": "code",
   "execution_count": 2,
   "metadata": {},
   "outputs": [],
   "source": [
    "str1 = \"This is a string\""
   ]
  },
  {
   "cell_type": "markdown",
   "metadata": {},
   "source": [
    "## basic string methods:"
   ]
  },
  {
   "cell_type": "code",
   "execution_count": 3,
   "metadata": {},
   "outputs": [
    {
     "name": "stdout",
     "output_type": "stream",
     "text": [
      "16\n",
      "Hello, world!\n"
     ]
    }
   ],
   "source": [
    "#Basic string methods:\n",
    "#Length\n",
    "print (len(str1))\n",
    "\n",
    "#concatenate two string:\n",
    "print (\"Hello, \" + \"world!\")"
   ]
  },
  {
   "cell_type": "code",
   "execution_count": 4,
   "metadata": {},
   "outputs": [
    {
     "name": "stdout",
     "output_type": "stream",
     "text": [
      "True\n",
      "False\n",
      "T\n",
      "g\n",
      "Position of 4 in string is: 3\n",
      "Position of i in string is: 2\n"
     ]
    }
   ],
   "source": [
    "#String contains:\n",
    "print(\"a\" in \"abc\") #True\n",
    "print(\"a\" not in \"abc\") #False\n",
    "\n",
    "#index a char in string:\n",
    "print (str1[0]) #print T\n",
    "\n",
    "#index from the last char:\n",
    "print (str1[-1])#print g\n",
    "\n",
    "#index of string\n",
    "print(\"Position of 4 in string is: \" + str(str1.index('s'))) #return first index of 4, if 4 not exist in string, Excepiton thrown\n",
    "print(\"Position of i in string is: \" + str(str1.find('i')))#return first index of \"i\", if \"i\" not exist in string, return -1"
   ]
  },
  {
   "cell_type": "code",
   "execution_count": 5,
   "metadata": {},
   "outputs": [
    {
     "name": "stdout",
     "output_type": "stream",
     "text": [
      "01\n"
     ]
    }
   ],
   "source": [
    "#slicing a string\n",
    "str1='0123456'\n",
    "\n",
    "#print string from position 0 (included) to 2(excluded)\n",
    "print (str1[0:2])"
   ]
  },
  {
   "cell_type": "code",
   "execution_count": 10,
   "metadata": {},
   "outputs": [
    {
     "name": "stdout",
     "output_type": "stream",
     "text": [
      "Hello, xiejia, today is:Sunday\n",
      "26\n",
      "16\n",
      "String is:     this is a string      \n",
      "Trim left    side space: this is a string      \n",
      "Trim right side space:     this is a string\n",
      "Trim both side space: this is a string\n",
      "old string is:this is a string, replace 'string' with 'orange':\n",
      "Now the string is: this is a orange\n"
     ]
    }
   ],
   "source": [
    "str1 = \"    this is a string      \"\n",
    "#String match or not\n",
    "#Find a substring\n",
    "\n",
    "#python has no string.startwith and endwith\n",
    "\n",
    "#String format\n",
    "print(\"Hello, {0}, today is:{1}\".format(\"xiejia\",\"Sunday\"))\n",
    "\n",
    "#String trim:\n",
    "print(len(str1))\n",
    "print(len(str1.strip()))\n",
    "print(\"String is: \" + str1)\n",
    "print(\"Trim left    side space: \" + str1.lstrip())\n",
    "print(\"Trim right side space: \" + str1.rstrip())\n",
    "print(\"Trim both side space: \" + str1.strip())\n",
    "\n",
    "#String replace\n",
    "str1 = str1.strip()\n",
    "print(\"old string is:\" + str1 + \", replace 'string' with 'orange':\")\n",
    "str1= str1.replace(\"string\",\"orange\")\n",
    "print(\"Now the string is: \" + str1)"
   ]
  },
  {
   "cell_type": "markdown",
   "metadata": {},
   "source": [
    "# Regular expression"
   ]
  },
  {
   "cell_type": "code",
   "execution_count": 20,
   "metadata": {},
   "outputs": [
    {
     "name": "stdout",
     "output_type": "stream",
     "text": [
      "matched!\n",
      "matched!\n",
      "abcdef match abc\n",
      "abcdef match ABC(ignore case)\n"
     ]
    },
    {
     "data": {
      "text/plain": [
       "'382'"
      ]
     },
     "execution_count": 20,
     "metadata": {},
     "output_type": "execute_result"
    }
   ],
   "source": [
    "#Regular expression:\n",
    "#Define a regular variable\n",
    "reg = \"\\.java:\\d+\"\n",
    "\n",
    "#Basic regular methods:\n",
    "#Match or not\n",
    "notMatch = (re.search(reg,\"RemoteTestRunner.java:382\") == None) #False means matched\n",
    "if(not(notMatch)):\n",
    "    print(\"matched!\")\n",
    "else:\n",
    "    print(\"not match!\")\n",
    "    \n",
    "#or:\n",
    "if(re.search(reg,\"RemoteTestRunner.java:382\")):\n",
    "    print(\"matched!\")\n",
    "else:\n",
    "    print(\"not match!\")\n",
    "\n",
    "str1=\"abcdef\"\n",
    "match = re.search(\"abc\",str1)\n",
    "if(match):\n",
    "    print(str1 + \" match \" + \"abc\")\n",
    "\n",
    "#match ignore case:\n",
    "match = re.search(\"ABC\", str1, re.IGNORECASE)\n",
    "if(match):\n",
    "    print(str1 + \" match \" + \"ABC(ignore case)\")\n",
    "\n",
    "#Get subGroups\n",
    "matchs = re.search(\"\\.java:(\\d+)\",\"RemoteTestRunner.java:382\")\n",
    "#first group is matched part\n",
    "matchs.group(0)#.java:382\n",
    "#second group is part in \"()\"\n",
    "matchs.group(1)# 382"
   ]
  },
  {
   "cell_type": "markdown",
   "metadata": {},
   "source": [
    "# Collections"
   ]
  },
  {
   "cell_type": "markdown",
   "metadata": {},
   "source": [
    "## list"
   ]
  },
  {
   "cell_type": "code",
   "execution_count": 21,
   "metadata": {},
   "outputs": [
    {
     "name": "stdout",
     "output_type": "stream",
     "text": [
      "apple\n",
      "False\n"
     ]
    }
   ],
   "source": [
    "#Collection:\n",
    "#List:\n",
    "#Define a list\n",
    "fruits = [\"apple\",\"pear\",\"peach\"]\n",
    "\n",
    "#Access item of list\n",
    "print(fruits[0]) # apple\n",
    "\n",
    "#Add an item to the end of list\n",
    "fruits.append(\"lychee\") #['apple', 'pear', 'peach', 'lychee']\n",
    "\n",
    "#Add an item to beginning of list\n",
    "fruits.insert(0,\"tomato\") #['tomato', 'apple', 'pear', 'peach', 'lychee']\n",
    "\n",
    "#Delete an item from list\n",
    "fruits.remove(\"apple\") #['tomato', 'pear', 'peach', 'lychee']\n",
    "\n",
    "#Check an item in list\n",
    "print(\"apple\" in fruits) #False"
   ]
  },
  {
   "cell_type": "markdown",
   "metadata": {},
   "source": [
    "## Set"
   ]
  },
  {
   "cell_type": "code",
   "execution_count": 23,
   "metadata": {},
   "outputs": [
    {
     "name": "stdout",
     "output_type": "stream",
     "text": [
      "{'book3', 'book2', 'book1'}\n",
      "I have this book:book3\n",
      "I have this book:book2\n",
      "I have this book:book1\n",
      "{'Scary book', 'book3', 'book2', 'book1'}\n",
      "False\n"
     ]
    }
   ],
   "source": [
    "#Set:\n",
    "#Define a Set\n",
    "book={\"book1\",\"book2\",\"book3\"}\n",
    "print(book)\n",
    "\n",
    "\n",
    "#Access item Set\n",
    "#Can't access a set by index. using for:\n",
    "for myBook in book:\n",
    "    print(\"I have this book:\" + myBook)\n",
    "    \n",
    "#Add an item to Set\n",
    "book.add(\"Scary book\")\n",
    "print(book)\n",
    "\n",
    "#remove  item from set. Items should exist in set ,otherwise, exception will be thrown\n",
    "book.remove(\"book1\")\n",
    "#remove  item from set no matter item exist in a set\n",
    "book.discard(\"book8\")\n",
    "\n",
    "#Check an item in Set\n",
    "print(\"book1\" in book) #True"
   ]
  },
  {
   "cell_type": "markdown",
   "metadata": {},
   "source": [
    "## Map"
   ]
  },
  {
   "cell_type": "code",
   "execution_count": 24,
   "metadata": {},
   "outputs": [
    {
     "name": "stdout",
     "output_type": "stream",
     "text": [
      "name:name1\n",
      "value:value1\n",
      "True\n",
      "False\n",
      "True\n"
     ]
    }
   ],
   "source": [
    "#Map:\n",
    "#Define a Map\n",
    "myMap = {}\n",
    "\n",
    "#Add an item to Map\n",
    "myMap[\"name\"] = \"name1\"\n",
    "myMap[\"value\"] = \"value1\"\n",
    "\n",
    "#Access item of Map\n",
    "print(\"name:\" + myMap[\"name\"])\n",
    "print(\"value:\" + myMap[\"value\"])\n",
    "\n",
    "#Delete an item to Map\n",
    "#Check an item in Map\n",
    "print(\"name\" in myMap.keys()) #print True\n",
    "print(\"name1\" in myMap.keys()) #print True\n",
    "print(\"value1\" in myMap.values()) #print True"
   ]
  },
  {
   "cell_type": "markdown",
   "metadata": {},
   "source": [
    "## tuple"
   ]
  },
  {
   "cell_type": "code",
   "execution_count": 30,
   "metadata": {},
   "outputs": [
    {
     "name": "stdout",
     "output_type": "stream",
     "text": [
      "<class 'tuple'>\n",
      "<class 'tuple'>\n",
      "x\n"
     ]
    },
    {
     "ename": "TypeError",
     "evalue": "'tuple' object does not support item assignment",
     "output_type": "error",
     "traceback": [
      "\u001b[0;31m---------------------------------------------------------------------------\u001b[0m",
      "\u001b[0;31mTypeError\u001b[0m                                 Traceback (most recent call last)",
      "\u001b[0;32m<ipython-input-30-089ab1b055eb>\u001b[0m in \u001b[0;36m<module>\u001b[0;34m\u001b[0m\n\u001b[1;32m     12\u001b[0m \u001b[0;34m\u001b[0m\u001b[0m\n\u001b[1;32m     13\u001b[0m \u001b[0;31m#tuple's item can't be changed:\u001b[0m\u001b[0;34m\u001b[0m\u001b[0;34m\u001b[0m\u001b[0;34m\u001b[0m\u001b[0m\n\u001b[0;32m---> 14\u001b[0;31m \u001b[0mtest_tuple\u001b[0m\u001b[0;34m[\u001b[0m\u001b[0;36m0\u001b[0m\u001b[0;34m]\u001b[0m \u001b[0;34m=\u001b[0m \u001b[0;34m'Y'\u001b[0m\u001b[0;34m\u001b[0m\u001b[0;34m\u001b[0m\u001b[0m\n\u001b[0m",
      "\u001b[0;31mTypeError\u001b[0m: 'tuple' object does not support item assignment"
     ]
    }
   ],
   "source": [
    "#define a tuple, using ():\n",
    "test_list1 = ('a','b','c')\n",
    "print(type(test_list1))\n",
    "\n",
    "#make a tuple from list:\n",
    "test_list2 = ['x','y','z']\n",
    "test_tuple = tuple(test_list2)\n",
    "print(type(test_tuple))\n",
    "\n",
    "#access item in tuple:\n",
    "print(test_tuple[0])\n",
    "\n",
    "#tuple's item can't be changed:\n",
    "test_tuple[0] = 'Y'"
   ]
  },
  {
   "cell_type": "code",
   "execution_count": null,
   "metadata": {},
   "outputs": [],
   "source": []
  }
 ],
 "metadata": {
  "kernelspec": {
   "display_name": "Python 3",
   "language": "python",
   "name": "python3"
  },
  "language_info": {
   "codemirror_mode": {
    "name": "ipython",
    "version": 3
   },
   "file_extension": ".py",
   "mimetype": "text/x-python",
   "name": "python",
   "nbconvert_exporter": "python",
   "pygments_lexer": "ipython3",
   "version": "3.7.3"
  },
  "toc": {
   "base_numbering": 1,
   "nav_menu": {
    "height": "411px",
    "width": "459px"
   },
   "number_sections": true,
   "sideBar": true,
   "skip_h1_title": false,
   "title_cell": "Table of Contents",
   "title_sidebar": "Contents",
   "toc_cell": false,
   "toc_position": {
    "height": "calc(100% - 180px)",
    "left": "10px",
    "top": "150px",
    "width": "298.6px"
   },
   "toc_section_display": true,
   "toc_window_display": true
  }
 },
 "nbformat": 4,
 "nbformat_minor": 4
}
