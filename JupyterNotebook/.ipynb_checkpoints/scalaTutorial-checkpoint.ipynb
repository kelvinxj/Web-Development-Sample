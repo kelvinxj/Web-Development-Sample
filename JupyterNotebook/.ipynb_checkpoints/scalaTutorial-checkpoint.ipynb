{
 "cells": [
  {
   "cell_type": "markdown",
   "metadata": {},
   "source": [
    "# Hello this is scala tutorial notebook\n",
    "## first let's look at some features of scala language\n",
    "\n",
    "paragraph 1\n",
    "\n",
    "paragraph 3"
   ]
  },
  {
   "cell_type": "markdown",
   "metadata": {},
   "source": [
    "First, print some string"
   ]
  },
  {
   "cell_type": "code",
   "execution_count": 7,
   "metadata": {
    "scrolled": true
   },
   "outputs": [
    {
     "name": "stdout",
     "output_type": "stream",
     "text": [
      "Hello, world!\n"
     ]
    }
   ],
   "source": [
    "//print Hello, world!\n",
    "println(\"Hello, world!\")"
   ]
  },
  {
   "cell_type": "markdown",
   "metadata": {},
   "source": [
    "### Immutable variable, can't be change to other value"
   ]
  },
  {
   "cell_type": "code",
   "execution_count": 7,
   "metadata": {},
   "outputs": [
    {
     "name": "stderr",
     "output_type": "stream",
     "text": [
      "cmd7.sc:2: reassignment to val\n",
      "val res7_1 = i = 2\n",
      "               ^Compilation Failed"
     ]
    },
    {
     "ename": "",
     "evalue": "",
     "output_type": "error",
     "traceback": [
      "Compilation Failed"
     ]
    }
   ],
   "source": [
    "val i:Int = 1 // you will get \"reassignment to val\" error when you type \"i=2\"\n",
    "i = 2"
   ]
  },
  {
   "cell_type": "markdown",
   "metadata": {},
   "source": [
    "### Define variables and basic data types: string, int, array,Array accessing. "
   ]
  },
  {
   "cell_type": "code",
   "execution_count": 8,
   "metadata": {
    "scrolled": true
   },
   "outputs": [
    {
     "name": "stdout",
     "output_type": "stream",
     "text": [
      "The second element of array is: 2\n"
     ]
    },
    {
     "data": {
      "text/plain": [
       "\u001b[36mi\u001b[39m: \u001b[32mInt\u001b[39m = \u001b[32m1\u001b[39m\r\n",
       "\u001b[36mmyStr\u001b[39m: \u001b[32mString\u001b[39m = \u001b[32m\"This is a string\"\u001b[39m\r\n",
       "\u001b[36mmyArray\u001b[39m: \u001b[32mArray\u001b[39m[\u001b[32mInt\u001b[39m] = \u001b[33mArray\u001b[39m(\u001b[32m1\u001b[39m, \u001b[32m2\u001b[39m, \u001b[32m3\u001b[39m)"
      ]
     },
     "execution_count": 8,
     "metadata": {},
     "output_type": "execute_result"
    }
   ],
   "source": [
    "val i: Int = 1\n",
    "val myStr = \"This is a string\"\n",
    "val myArray:Array[Int] = Array(1,2,3)\n",
    "println(\"The second element of array is: \" + myArray(1))"
   ]
  },
  {
   "cell_type": "markdown",
   "metadata": {},
   "source": [
    "### Type convert:\n",
    "Int to String"
   ]
  },
  {
   "cell_type": "code",
   "execution_count": 10,
   "metadata": {},
   "outputs": [
    {
     "name": "stdout",
     "output_type": "stream",
     "text": [
      "98\n"
     ]
    },
    {
     "data": {
      "text/plain": [
       "\u001b[36mi2\u001b[39m: \u001b[32mInt\u001b[39m = \u001b[32m98\u001b[39m\r\n",
       "\u001b[36mmyStr123\u001b[39m: \u001b[32mString\u001b[39m = \u001b[32m\"98\"\u001b[39m"
      ]
     },
     "execution_count": 10,
     "metadata": {},
     "output_type": "execute_result"
    }
   ],
   "source": [
    "val i2:Int = 98\n",
    "val myStr123 = i2.toString\n",
    "println(myStr123)"
   ]
  },
  {
   "cell_type": "markdown",
   "metadata": {},
   "source": [
    "### String to Int"
   ]
  },
  {
   "cell_type": "code",
   "execution_count": 13,
   "metadata": {},
   "outputs": [
    {
     "name": "stdout",
     "output_type": "stream",
     "text": [
      "98 + 99 = 197\n",
      "98 + 99 = 197\n"
     ]
    },
    {
     "data": {
      "text/plain": [
       "\u001b[36mnumStr\u001b[39m: \u001b[32mString\u001b[39m = \u001b[32m\"99\"\u001b[39m"
      ]
     },
     "execution_count": 13,
     "metadata": {},
     "output_type": "execute_result"
    }
   ],
   "source": [
    "val numStr = \"99\"\n",
    "//using Java Integer.parseInt method\n",
    "println(\"98 + 99 = \" + (i2 + Integer.parseInt(numStr)))\n",
    "//using scala StringLike.toInt method (StringLike.toInt call java Integer.parseInt()):\n",
    "println(\"98 + 99 = \" + (i2 + \"99\".toInt))"
   ]
  },
  {
   "cell_type": "code",
   "execution_count": null,
   "metadata": {},
   "outputs": [],
   "source": []
  }
 ],
 "metadata": {
  "kernelspec": {
   "display_name": "Scala",
   "language": "scala",
   "name": "scala"
  },
  "language_info": {
   "codemirror_mode": "text/x-scala",
   "file_extension": ".scala",
   "mimetype": "text/x-scala",
   "name": "scala",
   "nbconvert_exporter": "script",
   "version": "2.12.9"
  }
 },
 "nbformat": 4,
 "nbformat_minor": 2
}
