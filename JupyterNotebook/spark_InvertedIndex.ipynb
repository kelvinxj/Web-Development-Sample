{
 "cells": [
  {
   "cell_type": "markdown",
   "metadata": {},
   "source": [
    "# Initialize"
   ]
  },
  {
   "cell_type": "code",
   "execution_count": 1,
   "metadata": {},
   "outputs": [
    {
     "name": "stdout",
     "output_type": "stream",
     "text": [
      "Loading spark-stubs\n",
      "Getting spark JARs\n",
      "Creating SparkSession\n"
     ]
    },
    {
     "name": "stderr",
     "output_type": "stream",
     "text": [
      "Using Spark's default log4j profile: org/apache/spark/log4j-defaults.properties\n"
     ]
    },
    {
     "data": {
      "text/html": [
       "<a target=\"_blank\" href=\"http://192.168.3.29:4040\">Spark UI</a>"
      ]
     },
     "metadata": {},
     "output_type": "display_data"
    },
    {
     "data": {
      "text/plain": [
       "\u001b[32mimport \u001b[39m\u001b[36m$ivy.$                                   // Or use any other 2.x version here\n",
       "\u001b[39m\n",
       "\u001b[32mimport \u001b[39m\u001b[36m$ivy.$                               // Not required since almond 0.7.0 (will be automatically added when importing spark)\n",
       "\n",
       "\u001b[39m\n",
       "\u001b[32mimport \u001b[39m\u001b[36morg.apache.log4j.{Level, Logger}\n",
       "\u001b[39m\n",
       "\u001b[32mimport \u001b[39m\u001b[36morg.apache.spark.sql._\n",
       "\n",
       "//jupyter notebook way to create spark session\n",
       "\u001b[39m\n",
       "\u001b[36mspark\u001b[39m: \u001b[32mSparkSession\u001b[39m = org.apache.spark.sql.SparkSession@593b72\n",
       "\u001b[36msc\u001b[39m: \u001b[32morg\u001b[39m.\u001b[32mapache\u001b[39m.\u001b[32mspark\u001b[39m.\u001b[32mSparkContext\u001b[39m = org.apache.spark.SparkContext@18611a0"
      ]
     },
     "execution_count": 1,
     "metadata": {},
     "output_type": "execute_result"
    }
   ],
   "source": [
    "import $ivy.`org.apache.spark::spark-sql:2.4.5` // Or use any other 2.x version here\n",
    "import $ivy.`sh.almond::almond-spark:0.9.1` // Not required since almond 0.7.0 (will be automatically added when importing spark)\n",
    "\n",
    "import org.apache.log4j.{Level, Logger}\n",
    "Logger.getLogger(\"org\").setLevel(Level.OFF)\n",
    "\n",
    "import org.apache.spark.sql._\n",
    "\n",
    "//jupyter notebook way to create spark session\n",
    "val spark = {\n",
    "  NotebookSparkSession.builder()\n",
    "    .master(\"local[*]\")\n",
    "    .getOrCreate()\n",
    "}\n",
    "\n",
    "val sc = spark.sparkContext"
   ]
  },
  {
   "cell_type": "markdown",
   "metadata": {},
   "source": [
    "# Load text files"
   ]
  },
  {
   "cell_type": "code",
   "execution_count": 16,
   "metadata": {},
   "outputs": [
    {
     "data": {
      "text/plain": [
       "\u001b[36mfile_contents\u001b[39m: \u001b[32morg\u001b[39m.\u001b[32mapache\u001b[39m.\u001b[32mspark\u001b[39m.\u001b[32mrdd\u001b[39m.\u001b[32mRDD\u001b[39m[(\u001b[32mString\u001b[39m, \u001b[32mString\u001b[39m)] = /home/pi/sparktest/data/invertedIndex MapPartitionsRDD[23] at wholeTextFiles at cmd15.sc:1"
      ]
     },
     "execution_count": 16,
     "metadata": {},
     "output_type": "execute_result"
    }
   ],
   "source": [
    "val file_contents = sc.wholeTextFiles(\"/home/pi/sparktest/data/invertedIndex\")"
   ]
  },
  {
   "cell_type": "code",
   "execution_count": 18,
   "metadata": {},
   "outputs": [
    {
     "ename": "",
     "evalue": "",
     "output_type": "error",
     "traceback": [
      "\u001b[31morg.apache.hadoop.mapred.FileAlreadyExistsException: Output directory file:/home/pi/sparktest/data/invertedIndex/result already exists\u001b[39m\n  org.apache.hadoop.mapred.FileOutputFormat.checkOutputSpecs(\u001b[32mFileOutputFormat.java\u001b[39m:\u001b[32m132\u001b[39m)\n  org.apache.spark.internal.io.HadoopMapRedWriteConfigUtil.assertConf(\u001b[32mSparkHadoopWriter.scala\u001b[39m:\u001b[32m289\u001b[39m)\n  org.apache.spark.internal.io.SparkHadoopWriter$.write(\u001b[32mSparkHadoopWriter.scala\u001b[39m:\u001b[32m71\u001b[39m)\n  org.apache.spark.rdd.PairRDDFunctions.$anonfun$saveAsHadoopDataset$1(\u001b[32mPairRDDFunctions.scala\u001b[39m:\u001b[32m1096\u001b[39m)\n  scala.runtime.java8.JFunction0$mcV$sp.apply(\u001b[32mJFunction0$mcV$sp.java\u001b[39m:\u001b[32m23\u001b[39m)\n  org.apache.spark.rdd.RDDOperationScope$.withScope(\u001b[32mRDDOperationScope.scala\u001b[39m:\u001b[32m151\u001b[39m)\n  org.apache.spark.rdd.RDDOperationScope$.withScope(\u001b[32mRDDOperationScope.scala\u001b[39m:\u001b[32m112\u001b[39m)\n  org.apache.spark.rdd.RDD.withScope(\u001b[32mRDD.scala\u001b[39m:\u001b[32m385\u001b[39m)\n  org.apache.spark.rdd.PairRDDFunctions.saveAsHadoopDataset(\u001b[32mPairRDDFunctions.scala\u001b[39m:\u001b[32m1094\u001b[39m)\n  org.apache.spark.rdd.PairRDDFunctions.$anonfun$saveAsHadoopFile$4(\u001b[32mPairRDDFunctions.scala\u001b[39m:\u001b[32m1067\u001b[39m)\n  scala.runtime.java8.JFunction0$mcV$sp.apply(\u001b[32mJFunction0$mcV$sp.java\u001b[39m:\u001b[32m23\u001b[39m)\n  org.apache.spark.rdd.RDDOperationScope$.withScope(\u001b[32mRDDOperationScope.scala\u001b[39m:\u001b[32m151\u001b[39m)\n  org.apache.spark.rdd.RDDOperationScope$.withScope(\u001b[32mRDDOperationScope.scala\u001b[39m:\u001b[32m112\u001b[39m)\n  org.apache.spark.rdd.RDD.withScope(\u001b[32mRDD.scala\u001b[39m:\u001b[32m385\u001b[39m)\n  org.apache.spark.rdd.PairRDDFunctions.saveAsHadoopFile(\u001b[32mPairRDDFunctions.scala\u001b[39m:\u001b[32m1032\u001b[39m)\n  org.apache.spark.rdd.PairRDDFunctions.$anonfun$saveAsHadoopFile$1(\u001b[32mPairRDDFunctions.scala\u001b[39m:\u001b[32m958\u001b[39m)\n  scala.runtime.java8.JFunction0$mcV$sp.apply(\u001b[32mJFunction0$mcV$sp.java\u001b[39m:\u001b[32m23\u001b[39m)\n  org.apache.spark.rdd.RDDOperationScope$.withScope(\u001b[32mRDDOperationScope.scala\u001b[39m:\u001b[32m151\u001b[39m)\n  org.apache.spark.rdd.RDDOperationScope$.withScope(\u001b[32mRDDOperationScope.scala\u001b[39m:\u001b[32m112\u001b[39m)\n  org.apache.spark.rdd.RDD.withScope(\u001b[32mRDD.scala\u001b[39m:\u001b[32m385\u001b[39m)\n  org.apache.spark.rdd.PairRDDFunctions.saveAsHadoopFile(\u001b[32mPairRDDFunctions.scala\u001b[39m:\u001b[32m958\u001b[39m)\n  org.apache.spark.rdd.RDD.$anonfun$saveAsTextFile$1(\u001b[32mRDD.scala\u001b[39m:\u001b[32m1544\u001b[39m)\n  scala.runtime.java8.JFunction0$mcV$sp.apply(\u001b[32mJFunction0$mcV$sp.java\u001b[39m:\u001b[32m23\u001b[39m)\n  org.apache.spark.rdd.RDDOperationScope$.withScope(\u001b[32mRDDOperationScope.scala\u001b[39m:\u001b[32m151\u001b[39m)\n  org.apache.spark.rdd.RDDOperationScope$.withScope(\u001b[32mRDDOperationScope.scala\u001b[39m:\u001b[32m112\u001b[39m)\n  org.apache.spark.rdd.RDD.withScope(\u001b[32mRDD.scala\u001b[39m:\u001b[32m385\u001b[39m)\n  org.apache.spark.rdd.RDD.saveAsTextFile(\u001b[32mRDD.scala\u001b[39m:\u001b[32m1523\u001b[39m)\n  ammonite.$sess.cmd17$Helper.<init>(\u001b[32mcmd17.sc\u001b[39m:\u001b[32m11\u001b[39m)\n  ammonite.$sess.cmd17$.<init>(\u001b[32mcmd17.sc\u001b[39m:\u001b[32m7\u001b[39m)\n  ammonite.$sess.cmd17$.<clinit>(\u001b[32mcmd17.sc\u001b[39m:\u001b[32m-1\u001b[39m)"
     ]
    }
   ],
   "source": [
    "val file_contents_refined = file_contents.map{\n",
    "case(id,text)=>\n",
    "    val lastSep = id.lastIndexOf(\"/\")\n",
    "    val id2 = if(lastSep <0) id.trim\n",
    "        else id.substring(lastSep+1,id.length).trim\n",
    "    val text2 = text.trim.replaceAll(\"\"\"\\s*\\n\\s*\"\"\",\" \")\n",
    "(id2,text2)\n",
    "}\n",
    "\n",
    "// file_contents_refined.map(k=>k._1).collect\n",
    "file_contents_refined.saveAsTextFile(\"/home/pi/sparktest/data/invertedIndex/result\")"
   ]
  },
  {
   "cell_type": "code",
   "execution_count": 19,
   "metadata": {},
   "outputs": [
    {
     "data": {
      "text/plain": [
       "\u001b[36mlineRE\u001b[39m: \u001b[32mscala\u001b[39m.\u001b[32mutil\u001b[39m.\u001b[32mmatching\u001b[39m.\u001b[32mRegex\u001b[39m = ^\\s*\\(([^,]+),(.*)\\)\\s*$\n",
       "\u001b[36mrawInput\u001b[39m: \u001b[32morg\u001b[39m.\u001b[32mapache\u001b[39m.\u001b[32mspark\u001b[39m.\u001b[32mrdd\u001b[39m.\u001b[32mRDD\u001b[39m[\u001b[32mString\u001b[39m] = /home/pi/sparktest/data/invertedIndex/result MapPartitionsRDD[29] at textFile at cmd18.sc:2\n",
       "\u001b[36minput\u001b[39m: \u001b[32morg\u001b[39m.\u001b[32mapache\u001b[39m.\u001b[32mspark\u001b[39m.\u001b[32mrdd\u001b[39m.\u001b[32mRDD\u001b[39m[(\u001b[32mString\u001b[39m, \u001b[32mString\u001b[39m)] = MapPartitionsRDD[30] at map at cmd18.sc:3"
      ]
     },
     "execution_count": 19,
     "metadata": {},
     "output_type": "execute_result"
    }
   ],
   "source": [
    "val lineRE = \"\"\"^\\s*\\(([^,]+),(.*)\\)\\s*$\"\"\".r\n",
    "val rawInput = sc.textFile(\"/home/pi/sparktest/data/invertedIndex/result\")\n",
    "val input = rawInput.map{\n",
    "    case lineRE(name,text)=>(name.trim,text.toLowerCase)\n",
    "    case badLine =>\n",
    "    (\"\",\"\")\n",
    "}\n",
    "//input.collect()\n",
    "// val input = sc.textFile(\"/home/pi/sparktest/data/invertedIndex/result\")\n",
    "// input.collect()"
   ]
  },
  {
   "cell_type": "code",
   "execution_count": 40,
   "metadata": {},
   "outputs": [
    {
     "data": {
      "text/html": [
       "<div>\n",
       "  <span style=\"float: left;\">take at cmd39.sc:13</span>\n",
       "</div>\n"
      ]
     },
     "metadata": {},
     "output_type": "display_data"
    },
    {
     "data": {
      "text/html": [
       "<div class=\"progress\">\n",
       "  <div class=\"progress-bar\" role=\"progressbar\" style=\"background-color: blue; width: 100%; word-wrap: normal; white-space: nowrap; text-align: center; color: white\" aria-valuenow=\"100\" aria-valuemin=\"0\" aria-valuemax=\"100\">\n",
       "    1 / 1\n",
       "  </div>\n",
       "  <div class=\"progress-bar\" role=\"progressbar\" style=\"background-color: red; width: 0%\" aria-valuenow=\"0\" aria-valuemin=\"0\" aria-valuemax=\"100\"></div>\n",
       "</div>\n"
      ]
     },
     "metadata": {},
     "output_type": "display_data"
    },
    {
     "data": {
      "text/html": [
       "<div>\n",
       "  <span style=\"float: left;\">filter at cmd39.sc:10</span>\n",
       "</div>\n"
      ]
     },
     "metadata": {},
     "output_type": "display_data"
    },
    {
     "data": {
      "text/html": [
       "<div class=\"progress\">\n",
       "  <div class=\"progress-bar\" role=\"progressbar\" style=\"background-color: blue; width: 100%; word-wrap: normal; white-space: nowrap; text-align: center; color: white\" aria-valuenow=\"100\" aria-valuemin=\"0\" aria-valuemax=\"100\">\n",
       "    3 / 3\n",
       "  </div>\n",
       "  <div class=\"progress-bar\" role=\"progressbar\" style=\"background-color: red; width: 0%\" aria-valuenow=\"0\" aria-valuemin=\"0\" aria-valuemax=\"100\"></div>\n",
       "</div>\n"
      ]
     },
     "metadata": {},
     "output_type": "display_data"
    },
    {
     "data": {
      "text/html": [
       "<div>\n",
       "  <span style=\"float: left;\">take at cmd39.sc:16</span>\n",
       "</div>\n"
      ]
     },
     "metadata": {},
     "output_type": "display_data"
    },
    {
     "data": {
      "text/html": [
       "<div class=\"progress\">\n",
       "  <div class=\"progress-bar\" role=\"progressbar\" style=\"background-color: blue; width: 100%; word-wrap: normal; white-space: nowrap; text-align: center; color: white\" aria-valuenow=\"100\" aria-valuemin=\"0\" aria-valuemax=\"100\">\n",
       "    1 / 1\n",
       "  </div>\n",
       "  <div class=\"progress-bar\" role=\"progressbar\" style=\"background-color: red; width: 0%\" aria-valuenow=\"0\" aria-valuemin=\"0\" aria-valuemax=\"100\"></div>\n",
       "</div>\n"
      ]
     },
     "metadata": {},
     "output_type": "display_data"
    },
    {
     "data": {
      "text/html": [
       "<div>\n",
       "  <span style=\"float: left;\">take at cmd39.sc:16</span>\n",
       "</div>\n"
      ]
     },
     "metadata": {},
     "output_type": "display_data"
    },
    {
     "data": {
      "text/html": [
       "<div class=\"progress\">\n",
       "  <div class=\"progress-bar\" role=\"progressbar\" style=\"background-color: blue; width: 100%; word-wrap: normal; white-space: nowrap; text-align: center; color: white\" aria-valuenow=\"100\" aria-valuemin=\"0\" aria-valuemax=\"100\">\n",
       "    2 / 2\n",
       "  </div>\n",
       "  <div class=\"progress-bar\" role=\"progressbar\" style=\"background-color: red; width: 0%\" aria-valuenow=\"0\" aria-valuemin=\"0\" aria-valuemax=\"100\"></div>\n",
       "</div>\n"
      ]
     },
     "metadata": {},
     "output_type": "display_data"
    },
    {
     "data": {
      "text/plain": [
       "\u001b[36mrawWordContMap\u001b[39m: \u001b[32morg\u001b[39m.\u001b[32mapache\u001b[39m.\u001b[32mspark\u001b[39m.\u001b[32mrdd\u001b[39m.\u001b[32mRDD\u001b[39m[((\u001b[32mString\u001b[39m, \u001b[32mString\u001b[39m), \u001b[32mInt\u001b[39m)] = MapPartitionsRDD[63] at flatMap at cmd39.sc:1\n",
       "\u001b[36mstopWords\u001b[39m: \u001b[32mSet\u001b[39m[\u001b[32mString\u001b[39m] = \u001b[33mSet\u001b[39m(\u001b[32m\"sql\"\u001b[39m, \u001b[32m\"slow\"\u001b[39m, \u001b[32m\"disk\"\u001b[39m, \u001b[32m\"all\"\u001b[39m, \u001b[32m\"to\"\u001b[39m, \u001b[32m\"with\"\u001b[39m, \u001b[32m\"the\"\u001b[39m)\n",
       "\u001b[36mrawWordContMapClean\u001b[39m: \u001b[32morg\u001b[39m.\u001b[32mapache\u001b[39m.\u001b[32mspark\u001b[39m.\u001b[32mrdd\u001b[39m.\u001b[32mRDD\u001b[39m[((\u001b[32mString\u001b[39m, \u001b[32mString\u001b[39m), \u001b[32mInt\u001b[39m)] = MapPartitionsRDD[64] at filter at cmd39.sc:10\n",
       "\u001b[36mres39_3\u001b[39m: \u001b[32mArray\u001b[39m[((\u001b[32mString\u001b[39m, \u001b[32mString\u001b[39m), \u001b[32mInt\u001b[39m)] = \u001b[33mArray\u001b[39m(\n",
       "  ((\u001b[32m\"using\"\u001b[39m, \u001b[32m\"webpage1.txt\"\u001b[39m), \u001b[32m1\u001b[39m),\n",
       "  ((\u001b[32m\"spark\"\u001b[39m, \u001b[32m\"webpage1.txt\"\u001b[39m), \u001b[32m1\u001b[39m),\n",
       "  ((\u001b[32m\"spark\"\u001b[39m, \u001b[32m\"webpage1.txt\"\u001b[39m), \u001b[32m1\u001b[39m)\n",
       ")\n",
       "\u001b[36mfinalMap\u001b[39m: \u001b[32morg\u001b[39m.\u001b[32mapache\u001b[39m.\u001b[32mspark\u001b[39m.\u001b[32mrdd\u001b[39m.\u001b[32mRDD\u001b[39m[((\u001b[32mString\u001b[39m, \u001b[32mString\u001b[39m), \u001b[32mInt\u001b[39m)] = ShuffledRDD[65] at reduceByKey at cmd39.sc:15\n",
       "\u001b[36mres39_5\u001b[39m: \u001b[32mArray\u001b[39m[((\u001b[32mString\u001b[39m, \u001b[32mString\u001b[39m), \u001b[32mInt\u001b[39m)] = \u001b[33mArray\u001b[39m(\n",
       "  ((\u001b[32m\"compare\"\u001b[39m, \u001b[32m\"webpage2.txt\"\u001b[39m), \u001b[32m1\u001b[39m),\n",
       "  ((\u001b[32m\"using\"\u001b[39m, \u001b[32m\"webpage1.txt\"\u001b[39m), \u001b[32m1\u001b[39m),\n",
       "  ((\u001b[32m\"sparkcontext\"\u001b[39m, \u001b[32m\"webpage1.txt\"\u001b[39m), \u001b[32m1\u001b[39m),\n",
       "  ((\u001b[32m\"hadoop\"\u001b[39m, \u001b[32m\"webpage1.txt\"\u001b[39m), \u001b[32m2\u001b[39m),\n",
       "  ((\u001b[32m\"spark\"\u001b[39m, \u001b[32m\"webpage1.txt\"\u001b[39m), \u001b[32m5\u001b[39m),\n",
       "  ((\u001b[32m\"processing\"\u001b[39m, \u001b[32m\"webpage2.txt\"\u001b[39m), \u001b[32m1\u001b[39m),\n",
       "  ((\u001b[32m\"dataframe\"\u001b[39m, \u001b[32m\"webpage1.txt\"\u001b[39m), \u001b[32m1\u001b[39m),\n",
       "  ((\u001b[32m\"in\"\u001b[39m, \u001b[32m\"webpage2.txt\"\u001b[39m), \u001b[32m1\u001b[39m),\n",
       "  ((\u001b[32m\"data\"\u001b[39m, \u001b[32m\"webpage2.txt\"\u001b[39m), \u001b[32m1\u001b[39m),\n",
       "  ((\u001b[32m\"process\"\u001b[39m, \u001b[32m\"webpage2.txt\"\u001b[39m), \u001b[32m1\u001b[39m),\n",
       "  ((\u001b[32m\"spark\"\u001b[39m, \u001b[32m\"webpage2.txt\"\u001b[39m), \u001b[32m2\u001b[39m),\n",
       "  ((\u001b[32m\"\"\u001b[39m, \u001b[32m\"webpage2.txt\"\u001b[39m), \u001b[32m1\u001b[39m),\n",
       "  ((\u001b[32m\"do\"\u001b[39m, \u001b[32m\"webpage2.txt\"\u001b[39m), \u001b[32m1\u001b[39m),\n",
       "  ((\u001b[32m\"memory\"\u001b[39m, \u001b[32m\"webpage2.txt\"\u001b[39m), \u001b[32m1\u001b[39m),\n",
       "  ((\u001b[32m\"use\"\u001b[39m, \u001b[32m\"webpage2.txt\"\u001b[39m), \u001b[32m1\u001b[39m),\n",
       "  ((\u001b[32m\"hadoop\"\u001b[39m, \u001b[32m\"webpage2.txt\"\u001b[39m), \u001b[32m3\u001b[39m)\n",
       ")"
      ]
     },
     "execution_count": 40,
     "metadata": {},
     "output_type": "execute_result"
    }
   ],
   "source": [
    "val rawWordContMap = input.flatMap{\n",
    "    case(path,text) =>\n",
    "        text.trim.split(\"\"\"[^\\w']\"\"\").map{\n",
    "            word=>((word,path),1)\n",
    "        }\n",
    "}\n",
    "\n",
    "val stopWords = Set(\"to\",\"all\",\"the\",\"sql\",\"slow\",\"with\",\"all\",\"disk\")\n",
    "\n",
    "val rawWordContMapClean = rawWordContMap.filter{\n",
    "    case((word,_),_) => stopWords.contains(word) == false\n",
    "}\n",
    "rawWordContMapClean.take(3)\n",
    "\n",
    "val finalMap = rawWordContMapClean.reduceByKey((count1,count2)=>count1+count2)\n",
    "finalMap.take(20)\n",
    "\n",
    "// val rawWordContMap = input.flatMap(t=>t._2.split(\"\"\"[^\\w']\"\"\"))\n",
    "// rawWordContMap.take(10)"
   ]
  },
  {
   "cell_type": "code",
   "execution_count": 33,
   "metadata": {},
   "outputs": [
    {
     "data": {
      "text/html": [
       "<div>\n",
       "  <span style=\"float: left;\">map at cmd32.sc:1</span>\n",
       "</div>\n"
      ]
     },
     "metadata": {},
     "output_type": "display_data"
    },
    {
     "data": {
      "text/html": [
       "<div class=\"progress\">\n",
       "  <div class=\"progress-bar\" role=\"progressbar\" style=\"background-color: blue; width: 100%; word-wrap: normal; white-space: nowrap; text-align: center; color: white\" aria-valuenow=\"100\" aria-valuemin=\"0\" aria-valuemax=\"100\">\n",
       "    3 / 3\n",
       "  </div>\n",
       "  <div class=\"progress-bar\" role=\"progressbar\" style=\"background-color: red; width: 0%\" aria-valuenow=\"0\" aria-valuemin=\"0\" aria-valuemax=\"100\"></div>\n",
       "</div>\n"
      ]
     },
     "metadata": {},
     "output_type": "display_data"
    },
    {
     "data": {
      "text/html": [
       "<div>\n",
       "  <span style=\"float: left;\">take at cmd32.sc:6</span>\n",
       "</div>\n"
      ]
     },
     "metadata": {},
     "output_type": "display_data"
    },
    {
     "data": {
      "text/html": [
       "<div class=\"progress\">\n",
       "  <div class=\"progress-bar\" role=\"progressbar\" style=\"background-color: blue; width: 100%; word-wrap: normal; white-space: nowrap; text-align: center; color: white\" aria-valuenow=\"100\" aria-valuemin=\"0\" aria-valuemax=\"100\">\n",
       "    1 / 1\n",
       "  </div>\n",
       "  <div class=\"progress-bar\" role=\"progressbar\" style=\"background-color: red; width: 0%\" aria-valuenow=\"0\" aria-valuemin=\"0\" aria-valuemax=\"100\"></div>\n",
       "</div>\n"
      ]
     },
     "metadata": {},
     "output_type": "display_data"
    },
    {
     "data": {
      "text/html": [
       "<div>\n",
       "  <span style=\"float: left;\">take at cmd32.sc:13</span>\n",
       "</div>\n"
      ]
     },
     "metadata": {},
     "output_type": "display_data"
    },
    {
     "data": {
      "text/html": [
       "<div class=\"progress\">\n",
       "  <div class=\"progress-bar\" role=\"progressbar\" style=\"background-color: blue; width: 100%; word-wrap: normal; white-space: nowrap; text-align: center; color: white\" aria-valuenow=\"100\" aria-valuemin=\"0\" aria-valuemax=\"100\">\n",
       "    1 / 1\n",
       "  </div>\n",
       "  <div class=\"progress-bar\" role=\"progressbar\" style=\"background-color: red; width: 0%\" aria-valuenow=\"0\" aria-valuemin=\"0\" aria-valuemax=\"100\"></div>\n",
       "</div>\n"
      ]
     },
     "metadata": {},
     "output_type": "display_data"
    },
    {
     "data": {
      "text/plain": [
       "\u001b[36mmoreGoodFinalMap\u001b[39m: \u001b[32morg\u001b[39m.\u001b[32mapache\u001b[39m.\u001b[32mspark\u001b[39m.\u001b[32mrdd\u001b[39m.\u001b[32mRDD\u001b[39m[(\u001b[32mString\u001b[39m, \u001b[32mIterable\u001b[39m[(\u001b[32mString\u001b[39m, \u001b[32mInt\u001b[39m)])] = ShuffledRDD[57] at groupByKey at cmd32.sc:1\n",
       "\u001b[36mres32_1\u001b[39m: \u001b[32mArray\u001b[39m[(\u001b[32mString\u001b[39m, \u001b[32mIterable\u001b[39m[(\u001b[32mString\u001b[39m, \u001b[32mInt\u001b[39m)])] = \u001b[33mArray\u001b[39m(\n",
       "  (\u001b[32m\"slow\"\u001b[39m, \u001b[33mCompactBuffer\u001b[39m((\u001b[32m\"webpage2.txt\"\u001b[39m, \u001b[32m1\u001b[39m))),\n",
       "  (\u001b[32m\"with\"\u001b[39m, \u001b[33mCompactBuffer\u001b[39m((\u001b[32m\"webpage2.txt\"\u001b[39m, \u001b[32m1\u001b[39m))),\n",
       "  (\u001b[32m\"\"\u001b[39m, \u001b[33mCompactBuffer\u001b[39m((\u001b[32m\"webpage2.txt\"\u001b[39m, \u001b[32m1\u001b[39m)))\n",
       ")\n",
       "\u001b[36msuperGoodFinalMap\u001b[39m: \u001b[32morg\u001b[39m.\u001b[32mapache\u001b[39m.\u001b[32mspark\u001b[39m.\u001b[32mrdd\u001b[39m.\u001b[32mRDD\u001b[39m[(\u001b[32mString\u001b[39m, \u001b[32mString\u001b[39m)] = MapPartitionsRDD[58] at map at cmd32.sc:9\n",
       "\u001b[36mres32_3\u001b[39m: \u001b[32mArray\u001b[39m[(\u001b[32mString\u001b[39m, \u001b[32mString\u001b[39m)] = \u001b[33mArray\u001b[39m(\n",
       "  (\u001b[32m\"slow\"\u001b[39m, \u001b[32m\"(webpage2.txt,1)\"\u001b[39m),\n",
       "  (\u001b[32m\"with\"\u001b[39m, \u001b[32m\"(webpage2.txt,1)\"\u001b[39m),\n",
       "  (\u001b[32m\"\"\u001b[39m, \u001b[32m\"(webpage2.txt,1)\"\u001b[39m)\n",
       ")"
      ]
     },
     "execution_count": 33,
     "metadata": {},
     "output_type": "execute_result"
    }
   ],
   "source": [
    "val moreGoodFinalMap = finalMap.map{\n",
    "    case((word,path),n) => (word,(path,n))\n",
    "}\n",
    ".groupByKey\n",
    "\n",
    "moreGoodFinalMap.take(3)\n",
    "\n",
    "val superGoodFinalMap = moreGoodFinalMap\n",
    ".map{\n",
    "    case(word, iterable) => (word,iterable.mkString(\",\"))\n",
    "}\n",
    "\n",
    "superGoodFinalMap.take(3)"
   ]
  },
  {
   "cell_type": "markdown",
   "metadata": {},
   "source": [
    "# refined"
   ]
  },
  {
   "cell_type": "code",
   "execution_count": 37,
   "metadata": {},
   "outputs": [
    {
     "data": {
      "text/html": [
       "<div>\n",
       "  <span style=\"float: left;\">collect at cmd36.sc:10</span>\n",
       "</div>\n"
      ]
     },
     "metadata": {},
     "output_type": "display_data"
    },
    {
     "data": {
      "text/html": [
       "<div class=\"progress\">\n",
       "  <div class=\"progress-bar\" role=\"progressbar\" style=\"background-color: blue; width: 100%; word-wrap: normal; white-space: nowrap; text-align: center; color: white\" aria-valuenow=\"100\" aria-valuemin=\"0\" aria-valuemax=\"100\">\n",
       "    3 / 3\n",
       "  </div>\n",
       "  <div class=\"progress-bar\" role=\"progressbar\" style=\"background-color: red; width: 0%\" aria-valuenow=\"0\" aria-valuemin=\"0\" aria-valuemax=\"100\"></div>\n",
       "</div>\n"
      ]
     },
     "metadata": {},
     "output_type": "display_data"
    },
    {
     "data": {
      "text/plain": [
       "\u001b[36msuperGoodFinalMapSorted\u001b[39m: \u001b[32morg\u001b[39m.\u001b[32mapache\u001b[39m.\u001b[32mspark\u001b[39m.\u001b[32mrdd\u001b[39m.\u001b[32mRDD\u001b[39m[(\u001b[32mString\u001b[39m, \u001b[32mString\u001b[39m)] = MapPartitionsRDD[62] at map at cmd36.sc:2\n",
       "\u001b[36mres36_1\u001b[39m: \u001b[32mArray\u001b[39m[(\u001b[32mString\u001b[39m, \u001b[32mString\u001b[39m)] = \u001b[33mArray\u001b[39m(\n",
       "  (\u001b[32m\"slow\"\u001b[39m, \u001b[32m\"(webpage2.txt,1)\"\u001b[39m),\n",
       "  (\u001b[32m\"with\"\u001b[39m, \u001b[32m\"(webpage2.txt,1)\"\u001b[39m),\n",
       "  (\u001b[32m\"\"\u001b[39m, \u001b[32m\"(webpage2.txt,1)\"\u001b[39m),\n",
       "  (\u001b[32m\"sql\"\u001b[39m, \u001b[32m\"(webpage1.txt,1)\"\u001b[39m),\n",
       "  (\u001b[32m\"use\"\u001b[39m, \u001b[32m\"(webpage2.txt,1)\"\u001b[39m),\n",
       "  (\u001b[32m\"the\"\u001b[39m, \u001b[32m\"(webpage2.txt,1)\"\u001b[39m),\n",
       "  (\u001b[32m\"dataframe\"\u001b[39m, \u001b[32m\"(webpage1.txt,1)\"\u001b[39m),\n",
       "  (\u001b[32m\"hadoop\"\u001b[39m, \u001b[32m\"(webpage2.txt,3), (webpage1.txt,2)\"\u001b[39m),\n",
       "  (\u001b[32m\"memory\"\u001b[39m, \u001b[32m\"(webpage2.txt,1)\"\u001b[39m),\n",
       "  (\u001b[32m\"do\"\u001b[39m, \u001b[32m\"(webpage2.txt,1)\"\u001b[39m),\n",
       "  (\u001b[32m\"disk\"\u001b[39m, \u001b[32m\"(webpage2.txt,1)\"\u001b[39m),\n",
       "  (\u001b[32m\"all\"\u001b[39m, \u001b[32m\"(webpage2.txt,1)\"\u001b[39m),\n",
       "  (\u001b[32m\"processing\"\u001b[39m, \u001b[32m\"(webpage2.txt,1)\"\u001b[39m),\n",
       "  (\u001b[32m\"using\"\u001b[39m, \u001b[32m\"(webpage1.txt,1)\"\u001b[39m),\n",
       "  (\u001b[32m\"compare\"\u001b[39m, \u001b[32m\"(webpage2.txt,1)\"\u001b[39m),\n",
       "  (\u001b[32m\"spark\"\u001b[39m, \u001b[32m\"(webpage1.txt,5), (webpage2.txt,2)\"\u001b[39m),\n",
       "  (\u001b[32m\"process\"\u001b[39m, \u001b[32m\"(webpage2.txt,1)\"\u001b[39m),\n",
       "  (\u001b[32m\"to\"\u001b[39m, \u001b[32m\"(webpage2.txt,1)\"\u001b[39m),\n",
       "  (\u001b[32m\"data\"\u001b[39m, \u001b[32m\"(webpage2.txt,1)\"\u001b[39m),\n",
       "  (\u001b[32m\"in\"\u001b[39m, \u001b[32m\"(webpage2.txt,1)\"\u001b[39m),\n",
       "  (\u001b[32m\"sparkcontext\"\u001b[39m, \u001b[32m\"(webpage1.txt,1)\"\u001b[39m)\n",
       ")"
      ]
     },
     "execution_count": 37,
     "metadata": {},
     "output_type": "execute_result"
    }
   ],
   "source": [
    "val superGoodFinalMapSorted = moreGoodFinalMap\n",
    ".map{\n",
    "    case(word, iterable) => \n",
    "        val vect = iterable.to[Vector].sortBy{\n",
    "            case (path,n) => (-n,path)\n",
    "        }\n",
    "        (word,vect.mkString(\", \"))\n",
    "}\n",
    "\n",
    "superGoodFinalMapSorted.collect()"
   ]
  }
 ],
 "metadata": {
  "kernelspec": {
   "display_name": "Scala",
   "language": "scala",
   "name": "scala"
  },
  "language_info": {
   "codemirror_mode": "text/x-scala",
   "file_extension": ".scala",
   "mimetype": "text/x-scala",
   "name": "scala",
   "nbconvert_exporter": "script",
   "version": "2.12.10"
  },
  "toc": {
   "base_numbering": 1,
   "nav_menu": {},
   "number_sections": true,
   "sideBar": true,
   "skip_h1_title": false,
   "title_cell": "Table of Contents",
   "title_sidebar": "Contents",
   "toc_cell": false,
   "toc_position": {},
   "toc_section_display": true,
   "toc_window_display": false
  }
 },
 "nbformat": 4,
 "nbformat_minor": 4
}
