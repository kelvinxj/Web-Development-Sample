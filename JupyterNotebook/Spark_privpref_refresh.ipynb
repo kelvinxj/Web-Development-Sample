{
 "cells": [
  {
   "cell_type": "markdown",
   "metadata": {},
   "source": [
    "# Initialize"
   ]
  },
  {
   "cell_type": "code",
   "execution_count": 1,
   "metadata": {},
   "outputs": [
    {
     "data": {
      "text/plain": [
       "\u001b[32mimport \u001b[39m\u001b[36m$ivy.$                                   // Or use any other 2.x version here\n",
       "\u001b[39m\n",
       "\u001b[32mimport \u001b[39m\u001b[36morg.apache.log4j.{Level, Logger}\n",
       "\u001b[39m\n",
       "\u001b[32mimport \u001b[39m\u001b[36m$ivy.$                               // Not required since almond 0.7.0 (will be automatically added when importing spark)\u001b[39m"
      ]
     },
     "execution_count": 1,
     "metadata": {},
     "output_type": "execute_result"
    }
   ],
   "source": [
    "import $ivy.`org.apache.spark::spark-sql:2.4.5` // Or use any other 2.x version here\n",
    "import org.apache.log4j.{Level, Logger}\n",
    "Logger.getLogger(\"org\").setLevel(Level.OFF)\n",
    "import $ivy.`sh.almond::almond-spark:0.9.1` // Not required since almond 0.7.0 (will be automatically added when importing spark)"
   ]
  },
  {
   "cell_type": "markdown",
   "metadata": {},
   "source": [
    "# Create Spark session"
   ]
  },
  {
   "cell_type": "code",
   "execution_count": 2,
   "metadata": {},
   "outputs": [
    {
     "name": "stdout",
     "output_type": "stream",
     "text": [
      "Loading spark-stubs\n",
      "Getting spark JARs\n",
      "Creating SparkSession\n"
     ]
    },
    {
     "name": "stderr",
     "output_type": "stream",
     "text": [
      "Using Spark's default log4j profile: org/apache/spark/log4j-defaults.properties\n"
     ]
    },
    {
     "data": {
      "text/html": [
       "<a target=\"_blank\" href=\"http://192.168.3.29:4041\">Spark UI</a>"
      ]
     },
     "metadata": {},
     "output_type": "display_data"
    },
    {
     "data": {
      "text/plain": [
       "\u001b[32mimport \u001b[39m\u001b[36morg.apache.spark.sql._\n",
       "\u001b[39m\n",
       "\u001b[36msparkSession\u001b[39m: \u001b[32mSparkSession\u001b[39m = org.apache.spark.sql.SparkSession@1a71f75\n",
       "\u001b[36mres1_2\u001b[39m: \u001b[32mClass\u001b[39m[\u001b[32mT\u001b[39m] = class org.apache.spark.sql.SparkSession\n",
       "\u001b[32mimport \u001b[39m\u001b[36msparkSession.sql\u001b[39m"
      ]
     },
     "execution_count": 2,
     "metadata": {},
     "output_type": "execute_result"
    }
   ],
   "source": [
    "import org.apache.spark.sql._\n",
    "val sparkSession = {\n",
    "  NotebookSparkSession.builder()\n",
    "    .master(\"local[*]\")\n",
    "    .getOrCreate()\n",
    "}\n",
    "sparkSession.getClass\n",
    "import sparkSession.sql"
   ]
  },
  {
   "cell_type": "markdown",
   "metadata": {},
   "source": [
    "# Load data"
   ]
  },
  {
   "cell_type": "code",
   "execution_count": 29,
   "metadata": {},
   "outputs": [
    {
     "data": {
      "text/html": [
       "<div>\n",
       "  <span style=\"float: left;\">load at cmd28.sc:7</span>\n",
       "</div>\n"
      ]
     },
     "metadata": {},
     "output_type": "display_data"
    },
    {
     "data": {
      "text/html": [
       "<div class=\"progress\">\n",
       "  <div class=\"progress-bar\" role=\"progressbar\" style=\"background-color: blue; width: 100%; word-wrap: normal; white-space: nowrap; text-align: center; color: white\" aria-valuenow=\"100\" aria-valuemin=\"0\" aria-valuemax=\"100\">\n",
       "    1 / 1\n",
       "  </div>\n",
       "  <div class=\"progress-bar\" role=\"progressbar\" style=\"background-color: red; width: 0%\" aria-valuenow=\"0\" aria-valuemin=\"0\" aria-valuemax=\"100\"></div>\n",
       "</div>\n"
      ]
     },
     "metadata": {},
     "output_type": "display_data"
    },
    {
     "data": {
      "text/html": [
       "<div>\n",
       "  <span style=\"float: left;\">load at cmd28.sc:7</span>\n",
       "</div>\n"
      ]
     },
     "metadata": {},
     "output_type": "display_data"
    },
    {
     "data": {
      "text/html": [
       "<div class=\"progress\">\n",
       "  <div class=\"progress-bar\" role=\"progressbar\" style=\"background-color: blue; width: 100%; word-wrap: normal; white-space: nowrap; text-align: center; color: white\" aria-valuenow=\"100\" aria-valuemin=\"0\" aria-valuemax=\"100\">\n",
       "    3 / 3\n",
       "  </div>\n",
       "  <div class=\"progress-bar\" role=\"progressbar\" style=\"background-color: red; width: 0%\" aria-valuenow=\"0\" aria-valuemin=\"0\" aria-valuemax=\"100\"></div>\n",
       "</div>\n"
      ]
     },
     "metadata": {},
     "output_type": "display_data"
    },
    {
     "data": {
      "text/plain": [
       "\u001b[36mresult\u001b[39m: \u001b[32mDataFrame\u001b[39m = [REF_NUM0: bigint, LAST_USED_DT: timestamp ... 17 more fields]"
      ]
     },
     "execution_count": 29,
     "metadata": {},
     "output_type": "execute_result"
    }
   ],
   "source": [
    "val result = sparkSession.read.format(\"csv\")\n",
    "      .option(\"delimiter\", \"\\t\")\n",
    "      .option(\"header\", \"true\")\n",
    "      .option(\"quote\", \"'\")\n",
    "      .option(\"nullValue\", \"NULL\")\n",
    "      .option(\"inferSchema\", \"true\")\n",
    "      .load(\"/home/pi/sparktest/data/privpref\")"
   ]
  },
  {
   "cell_type": "code",
   "execution_count": 30,
   "metadata": {},
   "outputs": [
    {
     "name": "stdout",
     "output_type": "stream",
     "text": [
      "root\n",
      " |-- REF_NUM0: long (nullable = true)\n",
      " |-- LAST_USED_DT: timestamp (nullable = true)\n",
      " |-- 3: timestamp (nullable = true)\n",
      " |-- SOURCE_IDENT_TP_CD: integer (nullable = true)\n",
      " |-- NAME4: string (nullable = true)\n",
      " |-- X_COUNTRY_TP_CD: integer (nullable = true)\n",
      " |-- ISO_CODE: string (nullable = true)\n",
      " |-- NAME7: string (nullable = true)\n",
      " |-- CONT_ID: long (nullable = true)\n",
      " |-- CONT_METH_TP_CD: integer (nullable = true)\n",
      " |-- REF_NUM10: string (nullable = true)\n",
      " |-- MINSTNUM: long (nullable = true)\n",
      " |-- CNT: integer (nullable = true)\n",
      " |-- MAXPP: string (nullable = true)\n",
      " |-- MINPP: string (nullable = true)\n",
      " |-- LOCATION_GROUP_ID: long (nullable = true)\n",
      " |-- YEAR: integer (nullable = true)\n",
      " |-- MONTH: integer (nullable = true)\n",
      " |-- DAY: integer (nullable = true)\n",
      "\n"
     ]
    }
   ],
   "source": [
    "result.registerTempTable(\"result\")\n",
    "result.printSchema"
   ]
  },
  {
   "cell_type": "markdown",
   "metadata": {},
   "source": [
    "# get records with different SP"
   ]
  },
  {
   "cell_type": "code",
   "execution_count": 72,
   "metadata": {},
   "outputs": [
    {
     "data": {
      "text/html": [
       "<div>\n",
       "  <span style=\"float: left;\">show at cmd71.sc:8</span>\n",
       "</div>\n"
      ]
     },
     "metadata": {},
     "output_type": "display_data"
    },
    {
     "data": {
      "text/html": [
       "<div class=\"progress\">\n",
       "  <div class=\"progress-bar\" role=\"progressbar\" style=\"background-color: blue; width: 100%; word-wrap: normal; white-space: nowrap; text-align: center; color: white\" aria-valuenow=\"100\" aria-valuemin=\"0\" aria-valuemax=\"100\">\n",
       "    1 / 1\n",
       "  </div>\n",
       "  <div class=\"progress-bar\" role=\"progressbar\" style=\"background-color: red; width: 0%\" aria-valuenow=\"0\" aria-valuemin=\"0\" aria-valuemax=\"100\"></div>\n",
       "</div>\n"
      ]
     },
     "metadata": {},
     "output_type": "display_data"
    },
    {
     "name": "stdout",
     "output_type": "stream",
     "text": [
      "+---------------+--------------------+--------------------+------------------+-------------+---------------+--------+-----+------------------+---------------+--------------+-------------+---+-----+-----+------------------+----+-----+---+\n",
      "|       REF_NUM0|        LAST_USED_DT|                   3|SOURCE_IDENT_TP_CD|        NAME4|X_COUNTRY_TP_CD|ISO_CODE|NAME7|           CONT_ID|CONT_METH_TP_CD|     REF_NUM10|     MINSTNUM|CNT|MAXPP|MINPP| LOCATION_GROUP_ID|YEAR|MONTH|DAY|\n",
      "+---------------+--------------------+--------------------+------------------+-------------+---------------+--------+-----+------------------+---------------+--------------+-------------+---+-----+-----+------------------+----+-----+---+\n",
      "|630881052626909|2020-07-22 20:27:...|2020-07-21 20:27:...|            100005|          IWM|            185|      US| WORK|743404802239030641|              2|    7142503000|  17142503000|  2|    S|    P|720046741219991462|2020|    8|  7|\n",
      "|161521056084933|2020-07-31 12:55:...|2020-07-30 12:55:...|            100005|          IWM|            185|      US| WORK|500840484788116941|              2|    2168615000|  12168615000|  2|    S|    P|508959231169434401|2020|    8|  7|\n",
      "|705811080259957|2016-05-25 10:47:...|2016-05-24 10:47:...|            100009|           DM|             36|      CN| CELL|453246376116782062|              5|+8615223013955|8615223013955|  3|    S|    P|332846417323874171|2020|    8|  7|\n",
      "|491651073343247| 2018-11-27 07:19:47| 2018-11-26 07:19:47|            100009|           DM|            144|      RO|  ALT|839247970497421172|         100001|  +40722193514|  40722193514|  2|    S|    P|390647970497482522|2020|    8|  7|\n",
      "|432771059019701| 2018-11-27 07:19:17| 2018-11-26 07:19:17|            100009|           DM|             24|      BR|  ALT|932442422851142852|         100001| +551174724805| 551174724805|  2|    S|    P|188942422851249352|2020|    8|  7|\n",
      "|209761081309998| 2016-04-10 00:00:00| 2016-04-09 00:00:00|            100009|           DM|             36|      CN| CELL|550740521051521642|              5|+8615308406088|8615308406088|  3|    S|    P|161047066505480552|2020|    8|  7|\n",
      "|496441083380982| 2016-04-10 00:00:00| 2016-04-09 00:00:00|            100009|           DM|             36|      CN| CELL|762940522338693391|              5|+8615822405249|8615822405249|  3|    S|    P|150845718347493592|2020|    8|  7|\n",
      "|828071112053657|2017-11-28 13:07:...|2017-11-27 13:07:...|            100009|           DM|            181|      UA| CELL|989047426221432892|              5| +380674082207| 380674082207|  2|    S|    P|452751187446401472|2020|    8|  7|\n",
      "|965351083957977|2017-03-03 15:38:...|2017-03-02 15:38:...|            100009|           DM|             36|      CN| CELL|749249676027714622|              5|+8613520081565|8613520081565|  3|    S|    P|600349676027907172|2020|    8|  7|\n",
      "|322191080258680|2017-08-09 09:02:...|2017-08-08 09:02:...|            100003|Sales Connect|             36|      CN| CELL|852249675495399561|              5|+8613261099192|8613261099192|  2|    S|    P|130049675495734331|2020|    8|  7|\n",
      "|984501085183025|2020-07-22 19:32:...|2020-07-21 19:32:...|            100005|          IWM|            142|      KR| WORK|803150419038855391|              2|  821092510734| 821092510734|  2|    S|    P|806859302175946002|2020|    8|  7|\n",
      "|746691074676463| 2020-03-16 11:45:11| 2020-03-15 11:45:11|            100002| Web Identity|            139|      PL| WORK|274842431026723342|              2|  +48664050503|  48664050503|  2|    S|    P|423545011381435692|2020|    8|  7|\n",
      "|315041154565774|2020-08-06 04:38:...|2020-08-05 04:38:...|            100005|          IWM|            185|      US| WORK|863849028799460531|              2|    7133755000|  17133755000|  2|    S|    P|868359102223450501|2020|    8|  7|\n",
      "|331451071524146| 2018-11-27 12:10:25| 2018-11-26 12:10:25|            100009|           DM|            144|      RO|  ALT|742448604634018211|         100001|  +40727737396|  40727737396|  2|    S|    P|837248604634406201|2020|    8|  7|\n",
      "|139401156219039|2020-07-22 19:00:...|2020-07-21 19:00:...|            100005|          IWM|            185|      US| WORK|555549165441808212|              2|(937) 644-0011|  19376440011|  2|    S|    P|802849165442459972|2020|    8|  7|\n",
      "|754511069248212|2016-06-24 16:18:...|2016-06-23 16:18:...|            100009|           DM|            139|      PL| CELL|832846080379136701|              5|  +48601876621|  48601876621|  2|    S|    P|755646080379493941|2020|    8|  7|\n",
      "|947661095639957|2020-08-06 03:23:...|2020-08-05 03:23:...|            100005|          IWM|             36|      CN| WORK|644450784921051931|              2|+8618902158095|8618902158095|  3|    S|    P|642659299470452801|2020|    8|  7|\n",
      "|454501169520106|2020-07-27 05:07:...|2020-07-26 05:07:...|            100005|          IWM|            185|      US| WORK|937751310415735851|              2| +1 7708581000|  17708581000|  2|    S|    P|122651310415786711|2020|    8|  7|\n",
      "|244291140418861|2017-11-13 14:43:...|2017-11-12 14:43:...|            100009|           DM|             36|      CN| CELL|840551637853808472|              5|+8613917911662|8613917911662|  3|    S|    P|318651637853940542|2020|    8|  7|\n",
      "|627921061850621|2020-08-06 03:02:...|2020-08-05 03:02:...|            100005|          IWM|            185|      US| WORK|282949886083682161|              2|1-305-351-4817|  13053514817|  2|    S|    P|184988608377806091|2020|    8|  7|\n",
      "+---------------+--------------------+--------------------+------------------+-------------+---------------+--------+-----+------------------+---------------+--------------+-------------+---+-----+-----+------------------+----+-----+---+\n",
      "only showing top 20 rows\n",
      "\n"
     ]
    },
    {
     "data": {
      "text/plain": [
       "\u001b[36mdifferentSP\u001b[39m: \u001b[32mDataFrame\u001b[39m = [REF_NUM0: bigint, LAST_USED_DT: timestamp ... 17 more fields]\n",
       "\u001b[36mres71_1\u001b[39m: \u001b[32mDataFrame\u001b[39m = [REF_NUM0: bigint, LAST_USED_DT: timestamp ... 17 more fields]"
      ]
     },
     "execution_count": 72,
     "metadata": {},
     "output_type": "execute_result"
    }
   ],
   "source": [
    "val differentSP = sql(\"\"\"\n",
    "select * from result \n",
    "where \n",
    "((minPP = 'S' and maxPP = 'P') or (minPP = 'P' and maxPP = 'S'))\n",
    "\"\"\")\n",
    "differentSP.cache\n",
    "differentSP.registerTempTable(\"differentSP\")\n",
    "differentSP.show()"
   ]
  },
  {
   "cell_type": "markdown",
   "metadata": {},
   "source": [
    "# get records with: one is s/p, other is N"
   ]
  },
  {
   "cell_type": "code",
   "execution_count": 73,
   "metadata": {},
   "outputs": [
    {
     "data": {
      "text/html": [
       "<div>\n",
       "  <span style=\"float: left;\">show at cmd72.sc:9</span>\n",
       "</div>\n"
      ]
     },
     "metadata": {},
     "output_type": "display_data"
    },
    {
     "data": {
      "text/html": [
       "<div class=\"progress\">\n",
       "  <div class=\"progress-bar\" role=\"progressbar\" style=\"background-color: blue; width: 100%; word-wrap: normal; white-space: nowrap; text-align: center; color: white\" aria-valuenow=\"100\" aria-valuemin=\"0\" aria-valuemax=\"100\">\n",
       "    1 / 1\n",
       "  </div>\n",
       "  <div class=\"progress-bar\" role=\"progressbar\" style=\"background-color: red; width: 0%\" aria-valuenow=\"0\" aria-valuemin=\"0\" aria-valuemax=\"100\"></div>\n",
       "</div>\n"
      ]
     },
     "metadata": {},
     "output_type": "display_data"
    },
    {
     "name": "stdout",
     "output_type": "stream",
     "text": [
      "+---------------+--------------------+--------------------+------------------+-------+---------------+--------+-----+------------------+---------------+------------+------------+---+-----+-----+------------------+----+-----+---+\n",
      "|       REF_NUM0|        LAST_USED_DT|                   3|SOURCE_IDENT_TP_CD|  NAME4|X_COUNTRY_TP_CD|ISO_CODE|NAME7|           CONT_ID|CONT_METH_TP_CD|   REF_NUM10|    MINSTNUM|CNT|MAXPP|MINPP| LOCATION_GROUP_ID|YEAR|MONTH|DAY|\n",
      "+---------------+--------------------+--------------------+------------------+-------+---------------+--------+-----+------------------+---------------+------------+------------+---+-----+-----+------------------+----+-----+---+\n",
      "|190771087546590| 2020-08-06 05:04:00| 2020-08-05 05:04:00|            100010|DSW SAP|             90|      JP| WORK|855438468796951971|              2|079-295-4111| 81792954111|  2|    P|    N|214854384688367691|2020|    8|  7|\n",
      "|873161058774027|2020-08-01 00:05:...|2020-07-31 00:05:...|            100016|   SFDC|            185|      US| WORK|401756409256029401|              2| 16159635399| 16159635399|  2|    P|    N|293856409256131661|2020|    8|  7|\n",
      "|454901185102288| 2020-08-04 20:28:59| 2020-08-03 20:28:59|            100011|DSW SQO|             24|      BR| WORK|914656571508696022|              2|19 2117 8784|551921178784|  2|    P|    N|234556571508800612|2020|    8|  7|\n",
      "|683281053044162| 2020-07-29 15:56:49| 2020-07-28 15:56:49|            100011|DSW SQO|            185|      US| WORK|328159441900971101|              2|515-252-6605| 15152526605|  2|    S|    N|322959441900980501|2020|    8|  7|\n",
      "|738251083779090| 2020-08-03 12:41:57| 2020-08-02 12:41:57|            100011|DSW SQO|             90|      JP| WORK|228759497321735602|              2|03-3596-4536| 81335964536|  2|    S|    N|229759497321739702|2020|    8|  7|\n",
      "+---------------+--------------------+--------------------+------------------+-------+---------------+--------+-----+------------------+---------------+------------+------------+---+-----+-----+------------------+----+-----+---+\n",
      "only showing top 5 rows\n",
      "\n"
     ]
    },
    {
     "data": {
      "text/plain": [
       "\u001b[36mspn\u001b[39m: \u001b[32mDataFrame\u001b[39m = [REF_NUM0: bigint, LAST_USED_DT: timestamp ... 17 more fields]\n",
       "\u001b[36mres72_1\u001b[39m: \u001b[32mDataFrame\u001b[39m = [REF_NUM0: bigint, LAST_USED_DT: timestamp ... 17 more fields]"
      ]
     },
     "execution_count": 73,
     "metadata": {},
     "output_type": "execute_result"
    }
   ],
   "source": [
    "val spn = sql(\"\"\"\n",
    "select * from result where \n",
    "        ((minPP = 'S' or minPP = 'P') and maxPP = 'N')\n",
    "        or\n",
    "        ((maxPP = 'S' or maxPP = 'P') and minPP = 'N')\n",
    "\"\"\")\n",
    "spn.cache\n",
    "spn.registerTempTable(\"spn\")\n",
    "spn.show(5)"
   ]
  },
  {
   "cell_type": "markdown",
   "metadata": {},
   "source": [
    "# get only one has s/p"
   ]
  },
  {
   "cell_type": "code",
   "execution_count": 74,
   "metadata": {},
   "outputs": [
    {
     "data": {
      "text/html": [
       "<div>\n",
       "  <span style=\"float: left;\">count at cmd73.sc:9</span>\n",
       "</div>\n"
      ]
     },
     "metadata": {},
     "output_type": "display_data"
    },
    {
     "data": {
      "text/html": [
       "<div class=\"progress\">\n",
       "  <div class=\"progress-bar\" role=\"progressbar\" style=\"background-color: blue; width: 100%; word-wrap: normal; white-space: nowrap; text-align: center; color: white\" aria-valuenow=\"100\" aria-valuemin=\"0\" aria-valuemax=\"100\">\n",
       "    3 / 3\n",
       "  </div>\n",
       "  <div class=\"progress-bar\" role=\"progressbar\" style=\"background-color: red; width: 0%\" aria-valuenow=\"0\" aria-valuemin=\"0\" aria-valuemax=\"100\"></div>\n",
       "</div>\n"
      ]
     },
     "metadata": {},
     "output_type": "display_data"
    },
    {
     "data": {
      "text/html": [
       "<div>\n",
       "  <span style=\"float: left;\">count at cmd73.sc:9</span>\n",
       "</div>\n"
      ]
     },
     "metadata": {},
     "output_type": "display_data"
    },
    {
     "data": {
      "text/html": [
       "<div class=\"progress\">\n",
       "  <div class=\"progress-bar\" role=\"progressbar\" style=\"background-color: blue; width: 100%; word-wrap: normal; white-space: nowrap; text-align: center; color: white\" aria-valuenow=\"100\" aria-valuemin=\"0\" aria-valuemax=\"100\">\n",
       "    1 / 1\n",
       "  </div>\n",
       "  <div class=\"progress-bar\" role=\"progressbar\" style=\"background-color: red; width: 0%\" aria-valuenow=\"0\" aria-valuemin=\"0\" aria-valuemax=\"100\"></div>\n",
       "</div>\n"
      ]
     },
     "metadata": {},
     "output_type": "display_data"
    },
    {
     "data": {
      "text/plain": [
       "\u001b[36monlyone\u001b[39m: \u001b[32mDataFrame\u001b[39m = [REF_NUM0: bigint, LAST_USED_DT: timestamp ... 17 more fields]\n",
       "\u001b[36mres73_1\u001b[39m: \u001b[32mDataFrame\u001b[39m = [REF_NUM0: bigint, LAST_USED_DT: timestamp ... 17 more fields]\n",
       "\u001b[36mres73_3\u001b[39m: \u001b[32mLong\u001b[39m = \u001b[32m275L\u001b[39m"
      ]
     },
     "execution_count": 74,
     "metadata": {},
     "output_type": "execute_result"
    }
   ],
   "source": [
    "val onlyone = sql(\"\"\"\n",
    "select * from result where \n",
    "        ((maxpp = 'S' or maxpp = 'P')and minpp is null)\n",
    "            or\n",
    "        ((minpp = 'S' or minpp = 'P')and maxpp is null)\n",
    "\"\"\")\n",
    "onlyone.cache\n",
    "onlyone.registerTempTable(\"onlyone\")\n",
    "onlyone.count"
   ]
  },
  {
   "cell_type": "markdown",
   "metadata": {},
   "source": [
    "# other queries"
   ]
  },
  {
   "cell_type": "code",
   "execution_count": 76,
   "metadata": {},
   "outputs": [
    {
     "data": {
      "text/html": [
       "<div>\n",
       "  <span style=\"float: left;\">count at cmd75.sc:7</span>\n",
       "</div>\n"
      ]
     },
     "metadata": {},
     "output_type": "display_data"
    },
    {
     "data": {
      "text/html": [
       "<div class=\"progress\">\n",
       "  <div class=\"progress-bar\" role=\"progressbar\" style=\"background-color: blue; width: 100%; word-wrap: normal; white-space: nowrap; text-align: center; color: white\" aria-valuenow=\"100\" aria-valuemin=\"0\" aria-valuemax=\"100\">\n",
       "    3 / 3\n",
       "  </div>\n",
       "  <div class=\"progress-bar\" role=\"progressbar\" style=\"background-color: red; width: 0%\" aria-valuenow=\"0\" aria-valuemin=\"0\" aria-valuemax=\"100\"></div>\n",
       "</div>\n"
      ]
     },
     "metadata": {},
     "output_type": "display_data"
    },
    {
     "data": {
      "text/html": [
       "<div>\n",
       "  <span style=\"float: left;\">count at cmd75.sc:7</span>\n",
       "</div>\n"
      ]
     },
     "metadata": {},
     "output_type": "display_data"
    },
    {
     "data": {
      "text/html": [
       "<div class=\"progress\">\n",
       "  <div class=\"progress-bar\" role=\"progressbar\" style=\"background-color: blue; width: 100%; word-wrap: normal; white-space: nowrap; text-align: center; color: white\" aria-valuenow=\"100\" aria-valuemin=\"0\" aria-valuemax=\"100\">\n",
       "    1 / 1\n",
       "  </div>\n",
       "  <div class=\"progress-bar\" role=\"progressbar\" style=\"background-color: red; width: 0%\" aria-valuenow=\"0\" aria-valuemin=\"0\" aria-valuemax=\"100\"></div>\n",
       "</div>\n"
      ]
     },
     "metadata": {},
     "output_type": "display_data"
    },
    {
     "data": {
      "text/html": [
       "<div>\n",
       "  <span style=\"float: left;\">count at cmd75.sc:15</span>\n",
       "</div>\n"
      ]
     },
     "metadata": {},
     "output_type": "display_data"
    },
    {
     "data": {
      "text/html": [
       "<div class=\"progress\">\n",
       "  <div class=\"progress-bar\" role=\"progressbar\" style=\"background-color: blue; width: 100%; word-wrap: normal; white-space: nowrap; text-align: center; color: white\" aria-valuenow=\"100\" aria-valuemin=\"0\" aria-valuemax=\"100\">\n",
       "    3 / 3\n",
       "  </div>\n",
       "  <div class=\"progress-bar\" role=\"progressbar\" style=\"background-color: red; width: 0%\" aria-valuenow=\"0\" aria-valuemin=\"0\" aria-valuemax=\"100\"></div>\n",
       "</div>\n"
      ]
     },
     "metadata": {},
     "output_type": "display_data"
    },
    {
     "data": {
      "text/html": [
       "<div>\n",
       "  <span style=\"float: left;\">count at cmd75.sc:15</span>\n",
       "</div>\n"
      ]
     },
     "metadata": {},
     "output_type": "display_data"
    },
    {
     "data": {
      "text/html": [
       "<div class=\"progress\">\n",
       "  <div class=\"progress-bar\" role=\"progressbar\" style=\"background-color: blue; width: 100%; word-wrap: normal; white-space: nowrap; text-align: center; color: white\" aria-valuenow=\"100\" aria-valuemin=\"0\" aria-valuemax=\"100\">\n",
       "    1 / 1\n",
       "  </div>\n",
       "  <div class=\"progress-bar\" role=\"progressbar\" style=\"background-color: red; width: 0%\" aria-valuenow=\"0\" aria-valuemin=\"0\" aria-valuemax=\"100\"></div>\n",
       "</div>\n"
      ]
     },
     "metadata": {},
     "output_type": "display_data"
    },
    {
     "data": {
      "text/plain": [
       "\u001b[36monlyone5\u001b[39m: \u001b[32mDataFrame\u001b[39m = [REF_NUM0: bigint, LAST_USED_DT: timestamp ... 17 more fields]\n",
       "\u001b[36mres75_1\u001b[39m: \u001b[32mDataFrame\u001b[39m = [REF_NUM0: bigint, LAST_USED_DT: timestamp ... 17 more fields]\n",
       "\u001b[36mres75_3\u001b[39m: \u001b[32mLong\u001b[39m = \u001b[32m54L\u001b[39m\n",
       "\u001b[36monlyone7\u001b[39m: \u001b[32mDataFrame\u001b[39m = [REF_NUM0: bigint, LAST_USED_DT: timestamp ... 17 more fields]\n",
       "\u001b[36mres75_5\u001b[39m: \u001b[32mDataFrame\u001b[39m = [REF_NUM0: bigint, LAST_USED_DT: timestamp ... 17 more fields]\n",
       "\u001b[36mres75_7\u001b[39m: \u001b[32mLong\u001b[39m = \u001b[32m150L\u001b[39m"
      ]
     },
     "execution_count": 76,
     "metadata": {},
     "output_type": "execute_result"
    }
   ],
   "source": [
    "val onlyone5 = sql(\"\"\"\n",
    "select * from onlyone\n",
    "where day = 5\n",
    "\"\"\")\n",
    "onlyone5.cache\n",
    "onlyone5.registerTempTable(\"onlyone5\")\n",
    "onlyone5.count\n",
    "\n",
    "val onlyone7 = sql(\"\"\"\n",
    "select * from onlyone\n",
    "where day = 7\n",
    "\"\"\")\n",
    "onlyone7.cache\n",
    "onlyone7.registerTempTable(\"onlyone7\")\n",
    "onlyone7.count"
   ]
  },
  {
   "cell_type": "markdown",
   "metadata": {},
   "source": [
    "## find data existed in two consecutive days"
   ]
  },
  {
   "cell_type": "code",
   "execution_count": 77,
   "metadata": {},
   "outputs": [
    {
     "data": {
      "text/html": [
       "<div>\n",
       "  <span style=\"float: left;\">run at ThreadPoolExecutor.java:1149</span>\n",
       "</div>\n"
      ]
     },
     "metadata": {},
     "output_type": "display_data"
    },
    {
     "data": {
      "text/html": [
       "<div class=\"progress\">\n",
       "  <div class=\"progress-bar\" role=\"progressbar\" style=\"background-color: blue; width: 100%; word-wrap: normal; white-space: nowrap; text-align: center; color: white\" aria-valuenow=\"100\" aria-valuemin=\"0\" aria-valuemax=\"100\">\n",
       "    3 / 3\n",
       "  </div>\n",
       "  <div class=\"progress-bar\" role=\"progressbar\" style=\"background-color: red; width: 0%\" aria-valuenow=\"0\" aria-valuemin=\"0\" aria-valuemax=\"100\"></div>\n",
       "</div>\n"
      ]
     },
     "metadata": {},
     "output_type": "display_data"
    },
    {
     "data": {
      "text/html": [
       "<div>\n",
       "  <span style=\"float: left;\">show at cmd76.sc:1</span>\n",
       "</div>\n"
      ]
     },
     "metadata": {},
     "output_type": "display_data"
    },
    {
     "data": {
      "text/html": [
       "<div class=\"progress\">\n",
       "  <div class=\"progress-bar\" role=\"progressbar\" style=\"background-color: blue; width: 100%; word-wrap: normal; white-space: nowrap; text-align: center; color: white\" aria-valuenow=\"100\" aria-valuemin=\"0\" aria-valuemax=\"100\">\n",
       "    3 / 3\n",
       "  </div>\n",
       "  <div class=\"progress-bar\" role=\"progressbar\" style=\"background-color: red; width: 0%\" aria-valuenow=\"0\" aria-valuemin=\"0\" aria-valuemax=\"100\"></div>\n",
       "</div>\n"
      ]
     },
     "metadata": {},
     "output_type": "display_data"
    },
    {
     "data": {
      "text/html": [
       "<div>\n",
       "  <span style=\"float: left;\">show at cmd76.sc:1</span>\n",
       "</div>\n"
      ]
     },
     "metadata": {},
     "output_type": "display_data"
    },
    {
     "data": {
      "text/html": [
       "<div class=\"progress\">\n",
       "  <div class=\"progress-bar\" role=\"progressbar\" style=\"background-color: blue; width: 100%; word-wrap: normal; white-space: nowrap; text-align: center; color: white\" aria-valuenow=\"100\" aria-valuemin=\"0\" aria-valuemax=\"100\">\n",
       "    1 / 1\n",
       "  </div>\n",
       "  <div class=\"progress-bar\" role=\"progressbar\" style=\"background-color: red; width: 0%\" aria-valuenow=\"0\" aria-valuemin=\"0\" aria-valuemax=\"100\"></div>\n",
       "</div>\n"
      ]
     },
     "metadata": {},
     "output_type": "display_data"
    },
    {
     "name": "stdout",
     "output_type": "stream",
     "text": [
      "+--------+\n",
      "|count(1)|\n",
      "+--------+\n",
      "|      51|\n",
      "+--------+\n",
      "\n"
     ]
    }
   ],
   "source": [
    "sql(\"\"\"\n",
    "select count(*) from onlyone5 t1 inner join onlyone7 t2\n",
    "on t1.cont_id = t2.cont_id\n",
    "\"\"\").show"
   ]
  },
  {
   "cell_type": "markdown",
   "metadata": {},
   "source": [
    "## find data only existed in next day"
   ]
  },
  {
   "cell_type": "code",
   "execution_count": 71,
   "metadata": {},
   "outputs": [
    {
     "data": {
      "text/html": [
       "<div>\n",
       "  <span style=\"float: left;\">run at ThreadPoolExecutor.java:1149</span>\n",
       "</div>\n"
      ]
     },
     "metadata": {},
     "output_type": "display_data"
    },
    {
     "data": {
      "text/html": [
       "<div class=\"progress\">\n",
       "  <div class=\"progress-bar\" role=\"progressbar\" style=\"background-color: blue; width: 100%; word-wrap: normal; white-space: nowrap; text-align: center; color: white\" aria-valuenow=\"100\" aria-valuemin=\"0\" aria-valuemax=\"100\">\n",
       "    3 / 3\n",
       "  </div>\n",
       "  <div class=\"progress-bar\" role=\"progressbar\" style=\"background-color: red; width: 0%\" aria-valuenow=\"0\" aria-valuemin=\"0\" aria-valuemax=\"100\"></div>\n",
       "</div>\n"
      ]
     },
     "metadata": {},
     "output_type": "display_data"
    },
    {
     "data": {
      "text/html": [
       "<div>\n",
       "  <span style=\"float: left;\">count at cmd70.sc:1</span>\n",
       "</div>\n"
      ]
     },
     "metadata": {},
     "output_type": "display_data"
    },
    {
     "data": {
      "text/html": [
       "<div class=\"progress\">\n",
       "  <div class=\"progress-bar\" role=\"progressbar\" style=\"background-color: blue; width: 100%; word-wrap: normal; white-space: nowrap; text-align: center; color: white\" aria-valuenow=\"100\" aria-valuemin=\"0\" aria-valuemax=\"100\">\n",
       "    3 / 3\n",
       "  </div>\n",
       "  <div class=\"progress-bar\" role=\"progressbar\" style=\"background-color: red; width: 0%\" aria-valuenow=\"0\" aria-valuemin=\"0\" aria-valuemax=\"100\"></div>\n",
       "</div>\n"
      ]
     },
     "metadata": {},
     "output_type": "display_data"
    },
    {
     "data": {
      "text/html": [
       "<div>\n",
       "  <span style=\"float: left;\">count at cmd70.sc:1</span>\n",
       "</div>\n"
      ]
     },
     "metadata": {},
     "output_type": "display_data"
    },
    {
     "data": {
      "text/html": [
       "<div class=\"progress\">\n",
       "  <div class=\"progress-bar\" role=\"progressbar\" style=\"background-color: blue; width: 100%; word-wrap: normal; white-space: nowrap; text-align: center; color: white\" aria-valuenow=\"100\" aria-valuemin=\"0\" aria-valuemax=\"100\">\n",
       "    1 / 1\n",
       "  </div>\n",
       "  <div class=\"progress-bar\" role=\"progressbar\" style=\"background-color: red; width: 0%\" aria-valuenow=\"0\" aria-valuemin=\"0\" aria-valuemax=\"100\"></div>\n",
       "</div>\n"
      ]
     },
     "metadata": {},
     "output_type": "display_data"
    },
    {
     "data": {
      "text/plain": [
       "\u001b[36mres70\u001b[39m: \u001b[32mLong\u001b[39m = \u001b[32m99L\u001b[39m"
      ]
     },
     "execution_count": 71,
     "metadata": {},
     "output_type": "execute_result"
    }
   ],
   "source": [
    "//use temp table:\n",
    "sql(\"\"\"\n",
    "select t1.cont_id as count_id_5,t2.cont_id as count_id_7 from onlyone5 t1 right outer join onlyone7 t2\n",
    "on t1.cont_id = t2.cont_id\n",
    "where t1.cont_id is null\n",
    "\"\"\").count"
   ]
  },
  {
   "cell_type": "code",
   "execution_count": 79,
   "metadata": {},
   "outputs": [
    {
     "data": {
      "text/html": [
       "<div>\n",
       "  <span style=\"float: left;\">run at ThreadPoolExecutor.java:1149</span>\n",
       "</div>\n"
      ]
     },
     "metadata": {},
     "output_type": "display_data"
    },
    {
     "data": {
      "text/html": [
       "<div class=\"progress\">\n",
       "  <div class=\"progress-bar\" role=\"progressbar\" style=\"background-color: blue; width: 100%; word-wrap: normal; white-space: nowrap; text-align: center; color: white\" aria-valuenow=\"100\" aria-valuemin=\"0\" aria-valuemax=\"100\">\n",
       "    3 / 3\n",
       "  </div>\n",
       "  <div class=\"progress-bar\" role=\"progressbar\" style=\"background-color: red; width: 0%\" aria-valuenow=\"0\" aria-valuemin=\"0\" aria-valuemax=\"100\"></div>\n",
       "</div>\n"
      ]
     },
     "metadata": {},
     "output_type": "display_data"
    },
    {
     "data": {
      "text/html": [
       "<div>\n",
       "  <span style=\"float: left;\">count at cmd78.sc:14</span>\n",
       "</div>\n"
      ]
     },
     "metadata": {},
     "output_type": "display_data"
    },
    {
     "data": {
      "text/html": [
       "<div class=\"progress\">\n",
       "  <div class=\"progress-bar\" role=\"progressbar\" style=\"background-color: blue; width: 100%; word-wrap: normal; white-space: nowrap; text-align: center; color: white\" aria-valuenow=\"100\" aria-valuemin=\"0\" aria-valuemax=\"100\">\n",
       "    3 / 3\n",
       "  </div>\n",
       "  <div class=\"progress-bar\" role=\"progressbar\" style=\"background-color: red; width: 0%\" aria-valuenow=\"0\" aria-valuemin=\"0\" aria-valuemax=\"100\"></div>\n",
       "</div>\n"
      ]
     },
     "metadata": {},
     "output_type": "display_data"
    },
    {
     "data": {
      "text/html": [
       "<div>\n",
       "  <span style=\"float: left;\">count at cmd78.sc:14</span>\n",
       "</div>\n"
      ]
     },
     "metadata": {},
     "output_type": "display_data"
    },
    {
     "data": {
      "text/html": [
       "<div class=\"progress\">\n",
       "  <div class=\"progress-bar\" role=\"progressbar\" style=\"background-color: blue; width: 100%; word-wrap: normal; white-space: nowrap; text-align: center; color: white\" aria-valuenow=\"100\" aria-valuemin=\"0\" aria-valuemax=\"100\">\n",
       "    1 / 1\n",
       "  </div>\n",
       "  <div class=\"progress-bar\" role=\"progressbar\" style=\"background-color: red; width: 0%\" aria-valuenow=\"0\" aria-valuemin=\"0\" aria-valuemax=\"100\"></div>\n",
       "</div>\n"
      ]
     },
     "metadata": {},
     "output_type": "display_data"
    },
    {
     "data": {
      "text/plain": [
       "\u001b[36monlyin7\u001b[39m: \u001b[32mDataFrame\u001b[39m = [cont_id: bigint, cont_id: bigint]\n",
       "\u001b[36mres78_1\u001b[39m: \u001b[32mDataFrame\u001b[39m = [cont_id: bigint, cont_id: bigint]\n",
       "\u001b[36mres78_2\u001b[39m: \u001b[32mLong\u001b[39m = \u001b[32m99L\u001b[39m"
      ]
     },
     "execution_count": 79,
     "metadata": {},
     "output_type": "execute_result"
    }
   ],
   "source": [
    "//use total table and filter\n",
    "val onlyin7 = sql(\"\"\"\n",
    "select t1.cont_id,t2.cont_id from \n",
    "(\n",
    "    select * from onlyone where day = 5\n",
    ") t1\n",
    "right outer join \n",
    "(\n",
    "    select * from onlyone where day = 7\n",
    ") t2\n",
    "on t1.cont_id = t2.cont_id\n",
    "where t1.cont_id is null\n",
    "\"\"\")\n",
    "onlyin7.cache\n",
    "onlyin7.count"
   ]
  },
  {
   "cell_type": "code",
   "execution_count": 80,
   "metadata": {},
   "outputs": [
    {
     "data": {
      "text/html": [
       "<div>\n",
       "  <span style=\"float: left;\">runJob at SparkHadoopWriter.scala:78</span>\n",
       "</div>\n"
      ]
     },
     "metadata": {},
     "output_type": "display_data"
    },
    {
     "data": {
      "text/html": [
       "<div class=\"progress\">\n",
       "  <div class=\"progress-bar\" role=\"progressbar\" style=\"background-color: blue; width: 100%; word-wrap: normal; white-space: nowrap; text-align: center; color: white\" aria-valuenow=\"100\" aria-valuemin=\"0\" aria-valuemax=\"100\">\n",
       "    3 / 3\n",
       "  </div>\n",
       "  <div class=\"progress-bar\" role=\"progressbar\" style=\"background-color: red; width: 0%\" aria-valuenow=\"0\" aria-valuemin=\"0\" aria-valuemax=\"100\"></div>\n",
       "</div>\n"
      ]
     },
     "metadata": {},
     "output_type": "display_data"
    }
   ],
   "source": [
    "onlyin7.rdd.saveAsTextFile(\"onlyin7.csv\")"
   ]
  },
  {
   "cell_type": "markdown",
   "metadata": {},
   "source": [
    "## find data only existed in previous day"
   ]
  },
  {
   "cell_type": "code",
   "execution_count": 67,
   "metadata": {},
   "outputs": [
    {
     "data": {
      "text/html": [
       "<div>\n",
       "  <span style=\"float: left;\">run at ThreadPoolExecutor.java:1149</span>\n",
       "</div>\n"
      ]
     },
     "metadata": {},
     "output_type": "display_data"
    },
    {
     "data": {
      "text/html": [
       "<div class=\"progress\">\n",
       "  <div class=\"progress-bar\" role=\"progressbar\" style=\"background-color: blue; width: 100%; word-wrap: normal; white-space: nowrap; text-align: center; color: white\" aria-valuenow=\"100\" aria-valuemin=\"0\" aria-valuemax=\"100\">\n",
       "    3 / 3\n",
       "  </div>\n",
       "  <div class=\"progress-bar\" role=\"progressbar\" style=\"background-color: red; width: 0%\" aria-valuenow=\"0\" aria-valuemin=\"0\" aria-valuemax=\"100\"></div>\n",
       "</div>\n"
      ]
     },
     "metadata": {},
     "output_type": "display_data"
    },
    {
     "data": {
      "text/html": [
       "<div>\n",
       "  <span style=\"float: left;\">show at cmd66.sc:1</span>\n",
       "</div>\n"
      ]
     },
     "metadata": {},
     "output_type": "display_data"
    },
    {
     "data": {
      "text/html": [
       "<div class=\"progress\">\n",
       "  <div class=\"progress-bar\" role=\"progressbar\" style=\"background-color: blue; width: 100%; word-wrap: normal; white-space: nowrap; text-align: center; color: white\" aria-valuenow=\"100\" aria-valuemin=\"0\" aria-valuemax=\"100\">\n",
       "    1 / 1\n",
       "  </div>\n",
       "  <div class=\"progress-bar\" role=\"progressbar\" style=\"background-color: red; width: 0%\" aria-valuenow=\"0\" aria-valuemin=\"0\" aria-valuemax=\"100\"></div>\n",
       "</div>\n"
      ]
     },
     "metadata": {},
     "output_type": "display_data"
    },
    {
     "data": {
      "text/html": [
       "<div>\n",
       "  <span style=\"float: left;\">show at cmd66.sc:1</span>\n",
       "</div>\n"
      ]
     },
     "metadata": {},
     "output_type": "display_data"
    },
    {
     "data": {
      "text/html": [
       "<div class=\"progress\">\n",
       "  <div class=\"progress-bar\" role=\"progressbar\" style=\"background-color: blue; width: 100%; word-wrap: normal; white-space: nowrap; text-align: center; color: white\" aria-valuenow=\"100\" aria-valuemin=\"0\" aria-valuemax=\"100\">\n",
       "    2 / 2\n",
       "  </div>\n",
       "  <div class=\"progress-bar\" role=\"progressbar\" style=\"background-color: red; width: 0%\" aria-valuenow=\"0\" aria-valuemin=\"0\" aria-valuemax=\"100\"></div>\n",
       "</div>\n"
      ]
     },
     "metadata": {},
     "output_type": "display_data"
    },
    {
     "name": "stdout",
     "output_type": "stream",
     "text": [
      "+------------------+----------+\n",
      "|        count_id_5|count_id_7|\n",
      "+------------------+----------+\n",
      "|832548840597243771|      null|\n",
      "|274934228981171182|      null|\n",
      "|413842389072174062|      null|\n",
      "+------------------+----------+\n",
      "\n"
     ]
    }
   ],
   "source": [
    "sql(\"\"\"\n",
    "select t1.cont_id as count_id_5,t2.cont_id as count_id_7 from onlyone5 t1 left outer join onlyone7 t2\n",
    "on t1.cont_id = t2.cont_id\n",
    "where t2.cont_id is null\n",
    "\"\"\").show"
   ]
  }
 ],
 "metadata": {
  "kernelspec": {
   "display_name": "Scala",
   "language": "scala",
   "name": "scala"
  },
  "language_info": {
   "codemirror_mode": "text/x-scala",
   "file_extension": ".scala",
   "mimetype": "text/x-scala",
   "name": "scala",
   "nbconvert_exporter": "script",
   "version": "2.12.10"
  },
  "toc": {
   "base_numbering": 1,
   "nav_menu": {},
   "number_sections": true,
   "sideBar": true,
   "skip_h1_title": false,
   "title_cell": "Table of Contents",
   "title_sidebar": "Contents",
   "toc_cell": false,
   "toc_position": {
    "height": "calc(100% - 180px)",
    "left": "10px",
    "top": "150px",
    "width": "307.2px"
   },
   "toc_section_display": true,
   "toc_window_display": true
  }
 },
 "nbformat": 4,
 "nbformat_minor": 4
}
