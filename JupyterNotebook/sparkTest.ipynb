{
 "cells": [
  {
   "cell_type": "markdown",
   "metadata": {},
   "source": [
    "# Initialize"
   ]
  },
  {
   "cell_type": "code",
   "execution_count": 1,
   "metadata": {},
   "outputs": [
    {
     "name": "stdout",
     "output_type": "stream",
     "text": [
      "Loading spark-stubs\n",
      "Getting spark JARs\n",
      "Creating SparkSession\n"
     ]
    },
    {
     "name": "stderr",
     "output_type": "stream",
     "text": [
      "Using Spark's default log4j profile: org/apache/spark/log4j-defaults.properties\n"
     ]
    },
    {
     "data": {
      "text/html": [
       "<a target=\"_blank\" href=\"http://192.168.3.29:4040\">Spark UI</a>"
      ]
     },
     "metadata": {},
     "output_type": "display_data"
    },
    {
     "data": {
      "text/plain": [
       "\u001b[32mimport \u001b[39m\u001b[36m$ivy.$                                   // Or use any other 2.x version here\n",
       "\u001b[39m\n",
       "\u001b[32mimport \u001b[39m\u001b[36m$ivy.$                               // Not required since almond 0.7.0 (will be automatically added when importing spark)\n",
       "\n",
       "\u001b[39m\n",
       "\u001b[32mimport \u001b[39m\u001b[36morg.apache.log4j.{Level, Logger}\n",
       "\u001b[39m\n",
       "\u001b[32mimport \u001b[39m\u001b[36morg.apache.spark.sql._\n",
       "\n",
       "//jupyter notebook way to create spark session\n",
       "\u001b[39m\n",
       "\u001b[36mspark\u001b[39m: \u001b[32mSparkSession\u001b[39m = org.apache.spark.sql.SparkSession@15b68a0"
      ]
     },
     "execution_count": 1,
     "metadata": {},
     "output_type": "execute_result"
    }
   ],
   "source": [
    "import $ivy.`org.apache.spark::spark-sql:2.4.5` // Or use any other 2.x version here\n",
    "import $ivy.`sh.almond::almond-spark:0.9.1` // Not required since almond 0.7.0 (will be automatically added when importing spark)\n",
    "\n",
    "import org.apache.log4j.{Level, Logger}\n",
    "Logger.getLogger(\"org\").setLevel(Level.OFF)\n",
    "\n",
    "import org.apache.spark.sql._\n",
    "\n",
    "//jupyter notebook way to create spark session\n",
    "val spark = {\n",
    "  NotebookSparkSession.builder()\n",
    "    .master(\"local[*]\")\n",
    "    .getOrCreate()\n",
    "}"
   ]
  },
  {
   "cell_type": "markdown",
   "metadata": {},
   "source": [
    "# Get spark context"
   ]
  },
  {
   "cell_type": "code",
   "execution_count": 2,
   "metadata": {},
   "outputs": [
    {
     "data": {
      "text/plain": [
       "\u001b[36msc\u001b[39m: \u001b[32morg\u001b[39m.\u001b[32mapache\u001b[39m.\u001b[32mspark\u001b[39m.\u001b[32mSparkContext\u001b[39m = org.apache.spark.SparkContext@114a4f"
      ]
     },
     "execution_count": 2,
     "metadata": {},
     "output_type": "execute_result"
    }
   ],
   "source": [
    "val sc = spark.sparkContext"
   ]
  },
  {
   "cell_type": "markdown",
   "metadata": {},
   "source": [
    "# run some test"
   ]
  },
  {
   "cell_type": "code",
   "execution_count": 3,
   "metadata": {},
   "outputs": [
    {
     "data": {
      "text/plain": [
       "\u001b[36mrddwork\u001b[39m: \u001b[32morg\u001b[39m.\u001b[32mapache\u001b[39m.\u001b[32mspark\u001b[39m.\u001b[32mrdd\u001b[39m.\u001b[32mRDD\u001b[39m[\u001b[32mString\u001b[39m] = /home/pi/sparktest/testdata.csv MapPartitionsRDD[1] at textFile at cmd2.sc:1"
      ]
     },
     "execution_count": 3,
     "metadata": {},
     "output_type": "execute_result"
    }
   ],
   "source": [
    "val rddwork = sc.textFile(\"/home/pi/sparktest/testdata.csv\")"
   ]
  },
  {
   "cell_type": "markdown",
   "metadata": {},
   "source": [
    "# group all phone and create RDD"
   ]
  },
  {
   "cell_type": "code",
   "execution_count": 4,
   "metadata": {},
   "outputs": [
    {
     "data": {
      "text/html": [
       "<script>\n",
       "var comm = Jupyter.notebook.kernel.comm_manager.new_comm('cancel-stage-74bd2288-01d8-4336-bcca-ef0612131d26', {});\n",
       "\n",
       "function cancelStage(stageId) {\n",
       "  console.log('Cancelling stage ' + stageId);\n",
       "  comm.send({ 'stageId': stageId });\n",
       "}\n",
       "</script>\n",
       "          "
      ]
     },
     "metadata": {},
     "output_type": "display_data"
    },
    {
     "data": {
      "text/html": [
       "<div>\n",
       "  <span style=\"float: left;\">first at cmd3.sc:15</span>\n",
       "</div>\n"
      ]
     },
     "metadata": {},
     "output_type": "display_data"
    },
    {
     "data": {
      "text/html": [
       "<div class=\"progress\">\n",
       "  <div class=\"progress-bar\" role=\"progressbar\" style=\"background-color: blue; width: 100%; word-wrap: normal; white-space: nowrap; text-align: center; color: white\" aria-valuenow=\"100\" aria-valuemin=\"0\" aria-valuemax=\"100\">\n",
       "    1 / 1\n",
       "  </div>\n",
       "  <div class=\"progress-bar\" role=\"progressbar\" style=\"background-color: red; width: 0%\" aria-valuenow=\"0\" aria-valuemin=\"0\" aria-valuemax=\"100\"></div>\n",
       "</div>\n"
      ]
     },
     "metadata": {},
     "output_type": "display_data"
    },
    {
     "data": {
      "text/plain": [
       "defined \u001b[32mfunction\u001b[39m \u001b[36msplitFields\u001b[39m\n",
       "\u001b[36mheader\u001b[39m: \u001b[32mString\u001b[39m = \u001b[32m\"1\\t185\\t\\\"US\\\"\\t\\\"100002\\\"\\t\\\"Web Identity\\\"\\t\\\"2018-09-21-00.28.50.855000\\\"\\t111\\t100001\\t3344\\t\\\"null\\\"\\t100001\\t\\\"11\\\"\"\u001b[39m\n",
       "\u001b[36mrddworkkv\u001b[39m: \u001b[32morg\u001b[39m.\u001b[32mapache\u001b[39m.\u001b[32mspark\u001b[39m.\u001b[32mrdd\u001b[39m.\u001b[32mRDD\u001b[39m[(\u001b[32mString\u001b[39m, \u001b[32mString\u001b[39m)] = MapPartitionsRDD[3] at map at cmd3.sc:16"
      ]
     },
     "execution_count": 4,
     "metadata": {},
     "output_type": "execute_result"
    }
   ],
   "source": [
    "def splitFields (line:String):Tuple2[String,String]={\n",
    "    val fields = line.split(\"\\t\")\n",
    "    return (fields(0),fields(1) + \"\\t\" + fields(2) + \"\\t\" + fields(3)\n",
    "           + \"\\t\" + fields(4)\n",
    "           + \"\\t\" + fields(5)\n",
    "           + \"\\t\" + fields(6)\n",
    "           + \"\\t\" + fields(7)\n",
    "           + \"\\t\" + fields(8)\n",
    "           + \"\\t\" + fields(9)\n",
    "           + \"\\t\" + fields(10)\n",
    "           + \"\\t\" + fields(11))\n",
    "}\n",
    "\n",
    "//print(splitFields(\"1\\t5\\t3344\\tnull\"))\n",
    "val header = rddwork.first()\n",
    "val rddworkkv = rddwork.filter(_!=header).map(t=>splitFields(t))"
   ]
  },
  {
   "cell_type": "markdown",
   "metadata": {},
   "source": [
    "# group by and show result"
   ]
  },
  {
   "cell_type": "code",
   "execution_count": 5,
   "metadata": {},
   "outputs": [
    {
     "data": {
      "text/html": [
       "<div>\n",
       "  <span style=\"float: left;\">map at cmd3.sc:16</span>\n",
       "</div>\n"
      ]
     },
     "metadata": {},
     "output_type": "display_data"
    },
    {
     "data": {
      "text/html": [
       "<div class=\"progress\">\n",
       "  <div class=\"progress-bar\" role=\"progressbar\" style=\"background-color: blue; width: 100%; word-wrap: normal; white-space: nowrap; text-align: center; color: white\" aria-valuenow=\"100\" aria-valuemin=\"0\" aria-valuemax=\"100\">\n",
       "    2 / 2\n",
       "  </div>\n",
       "  <div class=\"progress-bar\" role=\"progressbar\" style=\"background-color: red; width: 0%\" aria-valuenow=\"0\" aria-valuemin=\"0\" aria-valuemax=\"100\"></div>\n",
       "</div>\n"
      ]
     },
     "metadata": {},
     "output_type": "display_data"
    },
    {
     "data": {
      "text/html": [
       "<div>\n",
       "  <span style=\"float: left;\">take at cmd4.sc:2</span>\n",
       "</div>\n"
      ]
     },
     "metadata": {},
     "output_type": "display_data"
    },
    {
     "data": {
      "text/html": [
       "<div class=\"progress\">\n",
       "  <div class=\"progress-bar\" role=\"progressbar\" style=\"background-color: blue; width: 100%; word-wrap: normal; white-space: nowrap; text-align: center; color: white\" aria-valuenow=\"100\" aria-valuemin=\"0\" aria-valuemax=\"100\">\n",
       "    1 / 1\n",
       "  </div>\n",
       "  <div class=\"progress-bar\" role=\"progressbar\" style=\"background-color: red; width: 0%\" aria-valuenow=\"0\" aria-valuemin=\"0\" aria-valuemax=\"100\"></div>\n",
       "</div>\n"
      ]
     },
     "metadata": {},
     "output_type": "display_data"
    },
    {
     "data": {
      "text/plain": [
       "\u001b[36mtestrdd\u001b[39m: \u001b[32morg\u001b[39m.\u001b[32mapache\u001b[39m.\u001b[32mspark\u001b[39m.\u001b[32mrdd\u001b[39m.\u001b[32mRDD\u001b[39m[(\u001b[32mString\u001b[39m, \u001b[32mIterable\u001b[39m[\u001b[32mString\u001b[39m])] = ShuffledRDD[4] at groupByKey at cmd4.sc:1\n",
       "\u001b[36mres4_1\u001b[39m: \u001b[32mArray\u001b[39m[(\u001b[32mString\u001b[39m, \u001b[32mIterable\u001b[39m[\u001b[32mString\u001b[39m])] = \u001b[33mArray\u001b[39m(\n",
       "  (\n",
       "    \u001b[32m\"4\"\u001b[39m,\n",
       "    \u001b[33mCompactBuffer\u001b[39m(\n",
       "      \u001b[32m\"185\\t\\\"US\\\"\\t\\\"100002\\\"\\t\\\"Web Identity\\\"\\t\\\"2018-04-21-00.28.50.855000\\\"\\t113\\t100001\\t2455\\t2455\\t100001\\t\\\"14\\\"\"\u001b[39m,\n",
       "      \u001b[32m\"185\\t\\\"US\\\"\\t\\\"100002\\\"\\t\\\"Web Identity\\\"\\t\\\"2018-04-21-00.28.50.855000\\\"\\t113\\t5\\t5134323\\t5134323\\t100001\\t\\\"14\\\"\"\u001b[39m,\n",
       "      \u001b[32m\"185\\t\\\"US\\\"\\t\\\"100002\\\"\\t\\\"Web Identity\\\"\\t\\\"2018-04-21-00.28.50.855000\\\"\\t113\\t100002\\t+1-5134323\\t5134323\\t100001\\t\\\"14\\\"\"\u001b[39m\n",
       "    )\n",
       "  ),\n",
       "  (\n",
       "    \u001b[32m\"6\"\u001b[39m,\n",
       "    \u001b[33mCompactBuffer\u001b[39m(\n",
       "      \u001b[32m\"185\\t\\\"US\\\"\\t\\\"100002\\\"\\t\\\"Web Identity\\\"\\t\\\"2018-05-21-00.28.50.855000\\\"\\t113\\t2\\t12\\t12\\t100001\\t\\\"16\\\"\"\u001b[39m,\n",
       "      \u001b[32m\"185\\t\\\"US\\\"\\t\\\"100002\\\"\\t\\\"Web Identity\\\"\\t\\\"2018-05-21-00.28.50.855000\\\"\\t113\\t5\\t13\\t\\\"null\\\"\\t100001\\t\\\"16\\\"\"\u001b[39m\n",
       "    )\n",
       "  ),\n",
       "  (\n",
       "    \u001b[32m\"2\"\u001b[39m,\n",
       "    \u001b[33mCompactBuffer\u001b[39m(\n",
       "      \u001b[32m\"185\\t\\\"US\\\"\\t\\\"100002\\\"\\t\\\"Web Identity\\\"\\t\\\"2018-01-21-00.28.50.855000\\\"\\t113\\t100001\\t+(1)34434\\t\\\"null\\\"\\t100001\\t\\\"12\\\"\"\u001b[39m,\n",
       "      \u001b[32m\"185\\t\\\"US\\\"\\t\\\"100002\\\"\\t\\\"Web Identity\\\"\\t\\\"2018-01-21-00.28.50.855000\\\"\\t113\\t5\\t134434\\t134434\\t100001\\t\\\"12\\\"\"\u001b[39m\n",
       "    )\n",
       "  )\n",
       ")"
      ]
     },
     "execution_count": 5,
     "metadata": {},
     "output_type": "execute_result"
    }
   ],
   "source": [
    "val testrdd = rddworkkv.groupByKey()\n",
    "testrdd.take(3)"
   ]
  },
  {
   "cell_type": "markdown",
   "metadata": {},
   "source": [
    "# filter to find cell phone not equals to others"
   ]
  },
  {
   "cell_type": "code",
   "execution_count": 6,
   "metadata": {
    "code_folding": []
   },
   "outputs": [
    {
     "name": "stderr",
     "output_type": "stream",
     "text": [
      "cmd6.sc:49: type mismatch;\n",
      " found   : (String, (String, String, String))\n",
      " required: Nothing\n",
      "    (\"4\",\n",
      "    ^Compilation Failed"
     ]
    },
    {
     "ename": "",
     "evalue": "",
     "output_type": "error",
     "traceback": [
      "Compilation Failed"
     ]
    }
   ],
   "source": [
    "import scala.collection.mutable.ListBuffer\n",
    "def isCellDifferent(arg:Iterable[String]):Boolean={\n",
    "    var result = true;\n",
    "    var cell = \"null\"\n",
    "    var cellSt = \"null\"\n",
    "    \n",
    "    var work = \"null\"\n",
    "    var workSt = \"null\"\n",
    "    var alt = \"null\"\n",
    "    var altSt = \"null\"\n",
    "    \n",
    "    var otherPhoneList = ListBuffer[(String,String)]()\n",
    "    \n",
    "    for (str <- arg){\n",
    "        val fields = str.split(\"\\t\")\n",
    "        if(fields(0) == \"5\"){\n",
    "            cell = fields(1)\n",
    "            cellSt = fields(2)\n",
    "        }\n",
    "        else{\n",
    "            otherPhoneList += ((fields(1),fields(2)))\n",
    "        }\n",
    "    }\n",
    "    \n",
    "    if(cell != \"null\" || cellSt != \"null\"){\n",
    "        result = true\n",
    "        for(otherPhone <- otherPhoneList){\n",
    "            if(cellSt != \"null\" && otherPhone._2 != \"null\"){\n",
    "                if(cellSt == otherPhone._2)\n",
    "                    result = false\n",
    "            }else{\n",
    "                if(cell == otherPhone._1)\n",
    "                    result = false\n",
    "            }\n",
    "        }\n",
    "    }\n",
    "    else{\n",
    "        //no cell phone, return false\n",
    "        result = false\n",
    "    }\n",
    "    \n",
    "    return result\n",
    "}\n",
    "//test data:\n",
    "var testList = ListBuffer[String, ]()\n",
    "testList += (\n",
    "    (\"4\",\n",
    "              (\n",
    "      \"185\\t\\\"US\\\"\\t\\\"100002\\\"\\t\\\"Web Identity\\\"\\t\\\"2018-04-21-00.28.50.855000\\\"\\t113\\t100001\\t2455\\t2455\\t100001\\t\\\"14\\\"\",\n",
    "      \"185\\t\\\"US\\\"\\t\\\"100002\\\"\\t\\\"Web Identity\\\"\\t\\\"2018-04-21-00.28.50.855000\\\"\\t113\\t5\\t5134323\\t5134323\\t100001\\t\\\"14\\\"\",\n",
    "      \"185\\t\\\"US\\\"\\t\\\"100002\\\"\\t\\\"Web Identity\\\"\\t\\\"2018-04-21-00.28.50.855000\\\"\\t113\\t100002\\t+1-5134323\\t5134323\\t100001\\t\\\"14\\\"\"\n",
    "                )\n",
    "    )\n",
    "            )\n",
    "//var testlist = ListBuffer((\"1\", (\"2\\t3344\\t3344\", \"5\\t3344\\tnull\", \"100001\\t3344\\tnull\"))\n",
    "//                   ,(\"2\", (\"5\\t134434\\t134434\", \"100001\\t134434\\tnull\"))\n",
    "//                  ,(\"3\", (\"5\\t5388\\t5388\", \"100001\\t8988\\t8988\")))\n",
    "\n",
    "//testrdd.filter(t=>isCellDifferent(t._2)).collect()\n"
   ]
  },
  {
   "cell_type": "code",
   "execution_count": null,
   "metadata": {},
   "outputs": [],
   "source": []
  }
 ],
 "metadata": {
  "kernelspec": {
   "display_name": "Scala",
   "language": "scala",
   "name": "scala"
  },
  "language_info": {
   "codemirror_mode": "text/x-scala",
   "file_extension": ".scala",
   "mimetype": "text/x-scala",
   "name": "scala",
   "nbconvert_exporter": "script",
   "version": "2.12.10"
  },
  "toc": {
   "base_numbering": 1,
   "nav_menu": {
    "height": "134px",
    "width": "320px"
   },
   "number_sections": true,
   "sideBar": true,
   "skip_h1_title": false,
   "title_cell": "Table of Contents",
   "title_sidebar": "Contents",
   "toc_cell": false,
   "toc_position": {},
   "toc_section_display": true,
   "toc_window_display": false
  }
 },
 "nbformat": 4,
 "nbformat_minor": 4
}
