{
 "cells": [
  {
   "cell_type": "markdown",
   "metadata": {},
   "source": [
    "# Initialize"
   ]
  },
  {
   "cell_type": "code",
   "execution_count": 1,
   "metadata": {},
   "outputs": [
    {
     "name": "stdout",
     "output_type": "stream",
     "text": [
      "Loading spark-stubs\n",
      "Getting spark JARs\n",
      "Creating SparkSession\n"
     ]
    },
    {
     "name": "stderr",
     "output_type": "stream",
     "text": [
      "Using Spark's default log4j profile: org/apache/spark/log4j-defaults.properties\n"
     ]
    },
    {
     "data": {
      "text/html": [
       "<a target=\"_blank\" href=\"http://192.168.3.29:4040\">Spark UI</a>"
      ]
     },
     "metadata": {},
     "output_type": "display_data"
    },
    {
     "data": {
      "text/plain": [
       "\u001b[32mimport \u001b[39m\u001b[36m$ivy.$                                   // Or use any other 2.x version here\n",
       "\u001b[39m\n",
       "\u001b[32mimport \u001b[39m\u001b[36m$ivy.$                               // Not required since almond 0.7.0 (will be automatically added when importing spark)\n",
       "\n",
       "\u001b[39m\n",
       "\u001b[32mimport \u001b[39m\u001b[36morg.apache.log4j.{Level, Logger}\n",
       "\u001b[39m\n",
       "\u001b[32mimport \u001b[39m\u001b[36morg.apache.spark.sql._\n",
       "\n",
       "//jupyter notebook way to create spark session\n",
       "\u001b[39m\n",
       "\u001b[36mspark\u001b[39m: \u001b[32mSparkSession\u001b[39m = org.apache.spark.sql.SparkSession@d5c03f"
      ]
     },
     "execution_count": 1,
     "metadata": {},
     "output_type": "execute_result"
    }
   ],
   "source": [
    "import $ivy.`org.apache.spark::spark-sql:2.4.5` // Or use any other 2.x version here\n",
    "import $ivy.`sh.almond::almond-spark:0.9.1` // Not required since almond 0.7.0 (will be automatically added when importing spark)\n",
    "\n",
    "import org.apache.log4j.{Level, Logger}\n",
    "Logger.getLogger(\"org\").setLevel(Level.OFF)\n",
    "\n",
    "import org.apache.spark.sql._\n",
    "\n",
    "//jupyter notebook way to create spark session\n",
    "val spark = {\n",
    "  NotebookSparkSession.builder()\n",
    "    .master(\"local[*]\")\n",
    "    .getOrCreate()\n",
    "}"
   ]
  },
  {
   "cell_type": "markdown",
   "metadata": {},
   "source": [
    "# Get spark context"
   ]
  },
  {
   "cell_type": "code",
   "execution_count": 2,
   "metadata": {},
   "outputs": [
    {
     "data": {
      "text/plain": [
       "\u001b[36msc\u001b[39m: \u001b[32morg\u001b[39m.\u001b[32mapache\u001b[39m.\u001b[32mspark\u001b[39m.\u001b[32mSparkContext\u001b[39m = org.apache.spark.SparkContext@163b1db"
      ]
     },
     "execution_count": 2,
     "metadata": {},
     "output_type": "execute_result"
    }
   ],
   "source": [
    "val sc = spark.sparkContext"
   ]
  },
  {
   "cell_type": "markdown",
   "metadata": {},
   "source": [
    "# run some test"
   ]
  },
  {
   "cell_type": "code",
   "execution_count": 6,
   "metadata": {},
   "outputs": [
    {
     "data": {
      "text/plain": [
       "\u001b[36mrddwork\u001b[39m: \u001b[32morg\u001b[39m.\u001b[32mapache\u001b[39m.\u001b[32mspark\u001b[39m.\u001b[32mrdd\u001b[39m.\u001b[32mRDD\u001b[39m[\u001b[32mString\u001b[39m] = /home/pi/sparktest/work.csv MapPartitionsRDD[16] at textFile at cmd5.sc:1\n",
       "\u001b[36mrddcell\u001b[39m: \u001b[32morg\u001b[39m.\u001b[32mapache\u001b[39m.\u001b[32mspark\u001b[39m.\u001b[32mrdd\u001b[39m.\u001b[32mRDD\u001b[39m[\u001b[32mString\u001b[39m] = /home/pi/sparktest/cell.csv MapPartitionsRDD[18] at textFile at cmd5.sc:2\n",
       "\u001b[36mrddalt\u001b[39m: \u001b[32morg\u001b[39m.\u001b[32mapache\u001b[39m.\u001b[32mspark\u001b[39m.\u001b[32mrdd\u001b[39m.\u001b[32mRDD\u001b[39m[\u001b[32mString\u001b[39m] = /home/pi/sparktest/alt.csv MapPartitionsRDD[20] at textFile at cmd5.sc:3"
      ]
     },
     "execution_count": 6,
     "metadata": {},
     "output_type": "execute_result"
    }
   ],
   "source": [
    "val rddwork = sc.textFile(\"/home/pi/sparktest/work.csv\")\n",
    "val rddcell = sc.textFile(\"/home/pi/sparktest/cell.csv\")\n",
    "val rddalt = sc.textFile(\"/home/pi/sparktest/alt.csv\")"
   ]
  },
  {
   "cell_type": "markdown",
   "metadata": {},
   "source": [
    "# group all phone and create RDD"
   ]
  },
  {
   "cell_type": "code",
   "execution_count": 7,
   "metadata": {},
   "outputs": [
    {
     "data": {
      "text/html": [
       "<div>\n",
       "  <span style=\"float: left;\">first at cmd6.sc:7</span>\n",
       "</div>\n"
      ]
     },
     "metadata": {},
     "output_type": "display_data"
    },
    {
     "data": {
      "text/html": [
       "<div class=\"progress\">\n",
       "  <div class=\"progress-bar\" role=\"progressbar\" style=\"background-color: blue; width: 100%; word-wrap: normal; white-space: nowrap; text-align: center; color: white\" aria-valuenow=\"100\" aria-valuemin=\"0\" aria-valuemax=\"100\">\n",
       "    1 / 1\n",
       "  </div>\n",
       "  <div class=\"progress-bar\" role=\"progressbar\" style=\"background-color: red; width: 0%\" aria-valuenow=\"0\" aria-valuemin=\"0\" aria-valuemax=\"100\"></div>\n",
       "</div>\n"
      ]
     },
     "metadata": {},
     "output_type": "display_data"
    },
    {
     "data": {
      "text/html": [
       "<div>\n",
       "  <span style=\"float: left;\">first at cmd6.sc:10</span>\n",
       "</div>\n"
      ]
     },
     "metadata": {},
     "output_type": "display_data"
    },
    {
     "data": {
      "text/html": [
       "<div class=\"progress\">\n",
       "  <div class=\"progress-bar\" role=\"progressbar\" style=\"background-color: blue; width: 100%; word-wrap: normal; white-space: nowrap; text-align: center; color: white\" aria-valuenow=\"100\" aria-valuemin=\"0\" aria-valuemax=\"100\">\n",
       "    1 / 1\n",
       "  </div>\n",
       "  <div class=\"progress-bar\" role=\"progressbar\" style=\"background-color: red; width: 0%\" aria-valuenow=\"0\" aria-valuemin=\"0\" aria-valuemax=\"100\"></div>\n",
       "</div>\n"
      ]
     },
     "metadata": {},
     "output_type": "display_data"
    },
    {
     "data": {
      "text/html": [
       "<div>\n",
       "  <span style=\"float: left;\">first at cmd6.sc:13</span>\n",
       "</div>\n"
      ]
     },
     "metadata": {},
     "output_type": "display_data"
    },
    {
     "data": {
      "text/html": [
       "<div class=\"progress\">\n",
       "  <div class=\"progress-bar\" role=\"progressbar\" style=\"background-color: blue; width: 100%; word-wrap: normal; white-space: nowrap; text-align: center; color: white\" aria-valuenow=\"100\" aria-valuemin=\"0\" aria-valuemax=\"100\">\n",
       "    1 / 1\n",
       "  </div>\n",
       "  <div class=\"progress-bar\" role=\"progressbar\" style=\"background-color: red; width: 0%\" aria-valuenow=\"0\" aria-valuemin=\"0\" aria-valuemax=\"100\"></div>\n",
       "</div>\n"
      ]
     },
     "metadata": {},
     "output_type": "display_data"
    },
    {
     "data": {
      "text/plain": [
       "defined \u001b[32mfunction\u001b[39m \u001b[36msplitFields\u001b[39m\n",
       "\u001b[36mheader\u001b[39m: \u001b[32mString\u001b[39m = \u001b[32m\"cont_id\\tcontact_method_usage_type\\tref_num\\tx_standard_ref_num\"\u001b[39m\n",
       "\u001b[36mrddworkkv\u001b[39m: \u001b[32morg\u001b[39m.\u001b[32mapache\u001b[39m.\u001b[32mspark\u001b[39m.\u001b[32mrdd\u001b[39m.\u001b[32mRDD\u001b[39m[(\u001b[32mString\u001b[39m, \u001b[32mString\u001b[39m)] = MapPartitionsRDD[22] at map at cmd6.sc:8\n",
       "\u001b[36mheadercell\u001b[39m: \u001b[32mString\u001b[39m = \u001b[32m\"cont_id\\tcontact_method_usage_type\\tref_num\\tx_standard_ref_num\"\u001b[39m\n",
       "\u001b[36mrddcellkv\u001b[39m: \u001b[32morg\u001b[39m.\u001b[32mapache\u001b[39m.\u001b[32mspark\u001b[39m.\u001b[32mrdd\u001b[39m.\u001b[32mRDD\u001b[39m[(\u001b[32mString\u001b[39m, \u001b[32mString\u001b[39m)] = MapPartitionsRDD[24] at map at cmd6.sc:11\n",
       "\u001b[36mheaderalt\u001b[39m: \u001b[32mString\u001b[39m = \u001b[32m\"cont_id\\tcontact_method_usage_type\\tref_num\\tx_standard_ref_num\"\u001b[39m\n",
       "\u001b[36mrddaltkv\u001b[39m: \u001b[32morg\u001b[39m.\u001b[32mapache\u001b[39m.\u001b[32mspark\u001b[39m.\u001b[32mrdd\u001b[39m.\u001b[32mRDD\u001b[39m[(\u001b[32mString\u001b[39m, \u001b[32mString\u001b[39m)] = MapPartitionsRDD[26] at map at cmd6.sc:14\n",
       "\u001b[36mtotalPhone\u001b[39m: \u001b[32morg\u001b[39m.\u001b[32mapache\u001b[39m.\u001b[32mspark\u001b[39m.\u001b[32mrdd\u001b[39m.\u001b[32mRDD\u001b[39m[(\u001b[32mString\u001b[39m, \u001b[32mString\u001b[39m)] = UnionRDD[28] at union at cmd6.sc:16"
      ]
     },
     "execution_count": 7,
     "metadata": {},
     "output_type": "execute_result"
    }
   ],
   "source": [
    "def splitFields (line:String):Tuple2[String,String]={\n",
    "    val fields = line.split(\"\\t\")\n",
    "    return (fields(0),fields(1) + \"\\t\" + fields(2) + \"\\t\" + fields(3))\n",
    "}\n",
    "\n",
    "//print(splitFields(\"1\\t5\\t3344\\tnull\"))\n",
    "val header = rddwork.first()\n",
    "val rddworkkv = rddwork.filter(_!=header).map(t=>splitFields(t))\n",
    "\n",
    "val headercell = rddcell.first()\n",
    "val rddcellkv = rddcell.filter(_!=headercell).map(t=>splitFields(t))\n",
    "\n",
    "val headeralt = rddalt.first()\n",
    "val rddaltkv = rddalt.filter(_!=headeralt).map(splitFields(_))\n",
    "\n",
    "val totalPhone = rddworkkv.union(rddcellkv).union(rddaltkv)"
   ]
  },
  {
   "cell_type": "markdown",
   "metadata": {},
   "source": [
    "# group by and show result"
   ]
  },
  {
   "cell_type": "code",
   "execution_count": 8,
   "metadata": {},
   "outputs": [
    {
     "data": {
      "text/html": [
       "<div>\n",
       "  <span style=\"float: left;\">union at cmd6.sc:16</span>\n",
       "</div>\n"
      ]
     },
     "metadata": {},
     "output_type": "display_data"
    },
    {
     "data": {
      "text/html": [
       "<div class=\"progress\">\n",
       "  <div class=\"progress-bar\" role=\"progressbar\" style=\"background-color: blue; width: 100%; word-wrap: normal; white-space: nowrap; text-align: center; color: white\" aria-valuenow=\"100\" aria-valuemin=\"0\" aria-valuemax=\"100\">\n",
       "    6 / 6\n",
       "  </div>\n",
       "  <div class=\"progress-bar\" role=\"progressbar\" style=\"background-color: red; width: 0%\" aria-valuenow=\"0\" aria-valuemin=\"0\" aria-valuemax=\"100\"></div>\n",
       "</div>\n"
      ]
     },
     "metadata": {},
     "output_type": "display_data"
    },
    {
     "data": {
      "text/html": [
       "<div>\n",
       "  <span style=\"float: left;\">collect at cmd7.sc:2</span>\n",
       "</div>\n"
      ]
     },
     "metadata": {},
     "output_type": "display_data"
    },
    {
     "data": {
      "text/html": [
       "<div class=\"progress\">\n",
       "  <div class=\"progress-bar\" role=\"progressbar\" style=\"background-color: blue; width: 100%; word-wrap: normal; white-space: nowrap; text-align: center; color: white\" aria-valuenow=\"100\" aria-valuemin=\"0\" aria-valuemax=\"100\">\n",
       "    6 / 6\n",
       "  </div>\n",
       "  <div class=\"progress-bar\" role=\"progressbar\" style=\"background-color: red; width: 0%\" aria-valuenow=\"0\" aria-valuemin=\"0\" aria-valuemax=\"100\"></div>\n",
       "</div>\n"
      ]
     },
     "metadata": {},
     "output_type": "display_data"
    },
    {
     "data": {
      "text/plain": [
       "\u001b[36mtestrdd\u001b[39m: \u001b[32morg\u001b[39m.\u001b[32mapache\u001b[39m.\u001b[32mspark\u001b[39m.\u001b[32mrdd\u001b[39m.\u001b[32mRDD\u001b[39m[(\u001b[32mString\u001b[39m, \u001b[32mIterable\u001b[39m[\u001b[32mString\u001b[39m])] = ShuffledRDD[29] at groupByKey at cmd7.sc:1\n",
       "\u001b[36mres7_1\u001b[39m: \u001b[32mArray\u001b[39m[(\u001b[32mString\u001b[39m, \u001b[32mIterable\u001b[39m[\u001b[32mString\u001b[39m])] = \u001b[33mArray\u001b[39m(\n",
       "  (\n",
       "    \u001b[32m\"1\"\u001b[39m,\n",
       "    \u001b[33mCompactBuffer\u001b[39m(\n",
       "      \u001b[32m\"2\\t4433\\t4433\"\u001b[39m,\n",
       "      \u001b[32m\"5\\t3344\\tnull\"\u001b[39m,\n",
       "      \u001b[32m\"100001\\t3344\\tnull\"\u001b[39m,\n",
       "      \u001b[32m\"100001\\t4433\\tnull\"\u001b[39m\n",
       "    )\n",
       "  ),\n",
       "  (\u001b[32m\"2\"\u001b[39m, \u001b[33mCompactBuffer\u001b[39m(\u001b[32m\"5\\t134434\\t134434\"\u001b[39m, \u001b[32m\"100001\\t134434\\tnull\"\u001b[39m)),\n",
       "  (\u001b[32m\"3\"\u001b[39m, \u001b[33mCompactBuffer\u001b[39m(\u001b[32m\"5\\t5388\\t5388\"\u001b[39m, \u001b[32m\"100001\\t8988\\t8988\"\u001b[39m)),\n",
       "  (\n",
       "    \u001b[32m\"4\"\u001b[39m,\n",
       "    \u001b[33mCompactBuffer\u001b[39m(\n",
       "      \u001b[32m\"2\\t2212131231\\tnull\"\u001b[39m,\n",
       "      \u001b[32m\"5\\t5134323\\t5134323\"\u001b[39m,\n",
       "      \u001b[32m\"100001\\t2455\\t2455\"\u001b[39m\n",
       "    )\n",
       "  ),\n",
       "  (\u001b[32m\"5\"\u001b[39m, \u001b[33mCompactBuffer\u001b[39m(\u001b[32m\"2\\t4432525\\t4432525\"\u001b[39m))\n",
       ")"
      ]
     },
     "execution_count": 8,
     "metadata": {},
     "output_type": "execute_result"
    }
   ],
   "source": [
    "//totalPhone.groupByKey.collect()\n",
    "//val testlist = List((\"1\", (\"2\\t3344\\t3344\", \"5\\t3344\\tnull\", \"100001\\t3344\\tnull\"))\n",
    " //                   ,(\"2\", (\"5\\t134434\\t134434\", \"100001\\t134434\\tnull\"))\n",
    "  //                  ,(\"3\", (\"5\\t5388\\t5388\", \"100001\\t8988\\t8988\")))\n",
    "val testrdd = totalPhone.groupByKey()\n",
    "testrdd.collect()"
   ]
  },
  {
   "cell_type": "markdown",
   "metadata": {},
   "source": [
    "# filter to find cell phone not equals to others"
   ]
  },
  {
   "cell_type": "code",
   "execution_count": 10,
   "metadata": {
    "code_folding": []
   },
   "outputs": [
    {
     "data": {
      "text/html": [
       "<div>\n",
       "  <span style=\"float: left;\">collect at cmd9.sc:45</span>\n",
       "</div>\n"
      ]
     },
     "metadata": {},
     "output_type": "display_data"
    },
    {
     "data": {
      "text/html": [
       "<div class=\"progress\">\n",
       "  <div class=\"progress-bar\" role=\"progressbar\" style=\"background-color: blue; width: 100%; word-wrap: normal; white-space: nowrap; text-align: center; color: white\" aria-valuenow=\"100\" aria-valuemin=\"0\" aria-valuemax=\"100\">\n",
       "    6 / 6\n",
       "  </div>\n",
       "  <div class=\"progress-bar\" role=\"progressbar\" style=\"background-color: red; width: 0%\" aria-valuenow=\"0\" aria-valuemin=\"0\" aria-valuemax=\"100\"></div>\n",
       "</div>\n"
      ]
     },
     "metadata": {},
     "output_type": "display_data"
    },
    {
     "data": {
      "text/plain": [
       "\u001b[32mimport \u001b[39m\u001b[36mscala.collection.mutable.ListBuffer\n",
       "\u001b[39m\n",
       "defined \u001b[32mfunction\u001b[39m \u001b[36misCellDifferent\u001b[39m\n",
       "\u001b[36mres9_2\u001b[39m: \u001b[32mArray\u001b[39m[(\u001b[32mString\u001b[39m, \u001b[32mIterable\u001b[39m[\u001b[32mString\u001b[39m])] = \u001b[33mArray\u001b[39m(\n",
       "  (\u001b[32m\"3\"\u001b[39m, \u001b[33mCompactBuffer\u001b[39m(\u001b[32m\"5\\t5388\\t5388\"\u001b[39m, \u001b[32m\"100001\\t8988\\t8988\"\u001b[39m)),\n",
       "  (\n",
       "    \u001b[32m\"4\"\u001b[39m,\n",
       "    \u001b[33mCompactBuffer\u001b[39m(\n",
       "      \u001b[32m\"2\\t2212131231\\tnull\"\u001b[39m,\n",
       "      \u001b[32m\"5\\t5134323\\t5134323\"\u001b[39m,\n",
       "      \u001b[32m\"100001\\t2455\\t2455\"\u001b[39m\n",
       "    )\n",
       "  )\n",
       ")"
      ]
     },
     "execution_count": 10,
     "metadata": {},
     "output_type": "execute_result"
    }
   ],
   "source": [
    "import scala.collection.mutable.ListBuffer\n",
    "def isCellDifferent(arg:Iterable[String]):Boolean={\n",
    "    var result = true;\n",
    "    var cell = \"null\"\n",
    "    var cellSt = \"null\"\n",
    "    \n",
    "    var work = \"null\"\n",
    "    var workSt = \"null\"\n",
    "    var alt = \"null\"\n",
    "    var altSt = \"null\"\n",
    "    \n",
    "    var otherPhoneList = ListBuffer[(String,String)]()\n",
    "    \n",
    "    for (str <- arg){\n",
    "        val fields = str.split(\"\\t\")\n",
    "        if(fields(0) == \"5\"){\n",
    "            cell = fields(1)\n",
    "            cellSt = fields(2)\n",
    "        }\n",
    "        else{\n",
    "            otherPhoneList += ((fields(1),fields(2)))\n",
    "        }\n",
    "    }\n",
    "    \n",
    "    if(cell != \"null\" || cellSt != \"null\"){\n",
    "        result = true\n",
    "        for(otherPhone <- otherPhoneList){\n",
    "            if(cellSt != \"null\" && otherPhone._2 != \"null\"){\n",
    "                if(cellSt == otherPhone._2)\n",
    "                    result = false\n",
    "            }else{\n",
    "                if(cell == otherPhone._1)\n",
    "                    result = false\n",
    "            }\n",
    "        }\n",
    "    }\n",
    "    else{\n",
    "        //no cell phone, return false\n",
    "        result = false\n",
    "    }\n",
    "    \n",
    "    return result\n",
    "}\n",
    "\n",
    "testrdd.filter(t=>isCellDifferent(t._2)).collect()\n"
   ]
  },
  {
   "cell_type": "code",
   "execution_count": null,
   "metadata": {},
   "outputs": [],
   "source": []
  }
 ],
 "metadata": {
  "kernelspec": {
   "display_name": "Scala",
   "language": "scala",
   "name": "scala"
  },
  "language_info": {
   "codemirror_mode": "text/x-scala",
   "file_extension": ".scala",
   "mimetype": "text/x-scala",
   "name": "scala",
   "nbconvert_exporter": "script",
   "version": "2.12.10"
  },
  "toc": {
   "base_numbering": 1,
   "nav_menu": {
    "height": "134px",
    "width": "320px"
   },
   "number_sections": true,
   "sideBar": true,
   "skip_h1_title": false,
   "title_cell": "Table of Contents",
   "title_sidebar": "Contents",
   "toc_cell": false,
   "toc_position": {},
   "toc_section_display": true,
   "toc_window_display": false
  }
 },
 "nbformat": 4,
 "nbformat_minor": 4
}
