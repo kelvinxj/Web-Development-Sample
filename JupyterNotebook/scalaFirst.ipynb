{
 "cells": [
  {
   "cell_type": "markdown",
   "metadata": {},
   "source": [
    "# First, print some string"
   ]
  },
  {
   "cell_type": "code",
   "execution_count": 3,
   "metadata": {},
   "outputs": [
    {
     "name": "stdout",
     "output_type": "stream",
     "text": [
      "Hello, world!\n",
      "The second element of array is: 2\n"
     ]
    },
    {
     "data": {
      "text/plain": [
       "\u001b[36mi\u001b[39m: \u001b[32mInt\u001b[39m = \u001b[32m1\u001b[39m\n",
       "\u001b[36mmyStr\u001b[39m: \u001b[32mString\u001b[39m = \u001b[32m\"This is a string\"\u001b[39m\n",
       "\u001b[36mmyArray\u001b[39m: \u001b[32mArray\u001b[39m[\u001b[32mInt\u001b[39m] = \u001b[33mArray\u001b[39m(\u001b[32m1\u001b[39m, \u001b[32m2\u001b[39m, \u001b[32m3\u001b[39m)"
      ]
     },
     "execution_count": 3,
     "metadata": {},
     "output_type": "execute_result"
    }
   ],
   "source": [
    "//Print \"hello, world\"\n",
    "println(\"Hello, world!\")\n",
    "\n",
    "//Define variables and basic data types: string, int, array,Array accessing\n",
    "//immutable variable, can't be change to other value\n",
    "val i:Int = 1 // you will get \"reassignment to val\" error when you type \"i=2\"\n",
    "val myStr = \"This is a string\"\n",
    "val myArray:Array[Int] = Array(1,2,3)\n",
    "println(\"The second element of array is: \" + myArray(1))"
   ]
  },
  {
   "cell_type": "code",
   "execution_count": null,
   "metadata": {},
   "outputs": [],
   "source": []
  }
 ],
 "metadata": {
  "kernelspec": {
   "display_name": "Scala",
   "language": "scala",
   "name": "scala"
  },
  "language_info": {
   "codemirror_mode": "text/x-scala",
   "file_extension": ".scala",
   "mimetype": "text/x-scala",
   "name": "scala",
   "nbconvert_exporter": "script",
   "version": "2.12.10"
  }
 },
 "nbformat": 4,
 "nbformat_minor": 4
}
