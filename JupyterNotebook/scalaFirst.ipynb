{
 "cells": [
  {
   "cell_type": "markdown",
   "metadata": {},
   "source": [
    "# First, print some string"
   ]
  },
  {
   "cell_type": "code",
   "execution_count": 3,
   "metadata": {},
   "outputs": [
    {
     "name": "stdout",
     "output_type": "stream",
     "text": [
      "Hello, world!\n",
      "The second element of array is: 2\n"
     ]
    },
    {
     "data": {
      "text/plain": [
       "\u001b[36mi\u001b[39m: \u001b[32mInt\u001b[39m = \u001b[32m1\u001b[39m\n",
       "\u001b[36mmyStr\u001b[39m: \u001b[32mString\u001b[39m = \u001b[32m\"This is a string\"\u001b[39m\n",
       "\u001b[36mmyArray\u001b[39m: \u001b[32mArray\u001b[39m[\u001b[32mInt\u001b[39m] = \u001b[33mArray\u001b[39m(\u001b[32m1\u001b[39m, \u001b[32m2\u001b[39m, \u001b[32m3\u001b[39m)"
      ]
     },
     "execution_count": 3,
     "metadata": {},
     "output_type": "execute_result"
    }
   ],
   "source": [
    "//Print \"hello, world\"\n",
    "println(\"Hello, world!\")\n",
    "\n",
    "//Define variables and basic data types: string, int, array,Array accessing\n",
    "//immutable variable, can't be change to other value\n",
    "val i:Int = 1 // you will get \"reassignment to val\" error when you type \"i=2\"\n",
    "val myStr = \"This is a string\"\n",
    "val myArray:Array[Int] = Array(1,2,3)\n",
    "println(\"The second element of array is: \" + myArray(1))"
   ]
  },
  {
   "cell_type": "markdown",
   "metadata": {},
   "source": [
    "# Type convert"
   ]
  },
  {
   "cell_type": "code",
   "execution_count": 34,
   "metadata": {},
   "outputs": [
    {
     "name": "stdout",
     "output_type": "stream",
     "text": [
      "98\n",
      "98 + 99 = 197\n",
      "98 + 99 = 197\n"
     ]
    },
    {
     "data": {
      "text/plain": [
       "\u001b[36mi2\u001b[39m: \u001b[32mInt\u001b[39m = \u001b[32m98\u001b[39m\n",
       "\u001b[36mmyStr123\u001b[39m: \u001b[32mString\u001b[39m = \u001b[32m\"98\"\u001b[39m\n",
       "\u001b[36mnumStr\u001b[39m: \u001b[32mString\u001b[39m = \u001b[32m\"99\"\u001b[39m"
      ]
     },
     "execution_count": 34,
     "metadata": {},
     "output_type": "execute_result"
    }
   ],
   "source": [
    "//Type convert:\n",
    "//Int to String\n",
    "val i2:Int = 98\n",
    "val myStr123 = i2.toString\n",
    "println(myStr123)\n",
    "\n",
    "//Int to String\n",
    "val numStr = \"99\"\n",
    "//using Java Integer.parseInt method\n",
    "println(\"98 + 99 = \" + (i2 + Integer.parseInt(numStr)))\n",
    "//using scala StringLike.toInt method (StringLike.toInt call java Integer.parseInt()):\n",
    "println(\"98 + 99 = \" + (i2 + \"99\".toInt))"
   ]
  },
  {
   "cell_type": "markdown",
   "metadata": {},
   "source": [
    "# mutable and immutable veriables"
   ]
  },
  {
   "cell_type": "code",
   "execution_count": null,
   "metadata": {},
   "outputs": [],
   "source": [
    "//mutable variable\n",
    "var i1:Int = 1\n",
    "val str = \"This is a string\""
   ]
  },
  {
   "cell_type": "markdown",
   "metadata": {},
   "source": [
    "# Operators"
   ]
  },
  {
   "cell_type": "code",
   "execution_count": null,
   "metadata": {},
   "outputs": [],
   "source": [
    "//Comparators: ==, <,>,<=,>=,!=\n",
    "println(\"1==1: \" + 1==1)\n",
    "println(\"3<1: \" + (3<1))\n",
    "println(\"3>1: \" + (3>1))\n",
    "println(\"4<=4: \" + (4<=4))\n",
    "println(\"5<=7: \" + (5<=7))\n",
    "println(\"8!=9: \" + (8!=9))\n",
    "\n",
    "//logical operator(and/or/not)\n",
    "val a = true\n",
    "val b = false\n",
    "println(\"True and True is: \" + (a&&a))\n",
    "println(\"True or False is: \" + (a||b))\n",
    "println(\"Not True is: \" + !a)"
   ]
  },
  {
   "cell_type": "markdown",
   "metadata": {},
   "source": [
    "# Flow control"
   ]
  },
  {
   "cell_type": "code",
   "execution_count": null,
   "metadata": {},
   "outputs": [],
   "source": [
    "//If…else struct\n",
    "if(i == 1)\n",
    "  println(\"i is 1\")\n",
    "else if(i == 2)\n",
    "  println(\"i is 2\")\n",
    "else\n",
    "  println(\"i is not 1\")\n",
    "  \n",
    "//For/looping/while/do while/foreach struct\n",
    "//to means: 1,2,3...10\n",
    "for(i <- 1 to 10)\n",
    "  println(\"i is:\" + i)\n",
    "\n",
    "//until means 0,1,2\n",
    "for(i <- 0 until 3)\n",
    "  println(myArray(i))"
   ]
  },
  {
   "cell_type": "markdown",
   "metadata": {},
   "source": [
    "# Write code in multiple lines"
   ]
  },
  {
   "cell_type": "code",
   "execution_count": 35,
   "metadata": {},
   "outputs": [
    {
     "data": {
      "text/plain": [
       "\u001b[36mmyval\u001b[39m: \u001b[32mString\u001b[39m = \u001b[32m\"abc\"\u001b[39m\n",
       "\u001b[36mmyIntVal\u001b[39m: \u001b[32mInt\u001b[39m = \u001b[32m8\u001b[39m"
      ]
     },
     "execution_count": 35,
     "metadata": {},
     "output_type": "execute_result"
    }
   ],
   "source": [
    "//Writing code in multiple lines\n",
    "val myval\n",
    "  =\"abc\"\n",
    "val myIntVal\n",
    "  :Int =\n",
    "  8"
   ]
  },
  {
   "cell_type": "markdown",
   "metadata": {},
   "source": [
    "# Define function/methods"
   ]
  },
  {
   "cell_type": "code",
   "execution_count": 44,
   "metadata": {},
   "outputs": [
    {
     "name": "stdout",
     "output_type": "stream",
     "text": [
      "Is 4 an even number? true\n",
      "Is 5 an even number? false\n",
      "Hello, Bill\n",
      "Hello, Mike\n",
      "Hello\n",
      "4 add one is:5\n",
      "Jary,\n",
      ",Tomlinson\n"
     ]
    },
    {
     "data": {
      "text/plain": [
       "defined \u001b[32mfunction\u001b[39m \u001b[36misEvenNumber\u001b[39m\n",
       "defined \u001b[32mfunction\u001b[39m \u001b[36msayHello\u001b[39m\n",
       "defined \u001b[32mfunction\u001b[39m \u001b[36msayHello2\u001b[39m\n",
       "defined \u001b[32mfunction\u001b[39m \u001b[36msimpleMethod\u001b[39m\n",
       "defined \u001b[32mfunction\u001b[39m \u001b[36maddOne\u001b[39m\n",
       "defined \u001b[32mfunction\u001b[39m \u001b[36mshowNameAgain\u001b[39m"
      ]
     },
     "execution_count": 44,
     "metadata": {},
     "output_type": "execute_result"
    }
   ],
   "source": [
    "//Define function/methods\n",
    "def isEvenNumber(num:Int): Boolean = {\n",
    "    if(num % 2 == 0)\n",
    "        return true\n",
    "    else\n",
    "        return false\n",
    "}\n",
    "\n",
    "println(\"Is 4 an even number? \" + isEvenNumber(4))\n",
    "println(\"Is 5 an even number? \" + isEvenNumber(5))\n",
    "\n",
    "//Method without return value\n",
    "def sayHello(name:String) = println(\"Hello, \" + name)\n",
    "sayHello(\"Bill\")\n",
    "\n",
    "//or:\n",
    "def sayHello2(name:String): Unit = println(\"Hello, \" + name)\n",
    "sayHello2(\"Mike\")\n",
    "\n",
    "//a method without parameter and return a string\n",
    "def simpleMethod = \"Hello\"\n",
    "//calling a method without parameter shouldn't contain ()\n",
    "println(simpleMethod)\n",
    "\n",
    "//Method with return value\n",
    "//if method body contains only one line,\n",
    "//could be: def addOne(number:Int) = number + 1\n",
    "def addOne(number: Int): Int = {\n",
    "    //also: return number+1\n",
    "    number+1\n",
    "}\n",
    "println(\"4 add one is:\" + addOne(4))\n",
    "\n",
    "//Method, default arguments\n",
    "def showNameAgain(firstName:String = \"\", lastName:String = \"\") =\n",
    "    println(firstName + \",\" + lastName)\n",
    "//if you pass one parameter, this will be passed to first\n",
    "showNameAgain(\"Jary\")\n",
    "//if you want  to only pass lastName:\n",
    "showNameAgain(lastName=\"Tomlinson\")"
   ]
  },
  {
   "cell_type": "markdown",
   "metadata": {},
   "source": [
    "# case match"
   ]
  },
  {
   "cell_type": "code",
   "execution_count": 45,
   "metadata": {},
   "outputs": [
    {
     "name": "stdout",
     "output_type": "stream",
     "text": [
      "0\n",
      "1\n"
     ]
    },
    {
     "data": {
      "text/plain": [
       "defined \u001b[32mfunction\u001b[39m \u001b[36mcheckTuple\u001b[39m"
      ]
     },
     "execution_count": 45,
     "metadata": {},
     "output_type": "execute_result"
    }
   ],
   "source": [
    "//case match:\n",
    "def checkTuple(arg: Tuple2[String,String]):Int={\n",
    "\targ._2 match{\n",
    "\t\tcase \"1\"=>1\n",
    "\t\tcase \"0\"=>1\n",
    "\t\tcase _=>0\n",
    "\t}\n",
    "}\n",
    "println(checkTuple((\"id1\",\"p\")))\n",
    "println(checkTuple((\"id1\",\"1\")))"
   ]
  },
  {
   "cell_type": "markdown",
   "metadata": {},
   "source": [
    "# get type of object"
   ]
  },
  {
   "cell_type": "code",
   "execution_count": 46,
   "metadata": {},
   "outputs": [
    {
     "name": "stdout",
     "output_type": "stream",
     "text": [
      "i=1, type is int\n",
      "str=This is a string, type is class java.lang.String\n",
      "list1 type is: class scala.collection.immutable.$colon$colon\n"
     ]
    },
    {
     "data": {
      "text/html": [
       "<div class=\"jp-RenderedText\">\n",
       "<pre><code><span style=\"color: rgb(0, 187, 187)\"><span class=\"ansi-cyan-fg\">i</span></span>: <span style=\"color: rgb(0, 187, 0)\"><span class=\"ansi-green-fg\">Int</span></span> = <span style=\"color: rgb(0, 187, 0)\"><span class=\"ansi-green-fg\">1</span></span>\n",
       "<span style=\"color: rgb(0, 187, 187)\"><span class=\"ansi-cyan-fg\">str</span></span>: <span style=\"color: rgb(0, 187, 0)\"><span class=\"ansi-green-fg\">String</span></span> = <span style=\"color: rgb(0, 187, 0)\"><span class=\"ansi-green-fg\">&quot;This is a string&quot;</span></span>\n",
       "<span style=\"color: rgb(0, 187, 187)\"><span class=\"ansi-cyan-fg\">list1</span></span>: <span style=\"color: rgb(0, 187, 0)\"><span class=\"ansi-green-fg\">List</span></span>[<span style=\"color: rgb(0, 187, 0)\"><span class=\"ansi-green-fg\">Int</span></span>] = <span style=\"color: yellow\"><span class=\"ansi-yellow-fg\">List</span></span>(<span style=\"color: rgb(0, 187, 0)\"><span class=\"ansi-green-fg\">1</span></span>, <span style=\"color: rgb(0, 187, 0)\"><span class=\"ansi-green-fg\">2</span></span>, <span style=\"color: rgb(0, 187, 0)\"><span class=\"ansi-green-fg\">3</span></span>)</code></pre>\n",
       "</div>"
      ],
      "text/plain": [
       "\u001b[36mi\u001b[39m: \u001b[32mInt\u001b[39m = \u001b[32m1\u001b[39m\n",
       "\u001b[36mstr\u001b[39m: \u001b[32mString\u001b[39m = \u001b[32m\"This is a string\"\u001b[39m\n",
       "\u001b[36mlist1\u001b[39m: \u001b[32mList\u001b[39m[\u001b[32mInt\u001b[39m] = \u001b[33mList\u001b[39m(\u001b[32m1\u001b[39m, \u001b[32m2\u001b[39m, \u001b[32m3\u001b[39m)"
      ]
     },
     "metadata": {},
     "output_type": "display_data"
    }
   ],
   "source": [
    "//Get type of object\n",
    "val i = 1\n",
    "var str = \"This is a string\"\n",
    "\n",
    "println(\"i=\" + i + \", type is \" + i.getClass) //i=1, type is int\n",
    "println(\"str=\" + str + \", type is \" + str.getClass)//str=This is a string, type is class java.lang.String\n",
    "\n",
    "val list1 = List(1,2,3)\n",
    "println(\"list1 type is: \" + list1.getClass)"
   ]
  },
  {
   "cell_type": "markdown",
   "metadata": {},
   "source": [
    "# String"
   ]
  },
  {
   "cell_type": "code",
   "execution_count": 47,
   "metadata": {},
   "outputs": [
    {
     "name": "stdout",
     "output_type": "stream",
     "text": [
      "str1 type is: class java.lang.String\n",
      "This is a string, length is:16\n",
      "This is a string match STRING? false\n",
      "s is a string\n",
      "This is a string starts with This? true\n",
      "This is a string ends with string? true\n",
      "This is a not a string\n",
      "Your name is Jerry\n",
      "123 matches \\\\d{3}? true\n"
     ]
    },
    {
     "data": {
      "text/plain": [
       "\u001b[36mstr1\u001b[39m: \u001b[32mString\u001b[39m = \u001b[32m\"This is a string\"\u001b[39m\n",
       "\u001b[36mpattern\u001b[39m: \u001b[32mscala\u001b[39m.\u001b[32mutil\u001b[39m.\u001b[32mmatching\u001b[39m.\u001b[32mRegex\u001b[39m = name"
      ]
     },
     "execution_count": 47,
     "metadata": {},
     "output_type": "execute_result"
    }
   ],
   "source": [
    "//String:\n",
    "//scala string is java.lang.String, so we can use java String function\n",
    "//Define a string\n",
    "val str1 = \"This is a string\"\n",
    "\n",
    "//String type:\n",
    "println(\"str1 type is: \" + str1.getClass)\n",
    "\n",
    "//Basic string methods:\n",
    "//Length\n",
    "println(str1 + \", length is:\" + str1.length)\n",
    "//String match or not\n",
    "println(str1 + \" match STRING? \" + str1.matches(\"STRING\"))\n",
    "//Find a substring\n",
    "println(str1.substring(3))\n",
    "//StartWith:\n",
    "println(str1 + \" starts with This? \" + str1.startsWith(\"This\"))\n",
    "//endWith\n",
    "println(str1 + \" ends with string? \" + str1.endsWith(\"string\"))\n",
    "//String replace\n",
    "println(str1.replace(\"string\",\"not a string\"))\n",
    "//String format\n",
    "println(String.format(\"Your name is %s\", \"Jerry\"))\n",
    "\n",
    "//Regular expression:\n",
    "//Define a regular variable\n",
    "val pattern = \"name\".r\n",
    "\n",
    "//Basic regular methods:\n",
    "//Match or not\n",
    "print(\"123 matches \\\\\\\\d{3}? \")\n",
    "println(\"123\".matches(\"\\\\d{3}\")) //true\n",
    "\n",
    "//Get subGroups"
   ]
  },
  {
   "cell_type": "markdown",
   "metadata": {},
   "source": [
    "# Collection"
   ]
  },
  {
   "cell_type": "code",
   "execution_count": null,
   "metadata": {},
   "outputs": [],
   "source": [
    "//Collection:\n",
    "//List:\n",
    "//Define a lis\n",
    "val list = List(1,2,3)\n",
    "\n",
    "//Access item of list\n",
    "println(\"First element is List(1,2,3) is: \" + list(0)) //1\n",
    "\n",
    "//List is scala.collection.immutable.List, so when modify elements from list, you get a new list\n",
    "//Add an item to the end of list\n",
    "println(list + \" add 1 to the end: \" + (list :+ 1))\n",
    "\n",
    "//Add an item to beginning of list\n",
    "println(list + \" add 1 to the beginning: \" + (1 +: list))\n",
    "\n",
    "//Delete an item to list\n",
    "//Using ListBufer for deleting items in list\n",
    "val listTest = ListBuffer(1,2,3,4,5)\n",
    "println(listTest)//ListBuffer(1,2,3,4,5)\n",
    "listTest-=4\n",
    "println(listTest) //ListBuffer(1,2,3,5)\n",
    "\n",
    "//Check an item in list\n",
    "println(list.contains(1)) //true\n",
    "\n",
    "//Set:\n",
    "//Define a Set\n",
    "val set1 = Set(1,2,3,3)\n",
    "println(set1)\n",
    "\n",
    "//Access item Set\n",
    "\n",
    "//set is immutable\n",
    "//Add an item to Set\n",
    "//Delete an item to Set\n",
    "//Check an item in Set\n",
    "println(\"1 in set?\" + set1(1))\n",
    "\n",
    "//Map:\n",
    "//Define a Map\n",
    "val map = Map(1->\"a\",2->\"b\")\n",
    "println(map(2))\n",
    "\n",
    "//Access item of Map\n",
    "println(map.get(1))\n",
    "\n",
    "//Add an item to Map\n",
    "val map1 = map + (3->\"c\")\n",
    "println(\"old map is:\" + map)\n",
    "println(\"new map is:\" + map1)\n",
    "\n",
    "//Delete an item to Map\n",
    "//Check an item in Map\n",
    "println(map.contains(1))\n",
    "\n",
    "//Tuple(if have)\n",
    "//Define a tuple\n",
    "val tp = (1,2)\n",
    "//Access item of tuple\n",
    "println(tp._1)\n",
    "\n",
    "//Deconstruct a tuple\n",
    "val (first,second) = tp\n",
    "println(\"first item in tuple:\" + first)\n",
    "println(\"second item in tuple:\" + second)\n",
    "\n",
    "println(\"item type is tuple is:\" + first.getClass)"
   ]
  },
  {
   "cell_type": "markdown",
   "metadata": {},
   "source": [
    "# Mutable list. its element can be modified"
   ]
  },
  {
   "cell_type": "code",
   "execution_count": 33,
   "metadata": {},
   "outputs": [
    {
     "name": "stdout",
     "output_type": "stream",
     "text": [
      "1234"
     ]
    },
    {
     "data": {
      "text/html": [
       "<div class=\"jp-RenderedText\">\n",
       "<pre><code><span style=\"color: rgb(0, 187, 0)\"><span class=\"ansi-green-fg\">import </span></span><span style=\"color: rgb(0, 187, 187)\"><span class=\"ansi-cyan-fg\">scala.collection.mutable.ListBuffer\n",
       "\n",
       "//var x = ListBuffer((2,&quot;1234&quot;,&quot;null&quot;),(5,&quot;1111&quot;,&quot;null&quot;))\n",
       "</span></span>\n",
       "<span style=\"color: rgb(0, 187, 187)\"><span class=\"ansi-cyan-fg\">x</span></span>: <span style=\"color: rgb(0, 187, 0)\"><span class=\"ansi-green-fg\">ListBuffer</span></span>[(<span style=\"color: rgb(0, 187, 0)\"><span class=\"ansi-green-fg\">Int</span></span>, <span style=\"color: rgb(0, 187, 0)\"><span class=\"ansi-green-fg\">String</span></span>, <span style=\"color: rgb(0, 187, 0)\"><span class=\"ansi-green-fg\">String</span></span>)] = <span style=\"color: yellow\"><span class=\"ansi-yellow-fg\">ListBuffer</span></span>((<span style=\"color: rgb(0, 187, 0)\"><span class=\"ansi-green-fg\">2</span></span>, <span style=\"color: rgb(0, 187, 0)\"><span class=\"ansi-green-fg\">&quot;1234&quot;</span></span>, <span style=\"color: rgb(0, 187, 0)\"><span class=\"ansi-green-fg\">&quot;null&quot;</span></span>))\n",
       "<span style=\"color: rgb(0, 187, 187)\"><span class=\"ansi-cyan-fg\">res32_2</span></span>: <span style=\"color: rgb(0, 187, 0)\"><span class=\"ansi-green-fg\">Class</span></span>[<span style=\"color: rgb(0, 187, 0)\"><span class=\"ansi-green-fg\">T</span></span>] = class scala.collection.mutable.ListBuffer\n",
       "<span style=\"color: rgb(0, 187, 187)\"><span class=\"ansi-cyan-fg\">res32_3</span></span>: <span style=\"color: rgb(0, 187, 0)\"><span class=\"ansi-green-fg\">ListBuffer</span></span>[(<span style=\"color: rgb(0, 187, 0)\"><span class=\"ansi-green-fg\">Int</span></span>, <span style=\"color: rgb(0, 187, 0)\"><span class=\"ansi-green-fg\">String</span></span>, <span style=\"color: rgb(0, 187, 0)\"><span class=\"ansi-green-fg\">String</span></span>)] = <span style=\"color: yellow\"><span class=\"ansi-yellow-fg\">ListBuffer</span></span>((<span style=\"color: rgb(0, 187, 0)\"><span class=\"ansi-green-fg\">2</span></span>, <span style=\"color: rgb(0, 187, 0)\"><span class=\"ansi-green-fg\">&quot;1234&quot;</span></span>, <span style=\"color: rgb(0, 187, 0)\"><span class=\"ansi-green-fg\">&quot;null&quot;</span></span>))</code></pre>\n",
       "</div>"
      ],
      "text/plain": [
       "\u001b[32mimport \u001b[39m\u001b[36mscala.collection.mutable.ListBuffer\n",
       "\n",
       "//var x = ListBuffer((2,\"1234\",\"null\"),(5,\"1111\",\"null\"))\n",
       "\u001b[39m\n",
       "\u001b[36mx\u001b[39m: \u001b[32mListBuffer\u001b[39m[(\u001b[32mInt\u001b[39m, \u001b[32mString\u001b[39m, \u001b[32mString\u001b[39m)] = \u001b[33mListBuffer\u001b[39m((\u001b[32m2\u001b[39m, \u001b[32m\"1234\"\u001b[39m, \u001b[32m\"null\"\u001b[39m))\n",
       "\u001b[36mres32_2\u001b[39m: \u001b[32mClass\u001b[39m[\u001b[32mT\u001b[39m] = class scala.collection.mutable.ListBuffer\n",
       "\u001b[36mres32_3\u001b[39m: \u001b[32mListBuffer\u001b[39m[(\u001b[32mInt\u001b[39m, \u001b[32mString\u001b[39m, \u001b[32mString\u001b[39m)] = \u001b[33mListBuffer\u001b[39m((\u001b[32m2\u001b[39m, \u001b[32m\"1234\"\u001b[39m, \u001b[32m\"null\"\u001b[39m))"
      ]
     },
     "metadata": {},
     "output_type": "display_data"
    }
   ],
   "source": [
    "import scala.collection.mutable.ListBuffer\n",
    "\n",
    "//var x = ListBuffer((2,\"1234\",\"null\"),(5,\"1111\",\"null\"))\n",
    "var x = ListBuffer[(Int,String,String)]()\n",
    "x.getClass\n",
    "x += ((2,\"1234\",\"null\"))\n",
    "print(x(0)._2)"
   ]
  },
  {
   "cell_type": "markdown",
   "metadata": {},
   "source": [
    "# Other language features"
   ]
  },
  {
   "cell_type": "code",
   "execution_count": null,
   "metadata": {},
   "outputs": [],
   "source": [
    "//Class\n",
    "//Define class without body\n",
    "class Hello\n",
    "val t = new Hello\n",
    "//print address of t in memory, e.g.Main$Hello@7586beff\n",
    "println(t)\n",
    "\n",
    "//Class with a body, with mutable field(can be changed)\n",
    "class Hello1{\n",
    "  var message :String = \"This is a class\"\n",
    "}\n",
    "\n",
    "val t1 = new Hello1()\n",
    "//print: This is a class\n",
    "println(t1.message)\n",
    "\n",
    "//promoting a parameter to a field\n",
    "class Hello2(val message:String){\n",
    "}\n",
    "\n",
    "val t2 = new Hello2(\"promoted field\")\n",
    "//print: promoted field\n",
    "println(t2.message)\n",
    "\n",
    "\n",
    "//object, it is a singleton class\n",
    "object myObj{\n",
    "  def message = \"Hello\"\n",
    "  private val defaulValue = 1\n",
    "}\n",
    "\n",
    "//File I/O:\n",
    "//Create file obj\n",
    "//Readlines from file\n",
    "\n",
    "//Language specific features\n",
    "//case class: class only contains data\n",
    "case class Time(hours:Int=0,minutes:Int=0)\n",
    "\n",
    "val time = Time(9,0)\n",
    "val time1 = Time(9,0)\n",
    "\n",
    "//unapply function can retrieve the value inside an case class\n",
    "//timeOption is Tuple2 wrapped by \"Some\" type\n",
    "val timeOption = Time.unapply(time)\n",
    "//timeValue is scala.Tuple2$mcII$sp type\n",
    "val timeValue = timeOption.get\n",
    "\n",
    "//print: time case class unapplied is: Some((9,0))its value is: (9,0)\n",
    "println(\"time case class unapplied is: \" + timeOption + \"its value is: \" + timeValue)\n",
    "\n",
    "//cass class compared by value, not by reference\n",
    "println(time == time1)//print true\n",
    "\n",
    "//Option:\n",
    "var op = Option(\"Jamie\")\n",
    "println(op)\n",
    "println(op.getClass) //print class scala.Some\n",
    "\n",
    "//get value of option\n",
    "println(op.get) //print Jamie\n",
    "\n",
    "//get value of option, if not found ,return a default value\n",
    "println(op.getOrElse(\"Jane\")) //print Jamie\n",
    "\n",
    "//option can be assigned with Some(option with value) or None(option without value)\n",
    "op = None\n",
    "println(op) //print None\n",
    "op = Some(\"Jamie\")\n",
    "println(op) //print Jamie\n",
    "\n",
    "//Higher order functions take other functions as parameters\n",
    "//or return a function as a result.\n",
    "//This is possible because functions are first-class values in Scala.\n",
    "val salaries = Seq(20000, 70000, 40000)\n",
    "println(\"Salary is: \" + salaries)\n",
    "//return function to multiple a value by 2\n",
    "val doubleSalary = (x: Int) => x * 2\n",
    "\n",
    "//Higher order function often used in map method of List\n",
    "val newSalaries = salaries.map(doubleSalary)\n",
    "//or using anonymous function\n",
    "val newSalaries1 = salaries.map(x=>x * 2)\n",
    "println(\"doubled salary is: \" + newSalaries1)\n",
    "\n",
    "//map function for collection\n",
    "//map will return a new map by a function parameter\n",
    "val myVector = Vector(1,2,3,4,5)\n",
    "var myVector1 = myVector.map(number=>number+1)\n",
    "println(\"Old vector: \" + myVector)\n",
    "println(\"New vector: \" + myVector1)\n",
    "\n",
    "//flatMap method for collection\n",
    "val fruits = List(\"Apple\", \"Pear\")\n",
    "println(\"Original map:\" + fruits)\n",
    "println(\"Flat map:\" + fruits.flatMap(word=>word))\n",
    "\n",
    "//filter function for collection\n",
    "//filter will return a new map, which contains item filtered by a function parameter\n",
    "val languages = List(\"python\", \"java\")\n",
    "val python = languages.filter(lang=>lang.contains(\"py\"))\n",
    "println(\"Language contains 'python': \" + python)\n",
    "\n",
    "//foreach function will execute some method for each item in collection\n",
    "var listForeach = List(1,2)\n",
    "listForeach.foreach(println)\n",
    "\n",
    "//forall function(if all elements satisfy condition, return true)\n",
    "var result = listForeach.forall(number=>number>100)\n",
    "println(result)\n",
    "\n",
    "//reduce method for collection\n",
    "val numbers = 1 to 10\n",
    "println(\"The numbers:\" + numbers)\n",
    "println(\"Add them together:\" + numbers.reduce(_+_))\n",
    "println(\"Multiple them together:\" + numbers.product)\n",
    "\n",
    "//exist and find(find will only find the first value which matches the condition)\n",
    "println(\"Is there a number which is more than 100?\" + numbers.exists(value=>value>100))\n",
    "println(\"Find first value which is less than 7: \" + numbers.find(number=>number<=7).get)\n",
    "\n",
    "//takeWhile(take the item to a new list, until find item which do not match condition)\n",
    "//and dropWhile(drop item from list, unit find item which do not matched items)\n",
    "//will return an empty list\n",
    "println(numbers.takeWhile(num=>num>2))\n",
    "//will still return list contains 1 to 10\n",
    "println(numbers.dropWhile(num=>num>2))\n",
    "\n",
    "//Companion object:\n",
    "//an object and a class are in the same source file\n",
    "object TheObj{\n",
    "  private val defaultMessage:String =\"Hello: message from object private member\"\n",
    "}\n",
    "\n",
    "//class TheObj can access private member of Hello object\n",
    "class TheObj(message:String=TheObj.defaultMessage){\n",
    "  println(\"Message:\" + message)\n",
    "}\n",
    "\n",
    "//will print defaultMessage in TheObj\n",
    "val theObj = new TheObj();\n",
    "\n",
    "//For and yield\n",
    "val myNums = 1 to 3\n",
    "val myVec = for(i <- myNums if i%2 == 1) yield i\n",
    "println(\"Vector can't divided by : \" + myVec)\n",
    "\n",
    "//i = 1,3; j: from 1 to 1; 1 to 3\n",
    "val myVec1 = for{\n",
    "  i <- myNums if i%2 == 1\n",
    "  j <- 1 to i\n",
    "}yield i*j\n",
    "println(myVec1)\n",
    "}"
   ]
  }
 ],
 "metadata": {
  "kernelspec": {
   "display_name": "Scala",
   "language": "scala",
   "name": "scala"
  },
  "language_info": {
   "codemirror_mode": "text/x-scala",
   "file_extension": ".scala",
   "mimetype": "text/x-scala",
   "name": "scala",
   "nbconvert_exporter": "script",
   "version": "2.12.10"
  },
  "toc": {
   "base_numbering": 1,
   "nav_menu": {},
   "number_sections": true,
   "sideBar": true,
   "skip_h1_title": false,
   "title_cell": "Table of Contents",
   "title_sidebar": "Contents",
   "toc_cell": false,
   "toc_position": {},
   "toc_section_display": true,
   "toc_window_display": true
  }
 },
 "nbformat": 4,
 "nbformat_minor": 4
}
